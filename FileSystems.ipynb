{
 "cells": [
  {
   "cell_type": "code",
   "execution_count": 1,
   "metadata": {
    "collapsed": false
   },
   "outputs": [
    {
     "data": {
      "text/plain": [
       "\u001b[32mimport \u001b[36mjava.nio.file._\u001b[0m\n",
       "\u001b[32mimport \u001b[36mjava.io.File\u001b[0m\n",
       "\u001b[32mimport \u001b[36mscala.collection.JavaConverters._\u001b[0m"
      ]
     },
     "metadata": {},
     "output_type": "display_data"
    }
   ],
   "source": [
    "import java.nio.file._\n",
    "import java.io.File\n",
    "import scala.collection.JavaConverters._"
   ]
  },
  {
   "cell_type": "code",
   "execution_count": 55,
   "metadata": {
    "collapsed": false
   },
   "outputs": [
    {
     "name": "stdout",
     "output_type": "stream",
     "text": [
      "/ (rootfs)                                                     943128       404572       473432\n",
      "/sys (sysfs)                                                        0            0            0\n",
      "/proc (proc)                                                        0            0            0\n",
      "/dev (udev)                                                     10240            0        10240\n",
      "/dev/pts (devpts)                                                   0            0            0\n",
      "/run (tmpfs)                                                  6372108        26020      6346088\n",
      "/ (/dev/dm-0)                                                  943128       404572       473432\n",
      "/usr (/dev/dm-1)                                             19092180     10939132      7160180\n",
      "/sys/kernel/security (securityfs)                                   0            0            0\n",
      "/dev/shm (tmpfs)                                             15930268        11464     15918804\n",
      "/run/lock (tmpfs)                                                5120            4         5116\n",
      "/sys/fs/cgroup (tmpfs)                                       15930268            0     15930268\n",
      "/sys/fs/cgroup/systemd (cgroup)                                     0            0            0\n",
      "/sys/fs/pstore (pstore)                                             0            0            0\n",
      "/sys/fs/cgroup/cpuset (cgroup)                                      0            0            0\n",
      "/sys/fs/cgroup/cpu,cpuacct (cgroup)                                 0            0            0\n",
      "/sys/fs/cgroup/devices (cgroup)                                     0            0            0\n",
      "/sys/fs/cgroup/freezer (cgroup)                                     0            0            0\n",
      "/sys/fs/cgroup/net_cls,net_prio (cgroup)                            0            0            0\n",
      "/sys/fs/cgroup/blkio (cgroup)                                       0            0            0\n",
      "/sys/fs/cgroup/perf_event (cgroup)                                  0            0            0\n",
      "/etc/machine-id (tmpfs)                                       6372108        26020      6346088\n",
      "/proc/sys/fs/binfmt_misc (systemd-1)                                0            0            0\n",
      "/dev/mqueue (mqueue)                                                0            0            0\n",
      "/sys/kernel/debug (debugfs)                                         0            0            0\n",
      "/dev/hugepages (hugetlbfs)                                          0            0            0\n",
      "/sys/fs/fuse/connections (fusectl)                                  0            0            0\n",
      "/mnt/unsafe/Media (/dev/sdc1)                               961301000    445788196    466658420\n",
      "/srv (/dev/mapper/vg.srv-srv)                               230562964    175083980     43743944\n",
      "/home (/dev/mapper/vg.usr-home)                              61388820     46093268     12154128\n",
      "/opt (/dev/mapper/vg.sys-opt)                                28707836     16238108     10988412\n",
      "/var (/dev/mapper/vg.sys-var)                                11403544      6149396      4651832\n",
      "/data (/dev/mapper/data-data)                               240179720        60580    227895652\n",
      "/tmp (/dev/mapper/tmp-tmp)                                   30610368       216304     28816080\n",
      "/run/rpc_pipefs (rpc_pipefs)                                        0            0            0\n",
      "/proc/sys/fs/binfmt_misc (binfmt_misc)                              0            0            0\n",
      "/run/user/1000 (tmpfs)                                        3186056           36      3186020\n"
     ]
    },
    {
     "data": {
      "text/plain": []
     },
     "metadata": {},
     "output_type": "display_data"
    }
   ],
   "source": [
    "FileSystems.getDefault.getFileStores.asScala.foreach { store =>\n",
    "  val total = store.getTotalSpace / 1024\n",
    "  val used  = (store.getTotalSpace - store.getUnallocatedSpace) / 1024\n",
    "  val avail = store.getUsableSpace / 1024\n",
    "  println(f\"${store}%-56s ${total}%12d ${used}%12d ${avail}%12d\")                                          \n",
    "}"
   ]
  }
 ],
 "metadata": {
  "kernelspec": {
   "display_name": "Scala 2.11",
   "language": "scala211",
   "name": "scala211"
  },
  "language_info": {
   "codemirror_mode": "text/x-scala",
   "file_extension": ".scala",
   "mimetype": "text/x-scala",
   "name": "scala211",
   "pygments_lexer": "scala",
   "version": "2.11.8"
  }
 },
 "nbformat": 4,
 "nbformat_minor": 0
}
