{
 "cells": [
  {
   "cell_type": "markdown",
   "metadata": {},
   "source": [
    "This is just another \"test\" sent by a recruiter agency which I share here so that they will have to invent another one."
   ]
  },
  {
   "cell_type": "markdown",
   "metadata": {},
   "source": [
    "https://raw.githubusercontent.com/frgomes/jupyter-notebooks/master/NowTV%20-%20Puzzle%20Solver.ipynb"
   ]
  },
  {
   "cell_type": "markdown",
   "metadata": {},
   "source": [
    "The Problem\n",
    "======\n",
    "\n",
    "Word puzzle solver\n",
    "-------\n",
    "\n",
    "Some newspapers have a word problem where nine characters are displayed and you form as many words as possible from these letters.  You must use the highlighted letter.\n",
    "\n",
    "For example:\n",
    "\n",
    "http://nineletterword.tompaton.com/\n",
    "\n",
    " \n",
    "\n",
    "For our problem, you are given a nine character string and need to return a list of strings containing all words you can form, which must also contain the first character of the input string.  The words should check against an online word list such as:\n",
    "\n",
    "https://raw.githubusercontent.com/dwyl/english-words/master/words.txt\n",
    "\n",
    " \n",
    "\n",
    "The starting method signature is:\n",
    "\n",
    " \n",
    "```scala\n",
    "def solutions(in: String): List[String] = ???\n",
    "```"
   ]
  },
  {
   "cell_type": "markdown",
   "metadata": {},
   "source": [
    "----"
   ]
  },
  {
   "cell_type": "markdown",
   "metadata": {},
   "source": [
    "Solution\n",
    "====\n",
    "\n",
    "The solution is presented as a Jupyter notebook, a prototyping tool very valuable for testing ideas, validating what you are doing, understanding pros and cons, perform performance measurements, take a look at data structures, etc... before you write any code into the IDE.\n",
    "\n",
    "What about test cases?\n",
    "----\n",
    "\n",
    "The code presented here works. It was already tested interatively and bugs were already fixed.\n",
    "\n",
    "It does not mean that an application meant to be put in production does not need test cases. On the contrary. After moving the code snippets from here to the IDE, you will have to write test cases as usual, make sure the code builds, all tests pass under Jenkins, etc.\n",
    "\n",
    "The main difference is: you write code **after**, not *before* you arrive to a conceptual solution, not *before* you are confident you are in the right track.\n",
    "\n",
    "It simply does not make sense starting writing tests before thinking about the algorithm, performance concerns and data structures involved.\n",
    "\n",
    "What about TDD?\n",
    "----\n",
    "\n",
    "I'm not against TDD.\n",
    "\n",
    "However, TDD does not imply necessarily writing tests before you have a reasonable good idea about how your application should look like.\n",
    "\n",
    "TDD *before* you understand the problem domain and how the application should look like implies that you arrive to tests which probably work pretty well ... but later you realize that you are solving the overall problem pretty badly, which means that your application demands reengineering.\n",
    "\n",
    "In other words: rework.\n",
    "\n",
    "Rework takes time and costs money. You'd better understand the problem domain pretty well in the beginning, when you don't have anything written and it's pretty easy to crunch a piece of paper with bad ideas, throw it away and start over fresh with brand new piece of paper."
   ]
  },
  {
   "cell_type": "markdown",
   "metadata": {},
   "source": [
    "----"
   ]
  },
  {
   "cell_type": "markdown",
   "metadata": {},
   "source": [
    "Dictionary words\n",
    "------------------\n",
    "This is a dataset consisting of 350,000+ words apparently collected from a number of documents not known at this time. Several words are not really words but parts of words such as *'s*, *'ll*, *'mongst*. Also, there are numbers like *2*, *1080*, *3rd*. Also, there are expressions like *ahh*. So, a data cleansing would be probably a good idea here.\n",
    "\n",
    "However, for the sake of this exercise, we simply consider all entries of the dictionary as valid entries."
   ]
  },
  {
   "cell_type": "code",
   "execution_count": 1,
   "metadata": {
    "collapsed": false
   },
   "outputs": [
    {
     "data": {
      "text/plain": [
       "\u001b[36msource\u001b[0m: \u001b[32mio\u001b[0m.\u001b[32mBufferedSource\u001b[0m = non-empty iterator"
      ]
     },
     "metadata": {},
     "output_type": "display_data"
    }
   ],
   "source": [
    "val source = scala.io.Source.fromURL(\"https://raw.githubusercontent.com/dwyl/english-words/master/words.txt\")"
   ]
  },
  {
   "cell_type": "markdown",
   "metadata": {},
   "source": [
    "Hashtables and prime numbers\n",
    "--------------------------------\n",
    "In order to expedite access to the dictionary, we calculate a hash code for a given word and we insert that word into a balanced tree.\n",
    "\n",
    "Given that there are 350,000+ words in the dictionary, we've chosen a prime number so that we expect that each balanced tree will have up to 20 elements or so, which means that we can arrive to the word we are looking for in up to 5 comparisons, supported by a tree of up to 32 elements.\n",
    "\n",
    "There's no really guarantee that all trees will have up to 32 elements. This is just an expectation which may or may not turn to be true. After building the trees we check what would be the most populated tree, in order to double check if the prime number we've chosen seems to be a reasonable choice.\n",
    "\n",
    "Hashing and hashing again\n",
    "-----------------------------\n",
    "To be more precise, we find the ``hashCode`` (let's call it simply ``hash``), we divide it by a prime number, finding a another hash which is more manageable (let's call it ``tinyHash``).\n",
    "\n",
    "```scala\n",
    "val hash     = word.hashCode\n",
    "val tinyHash = hash % prime\n",
    "```\n",
    "\n",
    "This is done this way since we will keep a reasonably small data structure indexed by ``tinyHash``. Each entry in this data structure is a balanced tree which contains words hashed by their true hash code, i.e.: ``hash``. This way we try to avoid collisions.\n",
    "\n",
    "Balanced trees and binary search\n",
    "-------------------------------------\n",
    "\n",
    "Despite our efforts to avoid collisions in the previous step, there's no really guarantee that we will definitely avoid collisions at all times. If we fail to do that, the last update wins, which means that only the last word inserted will be present in the tree, since it overwrites all other words with the very same hash code.\n",
    "\n",
    "How we can circumvent this problem?\n",
    "\n",
    "One answer would be employing a balanced tree which supports duplicates. Another way would be employing some other data structure which behaves well in the presence of duplicates.\n",
    "\n",
    "So, instead of a balance tree, we will be simply storing an ordered list of words. Given that this data structure is ordered, we can then employ a **binary search** in order to arrive to a possible match. The number of comparisons of a binary search is (not by coincidence!) the same number of comparisons we would observe if we were employing a balanced tree."
   ]
  },
  {
   "cell_type": "code",
   "execution_count": 2,
   "metadata": {
    "collapsed": false
   },
   "outputs": [
    {
     "data": {
      "text/plain": [
       "\u001b[36mprime\u001b[0m: \u001b[32mInt\u001b[0m = \u001b[32m16381\u001b[0m"
      ]
     },
     "metadata": {},
     "output_type": "display_data"
    }
   ],
   "source": [
    "val prime = 16381"
   ]
  },
  {
   "cell_type": "code",
   "execution_count": 3,
   "metadata": {
    "collapsed": false
   },
   "outputs": [
    {
     "data": {
      "text/plain": [
       "\u001b[36mlines\u001b[0m: \u001b[32mSeq\u001b[0m[\u001b[32mString\u001b[0m] = \u001b[33mList\u001b[0m(\n",
       "  \u001b[32m\"&c\"\u001b[0m,\n",
       "  \u001b[32m\"'d\"\u001b[0m,\n",
       "  \u001b[32m\"'em\"\u001b[0m,\n",
       "  \u001b[32m\"'ll\"\u001b[0m,\n",
       "  \u001b[32m\"'m\"\u001b[0m,\n",
       "  \u001b[32m\"'mid\"\u001b[0m,\n",
       "  \u001b[32m\"'midst\"\u001b[0m,\n",
       "  \u001b[32m\"'mongst\"\u001b[0m,\n",
       "  \u001b[32m\"'prentice\"\u001b[0m,\n",
       "  \u001b[32m\"'re\"\u001b[0m,\n",
       "  \u001b[32m\"'s\"\u001b[0m,\n",
       "  \u001b[32m\"'sblood\"\u001b[0m,\n",
       "  \u001b[32m\"'sbodikins\"\u001b[0m,\n",
       "  \u001b[32m\"'sdeath\"\u001b[0m,\n",
       "  \u001b[32m\"'sfoot\"\u001b[0m,\n",
       "  \u001b[32m\"'sheart\"\u001b[0m,\n",
       "  \u001b[32m\"'shun\"\u001b[0m,\n",
       "  \u001b[32m\"'slid\"\u001b[0m,\n",
       "  \u001b[32m\"'slife\"\u001b[0m,\n",
       "\u001b[33m...\u001b[0m"
      ]
     },
     "metadata": {},
     "output_type": "display_data"
    }
   ],
   "source": [
    "val lines: Seq[String] = source.getLines.toList"
   ]
  },
  {
   "cell_type": "code",
   "execution_count": 4,
   "metadata": {
    "collapsed": false
   },
   "outputs": [
    {
     "data": {
      "text/plain": [
       "\u001b[36mdict\u001b[0m: \u001b[32mMap\u001b[0m[\u001b[32mInt\u001b[0m, \u001b[32mArray\u001b[0m[\u001b[32mString\u001b[0m]] = \u001b[33mMap\u001b[0m(\n",
       "  \u001b[32m14221\u001b[0m -> \u001b[33mArray\u001b[0m(\n",
       "    \u001b[32m\"boarding\"\u001b[0m,\n",
       "    \u001b[32m\"bocal\"\u001b[0m,\n",
       "    \u001b[32m\"equibalanced\"\u001b[0m,\n",
       "    \u001b[32m\"eudaemonic\"\u001b[0m,\n",
       "    \u001b[32m\"everglade\"\u001b[0m,\n",
       "    \u001b[32m\"gyrfalcon\"\u001b[0m,\n",
       "    \u001b[32m\"hierophanticly\"\u001b[0m,\n",
       "    \u001b[32m\"horizon's\"\u001b[0m,\n",
       "    \u001b[32m\"inbits\"\u001b[0m,\n",
       "    \u001b[32m\"khahoon\"\u001b[0m,\n",
       "    \u001b[32m\"peritonsillar\"\u001b[0m,\n",
       "    \u001b[32m\"preconversational\"\u001b[0m,\n",
       "    \u001b[32m\"primuses\"\u001b[0m,\n",
       "    \u001b[32m\"realive\"\u001b[0m,\n",
       "    \u001b[32m\"reprehensibly\"\u001b[0m,\n",
       "    \u001b[32m\"rhinocerotine\"\u001b[0m,\n",
       "    \u001b[32m\"summonable\"\u001b[0m,\n",
       "    \u001b[32m\"swellfishes\"\u001b[0m,\n",
       "\u001b[33m...\u001b[0m"
      ]
     },
     "metadata": {},
     "output_type": "display_data"
    }
   ],
   "source": [
    "val dict = lines.groupBy(line => (line.hashCode%prime).abs).mapValues(_.sorted.toArray)"
   ]
  },
  {
   "cell_type": "markdown",
   "metadata": {},
   "source": [
    "Verifying tree depth\n",
    "-----------------------\n",
    "We've chosen the prime number so that we would expect up to 5 comparisons, i.e.: a tree with up to 32 elements. Lets verify what would be the maximum number of elements we've got. If it is less than or equal to 32, we are doing things according to plan."
   ]
  },
  {
   "cell_type": "code",
   "execution_count": 5,
   "metadata": {
    "collapsed": false
   },
   "outputs": [
    {
     "data": {
      "text/plain": [
       "\u001b[36mres4\u001b[0m: \u001b[32mInt\u001b[0m = \u001b[32m45\u001b[0m"
      ]
     },
     "metadata": {},
     "output_type": "display_data"
    }
   ],
   "source": [
    "dict.mapValues(_.size).map{ case (k,v) => v }.reduceLeft(_ max _)"
   ]
  },
  {
   "cell_type": "markdown",
   "metadata": {},
   "source": [
    "A bit off track\n",
    "-----------------\n",
    "The maximum tree depth in this case implies on a maximum of 6 comparisons. A bit higher than we would expect but still not bad at all.\n",
    "\n",
    "Given any word, we find its *conceptual* balanced tree (actually an array which we find information employing a binary search) in constant time. After that, we do a maximum of 6 comparisons. It's not bad at all.\n",
    "\n",
    "Obviously we can make it better if performance happens to be an issue. In order to do that, we need to try other prime numbers. I will let this exercise for the reader.\n",
    "\n",
    "Ability to find words\n",
    "---------------------\n",
    "OK. Now we need the ability to find words in the dictionary.\n",
    "\n",
    "Given a certain ``String``, we need to find its ``hash`` and its ``tinyHash``. The ``tinyHash`` is employed so that we can find the *conceptual* balanced tree (implemented as an ordered ``Array[String]``). Found that, we then perform a binary search.\n",
    "\n",
    "The binary search will find words which match the ``String`` we have at hand, in case there's such word in the dictionary. We will not use ``hash`` directly, despite that the algorithm which performs the binary search may or may not employ the very same concept.\n",
    "\n",
    "OK. First of all, we need to wrap ``java.util.Array#binarySearch`` into something a bit more convenient:"
   ]
  },
  {
   "cell_type": "code",
   "execution_count": 6,
   "metadata": {
    "collapsed": false
   },
   "outputs": [
    {
     "data": {
      "text/plain": [
       "defined \u001b[32mclass \u001b[36mRichArray\u001b[0m\n",
       "defined \u001b[32mfunction \u001b[36mrichArray\u001b[0m"
      ]
     },
     "metadata": {},
     "output_type": "display_data"
    }
   ],
   "source": [
    "class RichArray[T <: AnyRef](a: Array[T]) { \n",
    "   def binarySearch(key: T) = {\n",
    "     java.util.Arrays.binarySearch(a.asInstanceOf[Array[AnyRef]],key)\n",
    "   }\n",
    "}\n",
    "implicit def richArray[T <: AnyRef](a: Array[T]) = new RichArray(a)\n"
   ]
  },
  {
   "cell_type": "markdown",
   "metadata": {},
   "source": [
    "Finding one word or two\n",
    "-----------------------\n",
    "Now let's exercise the idea.\n",
    "\n",
    "Given a certain ``String``, we find the *conceptual balanced tree* (which is actually implemented as an ordered ``Array[String]``) and we perform a binary search.\n",
    "\n",
    "If we find a positive index, it's in the dictionary. If we find a negative index, it's not."
   ]
  },
  {
   "cell_type": "code",
   "execution_count": 7,
   "metadata": {
    "collapsed": false
   },
   "outputs": [
    {
     "data": {
      "text/plain": [
       "\u001b[36mword\u001b[0m: \u001b[32mString\u001b[0m = \u001b[32m\"resilient\"\u001b[0m\n",
       "\u001b[36mtinyHash\u001b[0m: \u001b[32mInt\u001b[0m = \u001b[32m15619\u001b[0m\n",
       "\u001b[36mindex\u001b[0m: \u001b[32mInt\u001b[0m = \u001b[32m10\u001b[0m\n",
       "\u001b[36mfound\u001b[0m: \u001b[32mBoolean\u001b[0m = \u001b[32mtrue\u001b[0m"
      ]
     },
     "metadata": {},
     "output_type": "display_data"
    }
   ],
   "source": [
    "{\n",
    "    val word = \"resilient\"\n",
    "    val tinyHash = (word.hashCode % prime).abs\n",
    "    val index = dict(tinyHash).binarySearch(word)\n",
    "    val found = index >= 0\n",
    "}"
   ]
  },
  {
   "cell_type": "code",
   "execution_count": 8,
   "metadata": {
    "collapsed": false
   },
   "outputs": [
    {
     "data": {
      "text/plain": [
       "\u001b[36mword\u001b[0m: \u001b[32mString\u001b[0m = \u001b[32m\"linux\"\u001b[0m\n",
       "\u001b[36mtinyHash\u001b[0m: \u001b[32mInt\u001b[0m = \u001b[32m6814\u001b[0m\n",
       "\u001b[36mindex\u001b[0m: \u001b[32mInt\u001b[0m = \u001b[32m-13\u001b[0m\n",
       "\u001b[36mfound\u001b[0m: \u001b[32mBoolean\u001b[0m = \u001b[32mfalse\u001b[0m"
      ]
     },
     "metadata": {},
     "output_type": "display_data"
    }
   ],
   "source": [
    "{\n",
    "    val word = \"linux\"\n",
    "    val tinyHash = (word.hashCode % prime).abs\n",
    "    val index = dict(tinyHash).binarySearch(word)\n",
    "    val found = index >= 0\n",
    "}"
   ]
  },
  {
   "cell_type": "code",
   "execution_count": null,
   "metadata": {
    "collapsed": true
   },
   "outputs": [],
   "source": []
  },
  {
   "cell_type": "markdown",
   "metadata": {},
   "source": [
    "Sizing the problem\n",
    "---------------------\n",
    "\n",
    "OK. Now that we know that we can find words in the dictionary limited by a higher boundary of 6 comparisons, it's time to think about how we can find the words from the puzzle in the dictionary.\n",
    "\n",
    "The problem is: we don't have words in the puzzle: we have just a certain quantity of letters which may be eventually a dictionary word. This is not really a problem, since we can determine if a candidate string is a dictionary word in just 6 comparisons. The problem is the size of the problem.\n",
    "\n",
    "The problem is that we have up to 9 letters as a candidate word and we can shuffle these letters any way we wish; we can also remove letters and shuffle again. The problem is that the size of the problem is *roughly* P(9,8) + P(9,7) + ... + P(9,3) + P(9,2) where P(n,m) represents the permutation of *n* letters grouped by *m*. This is a big number. P(9,8) is ~43 million... so we don't even need to finish the entire calculation to realize that performing these sort of permutations **is not** the way to go.\n",
    "\n",
    "\n",
    "A tentative approach\n",
    "-----------------------\n",
    "What if we do not make any permutations at all? We could simply consider a certain set of letters, regardless their relative order.\n",
    "\n",
    "Now the problem reduces to the ability to find in the dictionary those words which share the same properties of that set of letters we have at hand, regardless their relative order.\n",
    "\n",
    "We could also try to reduce the problem given the number of letters we have. Since we've selected 5 letters, we can be sure that dictionary words made of 4 letters are not good candidates.\n",
    "\n",
    "OK. The idea is: let's calculate a relatively naive hash function and attach information about the number of letters we are interested. For example (and simplistically):\n",
    "\n",
    "```scala\n",
    "val naiveHash = s(0) + s(1) + ... + s(n-1)\n",
    "val naiveHashPlusSize = naiveHash * 10 + (n%10)\n",
    "```\n",
    "\n",
    "OK. Now we have to calculate ``naiveHashPlusSize`` for every word in the dictionary and create another data structure which classfies words according to this criteria.\n",
    "\n",
    "\n",
    "Refining our plan\n",
    "--------------------\n",
    "\n",
    "So, the idea is now calculate the ``naiveHashPlusSize`` for a candidate word from the puzzle and find a list of dictionary words which match the same ``naiveHashPlusSize``. Sounds good. But, how many dictionary words we are really talking about?\n",
    "\n",
    "Well... it depends on the number of entries in the hashtable and their statistic distribution. We don't really know this information at this point. Let's simply try this idea and see if we obtain a data structure which looks to be reasonable, in other words: there's a relatively manageable number of words sharing the same ``naiveHashPlusSize``."
   ]
  },
  {
   "cell_type": "code",
   "execution_count": 9,
   "metadata": {
    "collapsed": false
   },
   "outputs": [
    {
     "data": {
      "text/plain": [
       "defined \u001b[32mfunction \u001b[36mnaiveHashPlusSize\u001b[0m"
      ]
     },
     "metadata": {},
     "output_type": "display_data"
    }
   ],
   "source": [
    "def naiveHashPlusSize(s: String): Int = {\n",
    "    (s.map(c => c - ' ').sum * 10) + (s.length % 10)\n",
    "}"
   ]
  },
  {
   "cell_type": "code",
   "execution_count": 10,
   "metadata": {
    "collapsed": false
   },
   "outputs": [
    {
     "data": {
      "text/plain": [
       "\u001b[36mdict2\u001b[0m: \u001b[32mMap\u001b[0m[\u001b[32mInt\u001b[0m, \u001b[32mArray\u001b[0m[\u001b[32mString\u001b[0m]] = \u001b[33mMap\u001b[0m(\n",
       "  \u001b[32m2163\u001b[0m -> \u001b[33mArray\u001b[0m(\n",
       "    \u001b[32m\"abu\"\u001b[0m,\n",
       "    \u001b[32m\"act\"\u001b[0m,\n",
       "    \u001b[32m\"ads\"\u001b[0m,\n",
       "    \u001b[32m\"aer\"\u001b[0m,\n",
       "    \u001b[32m\"aho\"\u001b[0m,\n",
       "    \u001b[32m\"ain\"\u001b[0m,\n",
       "    \u001b[32m\"alk\"\u001b[0m,\n",
       "    \u001b[32m\"ani\"\u001b[0m,\n",
       "    \u001b[32m\"are\"\u001b[0m,\n",
       "    \u001b[32m\"ava\"\u001b[0m,\n",
       "    \u001b[32m\"bim\"\u001b[0m,\n",
       "    \u001b[32m\"bog\"\u001b[0m,\n",
       "    \u001b[32m\"cat\"\u001b[0m,\n",
       "    \u001b[32m\"cep\"\u001b[0m,\n",
       "    \u001b[32m\"chm\"\u001b[0m,\n",
       "    \u001b[32m\"cli\"\u001b[0m,\n",
       "    \u001b[32m\"crc\"\u001b[0m,\n",
       "    \u001b[32m\"das\"\u001b[0m,\n",
       "\u001b[33m...\u001b[0m"
      ]
     },
     "metadata": {},
     "output_type": "display_data"
    }
   ],
   "source": [
    "val dict2 = lines.groupBy(line => naiveHashPlusSize(line)).mapValues(_.sorted.toArray)"
   ]
  },
  {
   "cell_type": "code",
   "execution_count": 11,
   "metadata": {
    "collapsed": false
   },
   "outputs": [
    {
     "data": {
      "text/plain": [
       "\u001b[36mres10\u001b[0m: \u001b[32mInt\u001b[0m = \u001b[32m1095\u001b[0m"
      ]
     },
     "metadata": {},
     "output_type": "display_data"
    }
   ],
   "source": [
    "dict2.mapValues(_.size).map{ case (k,v) => v }.reduceLeft(_ max _)"
   ]
  },
  {
   "cell_type": "markdown",
   "metadata": {},
   "source": [
    "Looks relatively well\n",
    "---------------------\n",
    "In a nutshell, it means that we will do a maximum of ~1100 comparisons in the worst case.\n",
    "\n",
    "This is definitely better than a full table scan as per\n",
    "https://github.com/dwyl/autocomplete/blob/master/index.js"
   ]
  },
  {
   "cell_type": "markdown",
   "metadata": {},
   "source": [
    "More refinements?\n",
    "-----------------\n",
    "\n",
    "There's definitely room for more refinements.\n",
    "\n",
    "The way it is at the moment, for every word in our data structure (here called ``dict2``) we will have to compare if shuffling this word eventually arrives to the candidate word we have at hand.\n",
    "\n",
    "Actually, it's easier to do something different: we sort the candidate word we have at hand and we sort the word obtained from ``dict2`` and we see whether they match or not. Something like this:\n",
    "\n",
    "```scala\n",
    "if(candidate.sorted == word.sorted) ... // we've found something here!\n",
    "```\n",
    "\n",
    "We will have to do this ~1100 times in the worst case, every time a new candidate word is entered. It would be nice if we had a binary search here too. Employing a binary search, we reduce the number of comparisons from ~1100 to only ~10 comparisons.\n",
    "\n",
    "Given a candidate word, we sort its component letters and we try to find it in the hashtable which, not by coincidence, must have dictionary words already sorted too.\n",
    "\n",
    "To be more precise, we actually have to keep both: we need to find dictionary words via its sorted representation and, after that, we need to return the original representation, as plain text, exactly as provided in the input source.\n",
    "\n",
    "Since dictionary words may collide after sorted, we need to actually store a hashtable inside a hashtable. There's simply no way to escape this fact, even if we find a bigger prime number as divisor, even if we do not divide the calculated hash by any prime number at all.\n",
    "\n",
    "The data structure consists of a hashtable or hashtables, as shown below:"
   ]
  },
  {
   "cell_type": "code",
   "execution_count": 28,
   "metadata": {
    "collapsed": false
   },
   "outputs": [
    {
     "data": {
      "text/plain": [
       "\u001b[36mres27\u001b[0m: \u001b[32mMap\u001b[0m[\u001b[32mInt\u001b[0m, \u001b[32mMap\u001b[0m[\u001b[32mString\u001b[0m, \u001b[32mSeq\u001b[0m[\u001b[32mString\u001b[0m]]] = \u001b[33mMap\u001b[0m(\n",
       "  \u001b[32m1\u001b[0m -> \u001b[33mMap\u001b[0m(\n",
       "    \u001b[32m\"acju\"\u001b[0m -> \u001b[33mList\u001b[0m(\u001b[32m\"jacu\"\u001b[0m, \u001b[32m\"cuja\"\u001b[0m),\n",
       "    \u001b[32m\"aacf\"\u001b[0m -> \u001b[33mList\u001b[0m(\u001b[32m\"faca\"\u001b[0m, \u001b[32m\"cafa\"\u001b[0m),\n",
       "    \u001b[32m\"abb\"\u001b[0m -> \u001b[33mList\u001b[0m(\u001b[32m\"abb\"\u001b[0m, \u001b[32m\"bba\"\u001b[0m)\n",
       "  ),\n",
       "  \u001b[32m0\u001b[0m -> \u001b[33mMap\u001b[0m(\u001b[32m\"aabb\"\u001b[0m -> \u001b[33mList\u001b[0m(\u001b[32m\"aabb\"\u001b[0m, \u001b[32m\"abba\"\u001b[0m, \u001b[32m\"bbaa\"\u001b[0m), \u001b[32m\"aab\"\u001b[0m -> \u001b[33mList\u001b[0m(\u001b[32m\"aba\"\u001b[0m))\n",
       ")"
      ]
     },
     "metadata": {},
     "output_type": "display_data"
    }
   ],
   "source": [
    "Seq(\"faca\", \"cafa\", \"jacu\", \"cuja\", \"abb\", \"bba\", \"aba\", \"aabb\", \"abba\", \"bbaa\")\n",
    "    .groupBy(line => line.hashCode.abs%2)\n",
    "    .mapValues(words => \n",
    "                 words\n",
    "                   .map(word => (word.sorted -> word))\n",
    "                   .groupBy(_._1).map { case (k,v) => (k,v.map(_._2))})"
   ]
  },
  {
   "cell_type": "markdown",
   "metadata": {},
   "source": [
    "Now let's define ``dict3``, which hopefully is our final version of the most important data structure we need to solve this exercise."
   ]
  },
  {
   "cell_type": "code",
   "execution_count": 13,
   "metadata": {
    "collapsed": false
   },
   "outputs": [
    {
     "data": {
      "text/plain": [
       "\u001b[36mdict3\u001b[0m: \u001b[32mMap\u001b[0m[\u001b[32mInt\u001b[0m, \u001b[32mMap\u001b[0m[\u001b[32mString\u001b[0m, \u001b[32mSeq\u001b[0m[\u001b[32mString\u001b[0m]]] = \u001b[33mMap\u001b[0m(\n",
       "  \u001b[32m2163\u001b[0m -> \u001b[33mMap\u001b[0m(\n",
       "    \u001b[32m\"aho\"\u001b[0m -> \u001b[33mList\u001b[0m(\u001b[32m\"aho\"\u001b[0m, \u001b[32m\"hao\"\u001b[0m),\n",
       "    \u001b[32m\"cil\"\u001b[0m -> \u001b[33mList\u001b[0m(\u001b[32m\"cli\"\u001b[0m),\n",
       "    \u001b[32m\"dgm\"\u001b[0m -> \u001b[33mList\u001b[0m(\u001b[32m\"mgd\"\u001b[0m),\n",
       "    \u001b[32m\"abu\"\u001b[0m -> \u001b[33mList\u001b[0m(\u001b[32m\"abu\"\u001b[0m),\n",
       "    \u001b[32m\"cep\"\u001b[0m -> \u001b[33mList\u001b[0m(\u001b[32m\"cep\"\u001b[0m),\n",
       "    \u001b[32m\"een\"\u001b[0m -> \u001b[33mList\u001b[0m(\u001b[32m\"een\"\u001b[0m, \u001b[32m\"nee\"\u001b[0m),\n",
       "    \u001b[32m\"bgo\"\u001b[0m -> \u001b[33mList\u001b[0m(\u001b[32m\"bog\"\u001b[0m, \u001b[32m\"gob\"\u001b[0m),\n",
       "    \u001b[32m\"bim\"\u001b[0m -> \u001b[33mList\u001b[0m(\u001b[32m\"bim\"\u001b[0m, \u001b[32m\"ibm\"\u001b[0m, \u001b[32m\"mib\"\u001b[0m),\n",
       "    \u001b[32m\"egl\"\u001b[0m -> \u001b[33mList\u001b[0m(\u001b[32m\"gel\"\u001b[0m, \u001b[32m\"leg\"\u001b[0m),\n",
       "    \u001b[32m\"afq\"\u001b[0m -> \u001b[33mList\u001b[0m(\u001b[32m\"faq\"\u001b[0m, \u001b[32m\"qaf\"\u001b[0m),\n",
       "    \u001b[32m\"ajm\"\u001b[0m -> \u001b[33mList\u001b[0m(\u001b[32m\"jam\"\u001b[0m),\n",
       "    \u001b[32m\"ads\"\u001b[0m -> \u001b[33mList\u001b[0m(\u001b[32m\"ads\"\u001b[0m, \u001b[32m\"das\"\u001b[0m, \u001b[32m\"sad\"\u001b[0m),\n",
       "    \u001b[32m\"ain\"\u001b[0m -> \u001b[33mList\u001b[0m(\u001b[32m\"ain\"\u001b[0m, \u001b[32m\"ani\"\u001b[0m),\n",
       "    \u001b[32m\"dik\"\u001b[0m -> \u001b[33mList\u001b[0m(\u001b[32m\"kid\"\u001b[0m),\n",
       "    \u001b[32m\"chm\"\u001b[0m -> \u001b[33mList\u001b[0m(\u001b[32m\"chm\"\u001b[0m),\n",
       "    \u001b[32m\"aav\"\u001b[0m -> \u001b[33mList\u001b[0m(\u001b[32m\"ava\"\u001b[0m),\n",
       "    \u001b[32m\"dhl\"\u001b[0m -> \u001b[33mList\u001b[0m(\u001b[32m\"hld\"\u001b[0m, \u001b[32m\"lhd\"\u001b[0m),\n",
       "    \u001b[32m\"efm\"\u001b[0m -> \u001b[33mList\u001b[0m(\u001b[32m\"emf\"\u001b[0m, \u001b[32m\"fem\"\u001b[0m),\n",
       "\u001b[33m...\u001b[0m"
      ]
     },
     "metadata": {},
     "output_type": "display_data"
    }
   ],
   "source": [
    "val dict3 =\n",
    "  lines\n",
    "    .groupBy(line => naiveHashPlusSize(line))\n",
    "    .mapValues(words => \n",
    "                 words\n",
    "                   .map(word => (word.sorted -> word))\n",
    "                   .groupBy(_._1).map { case (k,v) => (k,v.map(_._2))})"
   ]
  },
  {
   "cell_type": "markdown",
   "metadata": {},
   "source": [
    "Ability to match candidate words\n",
    "-------------------------------------\n",
    "\n",
    "OK. Now we are ready to enter some sort of random text and see if we find dictionary words for it. Let's try a couple of words and see how it behaves."
   ]
  },
  {
   "cell_type": "code",
   "execution_count": 14,
   "metadata": {
    "collapsed": false
   },
   "outputs": [
    {
     "data": {
      "text/plain": [
       "defined \u001b[32mfunction \u001b[36mfindWords\u001b[0m"
      ]
     },
     "metadata": {},
     "output_type": "display_data"
    }
   ],
   "source": [
    "def findWords(candidate: String): Seq[String] = {\n",
    "    val hash = naiveHashPlusSize(candidate)\n",
    "    val sorted = candidate.sorted\n",
    "    val matches = \n",
    "      dict3\n",
    "        .getOrElse(hash, Map.empty[String, Seq[String]])\n",
    "        .getOrElse(sorted, Seq.empty[String])\n",
    "        .filter(word => sorted == word.sorted)\n",
    "    matches\n",
    "}"
   ]
  },
  {
   "cell_type": "code",
   "execution_count": 15,
   "metadata": {
    "collapsed": false
   },
   "outputs": [
    {
     "data": {
      "text/plain": [
       "\u001b[36mres14\u001b[0m: \u001b[32mSeq\u001b[0m[\u001b[32mString\u001b[0m] = \u001b[33mList\u001b[0m()"
      ]
     },
     "metadata": {},
     "output_type": "display_data"
    }
   ],
   "source": [
    "findWords(\"drst\")"
   ]
  },
  {
   "cell_type": "code",
   "execution_count": 16,
   "metadata": {
    "collapsed": false
   },
   "outputs": [
    {
     "data": {
      "text/plain": [
       "\u001b[36mres15\u001b[0m: \u001b[32mSeq\u001b[0m[\u001b[32mString\u001b[0m] = \u001b[33mList\u001b[0m(\u001b[32m\"average\"\u001b[0m)"
      ]
     },
     "metadata": {},
     "output_type": "display_data"
    }
   ],
   "source": [
    "findWords(\"evarega\")"
   ]
  },
  {
   "cell_type": "code",
   "execution_count": 17,
   "metadata": {
    "collapsed": false
   },
   "outputs": [
    {
     "data": {
      "text/plain": [
       "\u001b[36mres16\u001b[0m: \u001b[32mSeq\u001b[0m[\u001b[32mString\u001b[0m] = \u001b[33mList\u001b[0m(\u001b[32m\"resilient\"\u001b[0m)"
      ]
     },
     "metadata": {},
     "output_type": "display_data"
    }
   ],
   "source": [
    "findWords(\"resliient\")"
   ]
  },
  {
   "cell_type": "markdown",
   "metadata": {},
   "source": [
    "Ability to find all candidate substrings of candidate word\n",
    "------------------------------------------------------------------\n",
    "\n",
    "Now, all we need to do is the ability to find all substrings of a candidate word, not forgetting that the **first letter** must be always present.\n",
    "\n",
    "The idea is that we find all substrings of a candidate word *except the first letter*, then we add the first letter later to all positions it would be necessary.\n",
    "\n",
    "But wait! We will sort the candidate word (or candidate substring of it) anyway. So, it does not matter. We can simply add the first letter to the beginning and we are done. Also, we don't need to care about relative order of characters, since we are going to sort letters anyway, the same way we sort dictionary words when we insert them into ``dict3``.\n",
    "\n",
    "So, below we demonstrate how it would work. Suppose the word \"darts\". We remove \"d\" and we obtain a list of substrings from \"arts\", like shown below:"
   ]
  },
  {
   "cell_type": "code",
   "execution_count": 18,
   "metadata": {
    "collapsed": false
   },
   "outputs": [
    {
     "data": {
      "text/plain": [
       "defined \u001b[32mfunction \u001b[36mparts\u001b[0m"
      ]
     },
     "metadata": {},
     "output_type": "display_data"
    }
   ],
   "source": [
    "def parts(s: String): Seq[String] = {\n",
    "    s.size match {\n",
    "        case 0 => Seq.empty[String]\n",
    "        case 1 => Seq(s(0).toString)\n",
    "        case _ => \n",
    "            s.substring(1).inits.flatMap(_.tails.toList.init).toSeq\n",
    "              .map(text => s(0) + text)\n",
    "              .toSet\n",
    "              .toList\n",
    "    }\n",
    "}"
   ]
  },
  {
   "cell_type": "code",
   "execution_count": 19,
   "metadata": {
    "collapsed": false
   },
   "outputs": [
    {
     "data": {
      "text/plain": [
       "\u001b[36mres18\u001b[0m: \u001b[32mSeq\u001b[0m[\u001b[32mString\u001b[0m] = \u001b[33mList\u001b[0m(\u001b[32m\"drts\"\u001b[0m, \u001b[32m\"dt\"\u001b[0m, \u001b[32m\"darts\"\u001b[0m, \u001b[32m\"ds\"\u001b[0m, \u001b[32m\"dart\"\u001b[0m, \u001b[32m\"drt\"\u001b[0m, \u001b[32m\"da\"\u001b[0m, \u001b[32m\"dr\"\u001b[0m, \u001b[32m\"dts\"\u001b[0m, \u001b[32m\"dar\"\u001b[0m)"
      ]
     },
     "metadata": {},
     "output_type": "display_data"
    }
   ],
   "source": [
    "parts(\"darts\")"
   ]
  },
  {
   "cell_type": "code",
   "execution_count": 20,
   "metadata": {
    "collapsed": false
   },
   "outputs": [
    {
     "data": {
      "text/plain": [
       "\u001b[36mres19\u001b[0m: \u001b[32mString\u001b[0m = \u001b[32m\"antidisestablishmentarianism\"\u001b[0m"
      ]
     },
     "metadata": {},
     "output_type": "display_data"
    }
   ],
   "source": [
    "\"Antidisestablishmentarianism\".toLowerCase"
   ]
  },
  {
   "cell_type": "markdown",
   "metadata": {},
   "source": [
    "Putting it all together\n",
    "-----------------------\n",
    "\n",
    "Now we are ready to arriving to a solution."
   ]
  },
  {
   "cell_type": "code",
   "execution_count": 21,
   "metadata": {
    "collapsed": false
   },
   "outputs": [
    {
     "data": {
      "text/plain": [
       "defined \u001b[32mfunction \u001b[36msolutions\u001b[0m"
      ]
     },
     "metadata": {},
     "output_type": "display_data"
    }
   ],
   "source": [
    "def solutions(in: String): Seq[String] = {\n",
    "    parts(in.toLowerCase).flatMap(candidate => findWords(candidate))\n",
    "}"
   ]
  },
  {
   "cell_type": "markdown",
   "metadata": {},
   "source": [
    "Doing a couple of performance tests\n",
    "-----------------------------------\n",
    "Let's employ 9 characters as the specification says. But let's also play with a bit more."
   ]
  },
  {
   "cell_type": "code",
   "execution_count": 22,
   "metadata": {
    "collapsed": false
   },
   "outputs": [
    {
     "data": {
      "text/plain": [
       "defined \u001b[32mfunction \u001b[36mtest\u001b[0m"
      ]
     },
     "metadata": {},
     "output_type": "display_data"
    }
   ],
   "source": [
    "def test(letters: String): (Seq[String], Long) = {\n",
    "    val before = new java.util.Date().getTime()\n",
    "    val result = solutions(letters)\n",
    "    val after  = new java.util.Date().getTime()\n",
    "    val elapsed = after - before\n",
    "    (result, elapsed)\n",
    "}"
   ]
  },
  {
   "cell_type": "code",
   "execution_count": 23,
   "metadata": {
    "collapsed": false
   },
   "outputs": [
    {
     "data": {
      "text/plain": [
       "\u001b[36mresult\u001b[0m: \u001b[32mSeq\u001b[0m[\u001b[32mString\u001b[0m] = \u001b[33mList\u001b[0m(\n",
       "  \u001b[32m\"lass\"\u001b[0m,\n",
       "  \u001b[32m\"sals\"\u001b[0m,\n",
       "  \u001b[32m\"ae\"\u001b[0m,\n",
       "  \u001b[32m\"ea\"\u001b[0m,\n",
       "  \u001b[32m\"am\"\u001b[0m,\n",
       "  \u001b[32m\"ma\"\u001b[0m,\n",
       "  \u001b[32m\"massel\"\u001b[0m,\n",
       "  \u001b[32m\"lyssa\"\u001b[0m,\n",
       "  \u001b[32m\"slays\"\u001b[0m,\n",
       "  \u001b[32m\"aly\"\u001b[0m,\n",
       "  \u001b[32m\"lay\"\u001b[0m,\n",
       "  \u001b[32m\"lays\"\u001b[0m,\n",
       "  \u001b[32m\"slay\"\u001b[0m,\n",
       "  \u001b[32m\"alem\"\u001b[0m,\n",
       "  \u001b[32m\"alme\"\u001b[0m,\n",
       "  \u001b[32m\"amel\"\u001b[0m,\n",
       "  \u001b[32m\"lame\"\u001b[0m,\n",
       "  \u001b[32m\"leam\"\u001b[0m,\n",
       "  \u001b[32m\"male\"\u001b[0m,\n",
       "\u001b[33m...\u001b[0m\n",
       "\u001b[36mmilliseconds\u001b[0m: \u001b[32mLong\u001b[0m = \u001b[32m44L\u001b[0m"
      ]
     },
     "metadata": {},
     "output_type": "display_data"
    }
   ],
   "source": [
    "{\n",
    "    val (result, milliseconds) = test(\"aimlessly\")\n",
    "}"
   ]
  },
  {
   "cell_type": "code",
   "execution_count": 24,
   "metadata": {
    "collapsed": false
   },
   "outputs": [
    {
     "data": {
      "text/plain": [
       "\u001b[36mresult\u001b[0m: \u001b[32mSeq\u001b[0m[\u001b[32mString\u001b[0m] = \u001b[33mList\u001b[0m(\n",
       "  \u001b[32m\"dec\"\u001b[0m,\n",
       "  \u001b[32m\"con\"\u001b[0m,\n",
       "  \u001b[32m\"nco\"\u001b[0m,\n",
       "  \u001b[32m\"crime\"\u001b[0m,\n",
       "  \u001b[32m\"merci\"\u001b[0m,\n",
       "  \u001b[32m\"co\"\u001b[0m,\n",
       "  \u001b[32m\"oc\"\u001b[0m,\n",
       "  \u001b[32m\"cfi\"\u001b[0m,\n",
       "  \u001b[32m\"cif\"\u001b[0m,\n",
       "  \u001b[32m\"cir\"\u001b[0m,\n",
       "  \u001b[32m\"confirmed\"\u001b[0m,\n",
       "  \u001b[32m\"cd\"\u001b[0m,\n",
       "  \u001b[32m\"dc\"\u001b[0m,\n",
       "  \u001b[32m\"merc\"\u001b[0m,\n",
       "  \u001b[32m\"crim\"\u001b[0m,\n",
       "  \u001b[32m\"cr\"\u001b[0m,\n",
       "  \u001b[32m\"rc\"\u001b[0m,\n",
       "  \u001b[32m\"conf\"\u001b[0m,\n",
       "  \u001b[32m\"ce\"\u001b[0m,\n",
       "\u001b[33m...\u001b[0m\n",
       "\u001b[36mmilliseconds\u001b[0m: \u001b[32mLong\u001b[0m = \u001b[32m18L\u001b[0m"
      ]
     },
     "metadata": {},
     "output_type": "display_data"
    }
   ],
   "source": [
    "{\n",
    "    val (result, milliseconds) = test(\"confirmed\")\n",
    "}"
   ]
  },
  {
   "cell_type": "code",
   "execution_count": 25,
   "metadata": {
    "collapsed": false
   },
   "outputs": [
    {
     "data": {
      "text/plain": [
       "\u001b[36mresult\u001b[0m: \u001b[32mSeq\u001b[0m[\u001b[32mString\u001b[0m] = \u001b[33mList\u001b[0m(\n",
       "  \u001b[32m\"mp\"\u001b[0m,\n",
       "  \u001b[32m\"pm\"\u001b[0m,\n",
       "  \u001b[32m\"fp\"\u001b[0m,\n",
       "  \u001b[32m\"pf\"\u001b[0m,\n",
       "  \u001b[32m\"perf\"\u001b[0m,\n",
       "  \u001b[32m\"pref\"\u001b[0m,\n",
       "  \u001b[32m\"ap\"\u001b[0m,\n",
       "  \u001b[32m\"pa\"\u001b[0m,\n",
       "  \u001b[32m\"per\"\u001b[0m,\n",
       "  \u001b[32m\"pre\"\u001b[0m,\n",
       "  \u001b[32m\"rep\"\u001b[0m,\n",
       "  \u001b[32m\"profer\"\u001b[0m,\n",
       "  \u001b[32m\"profre\"\u001b[0m,\n",
       "  \u001b[32m\"np\"\u001b[0m,\n",
       "  \u001b[32m\"rpm\"\u001b[0m,\n",
       "  \u001b[32m\"ep\"\u001b[0m,\n",
       "  \u001b[32m\"pe\"\u001b[0m,\n",
       "  \u001b[32m\"fop\"\u001b[0m,\n",
       "  \u001b[32m\"encamp\"\u001b[0m,\n",
       "\u001b[33m...\u001b[0m\n",
       "\u001b[36mmilliseconds\u001b[0m: \u001b[32mLong\u001b[0m = \u001b[32m41L\u001b[0m"
      ]
     },
     "metadata": {},
     "output_type": "display_data"
    }
   ],
   "source": [
    "{\n",
    "    val (result, milliseconds) = test(\"performance\")\n",
    "}"
   ]
  },
  {
   "cell_type": "code",
   "execution_count": 26,
   "metadata": {
    "collapsed": false
   },
   "outputs": [
    {
     "data": {
      "text/plain": [
       "\u001b[36mresult\u001b[0m: \u001b[32mSeq\u001b[0m[\u001b[32mString\u001b[0m] = \u001b[33mList\u001b[0m(\n",
       "  \u001b[32m\"del\"\u001b[0m,\n",
       "  \u001b[32m\"eld\"\u001b[0m,\n",
       "  \u001b[32m\"led\"\u001b[0m,\n",
       "  \u001b[32m\"delve\"\u001b[0m,\n",
       "  \u001b[32m\"devel\"\u001b[0m,\n",
       "  \u001b[32m\"dev\"\u001b[0m,\n",
       "  \u001b[32m\"loved\"\u001b[0m,\n",
       "  \u001b[32m\"voled\"\u001b[0m,\n",
       "  \u001b[32m\"dt\"\u001b[0m,\n",
       "  \u001b[32m\"deve\"\u001b[0m,\n",
       "  \u001b[32m\"do\"\u001b[0m,\n",
       "  \u001b[32m\"od\"\u001b[0m,\n",
       "  \u001b[32m\"moped\"\u001b[0m,\n",
       "  \u001b[32m\"loped\"\u001b[0m,\n",
       "  \u001b[32m\"poled\"\u001b[0m,\n",
       "  \u001b[32m\"dem\"\u001b[0m,\n",
       "  \u001b[32m\"med\"\u001b[0m,\n",
       "  \u001b[32m\"pendom\"\u001b[0m,\n",
       "  \u001b[32m\"vd\"\u001b[0m,\n",
       "\u001b[33m...\u001b[0m\n",
       "\u001b[36mmilliseconds\u001b[0m: \u001b[32mLong\u001b[0m = \u001b[32m33L\u001b[0m"
      ]
     },
     "metadata": {},
     "output_type": "display_data"
    }
   ],
   "source": [
    "{\n",
    "    val (result, milliseconds) = test(\"development\")\n",
    "}"
   ]
  },
  {
   "cell_type": "code",
   "execution_count": 27,
   "metadata": {
    "collapsed": false
   },
   "outputs": [
    {
     "data": {
      "text/plain": [
       "\u001b[36mresult\u001b[0m: \u001b[32mSeq\u001b[0m[\u001b[32mString\u001b[0m] = \u001b[33mList\u001b[0m(\n",
       "  \u001b[32m\"antra\"\u001b[0m,\n",
       "  \u001b[32m\"ratan\"\u001b[0m,\n",
       "  \u001b[32m\"alba\"\u001b[0m,\n",
       "  \u001b[32m\"baal\"\u001b[0m,\n",
       "  \u001b[32m\"lamish\"\u001b[0m,\n",
       "  \u001b[32m\"shimal\"\u001b[0m,\n",
       "  \u001b[32m\"anatira\"\u001b[0m,\n",
       "  \u001b[32m\"ishmael\"\u001b[0m,\n",
       "  \u001b[32m\"asse\"\u001b[0m,\n",
       "  \u001b[32m\"seas\"\u001b[0m,\n",
       "  \u001b[32m\"ae\"\u001b[0m,\n",
       "  \u001b[32m\"ea\"\u001b[0m,\n",
       "  \u001b[32m\"ament\"\u001b[0m,\n",
       "  \u001b[32m\"manet\"\u001b[0m,\n",
       "  \u001b[32m\"meant\"\u001b[0m,\n",
       "  \u001b[32m\"menat\"\u001b[0m,\n",
       "  \u001b[32m\"menta\"\u001b[0m,\n",
       "  \u001b[32m\"teman\"\u001b[0m,\n",
       "  \u001b[32m\"sidia\"\u001b[0m,\n",
       "\u001b[33m...\u001b[0m\n",
       "\u001b[36mmilliseconds\u001b[0m: \u001b[32mLong\u001b[0m = \u001b[32m155L\u001b[0m"
      ]
     },
     "metadata": {},
     "output_type": "display_data"
    }
   ],
   "source": [
    "{\n",
    "    val (result, milliseconds) = test(\"Antidisestablishmentarianism\")\n",
    "}"
   ]
  },
  {
   "cell_type": "markdown",
   "metadata": {},
   "source": [
    "Conclusion\n",
    "----------\n",
    "\n",
    "Access time around ~20ms for candidate words of 9 letters looks pretty good.\n",
    "\n",
    "The first part of the exploration was not really used in the final solution, but helped as an explorarion of the problem domain and, in particular, in regards to performance issues.\n",
    "\n",
    "But... if the input source was already sorted (or at least apparently sorted or apparently partially sorted)... why then creating expending extra time loading a relatively complex data structure? Couldn't the idea of a binary search be applicable straight away to a large ``Array[String]`` which contains all dictionary words?\n",
    "\n",
    "The short answer is: if you are willing to perform just a couple of queries... yes. However, if you are willing to provide a service which performs well under load then, in this case, performance is key and every millisecond counts.\n",
    "\n",
    "And there's still more room for optimization.\n"
   ]
  }
 ],
 "metadata": {
  "kernelspec": {
   "display_name": "Scala 2.11",
   "language": "scala211",
   "name": "scala211"
  },
  "language_info": {
   "codemirror_mode": "text/x-scala",
   "file_extension": ".scala",
   "mimetype": "text/x-scala",
   "name": "scala211",
   "pygments_lexer": "scala",
   "version": "2.11.8"
  }
 },
 "nbformat": 4,
 "nbformat_minor": 0
}
