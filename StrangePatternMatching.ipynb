{
 "cells": [
  {
   "cell_type": "code",
   "execution_count": 5,
   "metadata": {
    "collapsed": false
   },
   "outputs": [
    {
     "data": {
      "text/plain": [
       "\u001b[36mxs\u001b[0m: \u001b[32mList\u001b[0m[\u001b[32mInt\u001b[0m] = \u001b[33mList\u001b[0m(\u001b[32m1\u001b[0m, \u001b[32m2\u001b[0m, \u001b[32m3\u001b[0m)\n",
       "\u001b[36mres4_1\u001b[0m: \u001b[32mString\u001b[0m = \u001b[32m\"That's a weird 1 followed by something\"\u001b[0m"
      ]
     },
     "metadata": {},
     "output_type": "display_data"
    }
   ],
   "source": [
    "val xs = List(1, 2, 3)                          //> xs  : List[Int] = List(1, 2, 3)\n",
    "xs match {\n",
    "    case x List (_, _) => s\"That's a weird $x followed by something\"\n",
    "    case _             => \"Nope\"\n",
    "}    "
   ]
  },
  {
   "cell_type": "code",
   "execution_count": 4,
   "metadata": {
    "collapsed": false
   },
   "outputs": [
    {
     "data": {
      "text/plain": [
       "defined \u001b[32mclass \u001b[36mFoo\u001b[0m\n",
       "\u001b[36mfoo\u001b[0m: \u001b[32m$user\u001b[0m.\u001b[32mFoo\u001b[0m = \u001b[33mFoo\u001b[0m(\u001b[32m1\u001b[0m, \u001b[32m2\u001b[0m, \u001b[32m3\u001b[0m)\n",
       "\u001b[36mres3_2\u001b[0m: \u001b[32mString\u001b[0m = \u001b[32m\"That's weird!\"\u001b[0m"
      ]
     },
     "metadata": {},
     "output_type": "display_data"
    }
   ],
   "source": [
    "case class Foo(a:Int, b:Int, c:Int)\n",
    "\n",
    "val foo = Foo(1, 2, 3)\n",
    "foo match {\n",
    "    case 1 Foo(2, 3) => \"That's weird!\"\n",
    "    case _ => \"Nope\"\n",
    "}"
   ]
  },
  {
   "cell_type": "code",
   "execution_count": 5,
   "metadata": {
    "collapsed": false
   },
   "outputs": [
    {
     "ename": "",
     "evalue": "",
     "output_type": "error",
     "traceback": [
      "\u001b[31mMain.scala:25: value unapplySeq is not a member of Int",
      "1 unapplySeq Foo(2, 3) ",
      "  ^\u001b[0m",
      "\u001b[31mMain.scala:25: not enough arguments for method apply: (a: Int, b: Int, c: Int)cmd5.this.$ref$cmd3.Foo in object Foo.",
      "Unspecified value parameter c.",
      "1 unapplySeq Foo(2, 3) ",
      "                ^\u001b[0m"
     ]
    }
   ],
   "source": [
    "val foo2 = 1 unapplySeq Foo(2, 3)"
   ]
  },
  {
   "cell_type": "code",
   "execution_count": null,
   "metadata": {
    "collapsed": true
   },
   "outputs": [],
   "source": []
  }
 ],
 "metadata": {
  "kernelspec": {
   "display_name": "Scala 2.11",
   "language": "scala211",
   "name": "scala211"
  },
  "language_info": {
   "codemirror_mode": "text/x-scala",
   "file_extension": ".scala",
   "mimetype": "text/x-scala",
   "name": "scala211",
   "pygments_lexer": "scala",
   "version": "2.11.8"
  }
 },
 "nbformat": 4,
 "nbformat_minor": 0
}
