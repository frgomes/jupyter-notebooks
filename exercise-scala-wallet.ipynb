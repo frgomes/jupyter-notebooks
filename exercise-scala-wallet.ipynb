{
 "cells": [
  {
   "cell_type": "code",
   "execution_count": 1,
   "metadata": {},
   "outputs": [
    {
     "data": {
      "text/plain": [
       "defined \u001b[32mtrait\u001b[39m \u001b[36mDebug\u001b[39m"
      ]
     },
     "execution_count": 1,
     "metadata": {},
     "output_type": "execute_result"
    }
   ],
   "source": [
    "trait Debug {\n",
    "    def debug(): String\n",
    "}"
   ]
  },
  {
   "cell_type": "code",
   "execution_count": 2,
   "metadata": {},
   "outputs": [
    {
     "data": {
      "text/plain": [
       "defined \u001b[32mtrait\u001b[39m \u001b[36mWallet\u001b[39m"
      ]
     },
     "execution_count": 2,
     "metadata": {},
     "output_type": "execute_result"
    }
   ],
   "source": [
    "trait Wallet[T] {\n",
    "    def load(filename: String)\n",
    "    def load(is: java.io.InputStream)\n",
    "    def load(s: scala.collection.immutable.Stream[String])\n",
    "    def balance(): T\n",
    "    def spend(quantity: T): T\n",
    "}"
   ]
  },
  {
   "cell_type": "code",
   "execution_count": 3,
   "metadata": {},
   "outputs": [
    {
     "data": {
      "text/plain": [
       "defined \u001b[32mtrait\u001b[39m \u001b[36mWalletData\u001b[39m"
      ]
     },
     "execution_count": 3,
     "metadata": {},
     "output_type": "execute_result"
    }
   ],
   "source": [
    "trait WalletData[T] {\n",
    "    protected var wallet: Seq[T]\n",
    "}"
   ]
  },
  {
   "cell_type": "code",
   "execution_count": 4,
   "metadata": {},
   "outputs": [
    {
     "data": {
      "text/plain": [
       "defined \u001b[32mtrait\u001b[39m \u001b[36mWalletImpl\u001b[39m"
      ]
     },
     "execution_count": 4,
     "metadata": {},
     "output_type": "execute_result"
    }
   ],
   "source": [
    "trait WalletImpl extends Wallet[Long] with Debug {\n",
    "    self: WalletData[Long] =>\n",
    "    \n",
    "    def load(filename: String) = load(new java.io.FileInputStream(filename))\n",
    "    def load(is: java.io.InputStream) = load(scala.io.Source.fromInputStream(is).getLines.toStream)\n",
    "    def load(stream: scala.collection.immutable.Stream[String]) = {\n",
    "        wallet = stream\n",
    "            .map(line => line.toLong)\n",
    "            .toList\n",
    "    }\n",
    "    \n",
    "    def balance(): Long = wallet.sum\n",
    "    \n",
    "    def spend(quantity: Long) : Long = {\n",
    "        var consumed = 0L\n",
    "        var p = wallet\n",
    "        while(!p.isEmpty && (consumed < quantity)) {\n",
    "            consumed = consumed + p.head\n",
    "            if(consumed <= quantity) {\n",
    "                p = p.tail\n",
    "            } else {\n",
    "                p = (consumed - quantity) +: p.tail\n",
    "            }\n",
    "        }\n",
    "        if(consumed < quantity) 0L else {\n",
    "            wallet = p\n",
    "            quantity\n",
    "        }\n",
    "    }\n",
    "    \n",
    "    def debug = wallet.toString\n",
    "}"
   ]
  },
  {
   "cell_type": "code",
   "execution_count": 5,
   "metadata": {},
   "outputs": [
    {
     "data": {
      "text/plain": [
       "\u001b[36mw\u001b[39m: \u001b[32mAnyRef\u001b[39m with \u001b[32mWalletData\u001b[39m[\u001b[32mLong\u001b[39m] with \u001b[32mWalletImpl\u001b[39m = $sess.cmd4Wrapper$Helper$$anon$1@6967eb78"
      ]
     },
     "execution_count": 5,
     "metadata": {},
     "output_type": "execute_result"
    }
   ],
   "source": [
    "val w = new { var wallet = Seq.empty[Long] } with WalletData[Long] with WalletImpl\n",
    "w.load(\"data/wallet/wallet.sample.txt\")"
   ]
  },
  {
   "cell_type": "code",
   "execution_count": 6,
   "metadata": {},
   "outputs": [
    {
     "data": {
      "text/plain": [
       "\u001b[36mres5_0\u001b[39m: \u001b[32mString\u001b[39m = \u001b[32m\"List(1, 100, 200, 200, 1000, 1)\"\u001b[39m\n",
       "\u001b[36mres5_1\u001b[39m: \u001b[32mLong\u001b[39m = \u001b[32m1502L\u001b[39m"
      ]
     },
     "execution_count": 6,
     "metadata": {},
     "output_type": "execute_result"
    }
   ],
   "source": [
    "w.debug\n",
    "w.balance"
   ]
  },
  {
   "cell_type": "code",
   "execution_count": 7,
   "metadata": {},
   "outputs": [
    {
     "data": {
      "text/plain": [
       "\u001b[36mres6_0\u001b[39m: \u001b[32mLong\u001b[39m = \u001b[32m702L\u001b[39m\n",
       "\u001b[36mres6_1\u001b[39m: \u001b[32mString\u001b[39m = \u001b[32m\"List(799, 1)\"\u001b[39m\n",
       "\u001b[36mres6_2\u001b[39m: \u001b[32mLong\u001b[39m = \u001b[32m800L\u001b[39m"
      ]
     },
     "execution_count": 7,
     "metadata": {},
     "output_type": "execute_result"
    }
   ],
   "source": [
    "w.spend(702)\n",
    "w.debug\n",
    "w.balance"
   ]
  },
  {
   "cell_type": "code",
   "execution_count": 8,
   "metadata": {},
   "outputs": [
    {
     "data": {
      "text/plain": [
       "\u001b[36mres7_0\u001b[39m: \u001b[32mLong\u001b[39m = \u001b[32m702L\u001b[39m\n",
       "\u001b[36mres7_1\u001b[39m: \u001b[32mString\u001b[39m = \u001b[32m\"List(97, 1)\"\u001b[39m\n",
       "\u001b[36mres7_2\u001b[39m: \u001b[32mLong\u001b[39m = \u001b[32m98L\u001b[39m"
      ]
     },
     "execution_count": 8,
     "metadata": {},
     "output_type": "execute_result"
    }
   ],
   "source": [
    "w.spend(702)\n",
    "w.debug\n",
    "w.balance"
   ]
  },
  {
   "cell_type": "code",
   "execution_count": 9,
   "metadata": {},
   "outputs": [
    {
     "data": {
      "text/plain": [
       "\u001b[36mres8_0\u001b[39m: \u001b[32mLong\u001b[39m = \u001b[32m0L\u001b[39m\n",
       "\u001b[36mres8_1\u001b[39m: \u001b[32mString\u001b[39m = \u001b[32m\"List(97, 1)\"\u001b[39m\n",
       "\u001b[36mres8_2\u001b[39m: \u001b[32mLong\u001b[39m = \u001b[32m98L\u001b[39m"
      ]
     },
     "execution_count": 9,
     "metadata": {},
     "output_type": "execute_result"
    }
   ],
   "source": [
    "w.spend(702)\n",
    "w.debug\n",
    "w.balance"
   ]
  }
 ],
 "metadata": {
  "kernelspec": {
   "display_name": "Scala",
   "language": "scala",
   "name": "scala"
  },
  "language_info": {
   "codemirror_mode": "text/x-scala",
   "file_extension": ".scala",
   "mimetype": "text/x-scala",
   "name": "scala211",
   "nbconvert_exporter": "script",
   "pygments_lexer": "scala",
   "version": "2.11.11"
  }
 },
 "nbformat": 4,
 "nbformat_minor": 2
}
