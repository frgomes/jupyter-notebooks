{
 "cells": [
  {
   "cell_type": "markdown",
   "metadata": {},
   "source": [
    "### Build Docker image, if needed\n",
    "\n",
    "The easiest way to deploy Spark (and optionally Mesos) onto a laptop is\n",
    "running Docker image ``spark_mesos``, which we build and run in the\n",
    "instructions below.\n",
    "\n",
    "These are the steps which automate the entire procedure:\n",
    "\n",
    "```bash\n",
    "$ sudo apt-get install git\n",
    "\n",
    "$ mkdir -p $HOME/workspace && cd $HOME/workspace\n",
    "$ git clone http://github.com/frgomes/debian-scripts\n",
    "\n",
    "$ cd debian-scripts\n",
    "$ ./install-docker-spark+mesos.sh\n",
    "```\n",
    "\n",
    "These steps will create a Docker image named ``spark_mesos`` and\n",
    "will create a shell script which automates the startup of that.\n",
    "\n",
    "```bash\n",
    "$ docker images spark_mesos\n",
    "REPOSITORY          TAG                 IMAGE ID            CREATED             SIZE\n",
    "spark_mesos         latest              acc97c716500        14 hours ago        1.09GB\n",
    "\n",
    "$ ls -al /opt/bin/spark_mesos.sh \n",
    "-rwxr-xr-x 1 rgomes rgomes 226 Jun  4 01:50 /opt/bin/spark_mesos.sh\n",
    "```"
   ]
  },
  {
   "cell_type": "markdown",
   "metadata": {},
   "source": [
    "----"
   ]
  },
  {
   "cell_type": "markdown",
   "metadata": {},
   "source": [
    "### Notes on Mesos - Part 1\n",
    "\n",
    "In order to access the Mesos controller running in the Docker container, we need\n",
    "to install Mesos in our laptop. However, installing Mesos in our laptop is outside\n",
    "of the aims of this exercise.\n",
    "\n",
    "You will see that we obtain a ``SparkSession`` Spark port 7077, exposed by the running\n",
    "Docker container. The code looks like this:\n",
    "\n",
    "```scala\n",
    "val ss: SparkSession = \n",
    "  JupyterSparkSession\n",
    "    .builder() \n",
    "    .jupyter()\n",
    "    .master(\"local[4]\").config(\"spark.ui.port\",\"7077\")\n",
    "    .appName(\"fraud-detection\")\n",
    "    .getOrCreate()\n",
    "```"
   ]
  },
  {
   "cell_type": "markdown",
   "metadata": {},
   "source": [
    "### Notes on Mesos - Part 2\n",
    "\n",
    "If you are adventurous to employ Mesos, you could probably substitute...\n",
    "```scala\n",
    ".master(\"local[4]\").config(\"spark.ui.port\",\"7077\")\n",
    "```\n",
    "by...\n",
    "```scala\n",
    ".master(\"mesos://localhost:5050\")\n",
    ".config(\"java.library.path\",\n",
    "            \"/usr/local/lib/libmesos.so\")\n",
    ".config(\"spark.executor.uri\",\n",
    "            \"http://www.apache.org/dyn/closer.lua/spark/spark-2.2.1/spark-2.2.1-bin-hadoop2.7.tgz\")\n",
    "```\n",
    "Well... probably. This code was never tested."
   ]
  },
  {
   "cell_type": "markdown",
   "metadata": {},
   "source": [
    "### Notes on Mesos - Part 3\n",
    "\n",
    "Chances are that, in future, we will be able to manage Mesos via a RESTful API, instead of having\n",
    "to go thru a painful process of downloading the sources, building the binaries and installing\n",
    "Mesos onto our laptop.\n",
    "\n",
    "More info: http://github.com/mesosphere/mesos-http-adapter"
   ]
  },
  {
   "cell_type": "markdown",
   "metadata": {},
   "source": [
    "----"
   ]
  },
  {
   "cell_type": "markdown",
   "metadata": {},
   "source": [
    "### Run Docker image\n",
    "\n",
    "Supposing you've built a Docker image as explained above, all you have to do is starting it, so that Spark and Mesos will be available easily. It's just a matter of running the command below:\n",
    "```bash\n",
    "$ /opt/bin/spark_mesos.sh\n",
    "```"
   ]
  },
  {
   "cell_type": "markdown",
   "metadata": {},
   "source": [
    "----"
   ]
  },
  {
   "cell_type": "markdown",
   "metadata": {},
   "source": [
    "### Import magic for Spark 2.2.1\n",
    "See available packages here: http://central.maven.org/maven2/org/apache/spark/"
   ]
  },
  {
   "cell_type": "code",
   "execution_count": null,
   "metadata": {
    "scrolled": false
   },
   "outputs": [],
   "source": [
    "import $exclude.`org.slf4j:slf4j-log4j12`, $ivy.`org.slf4j:slf4j-nop:1.7.21`\n",
    "\n",
    "import $profile.`hadoop-2.7`\n",
    "import $ivy.`org.apache.spark::spark-core:2.2.1`\n",
    "import $ivy.`org.apache.spark::spark-sql:2.2.1`\n",
    "import $ivy.`org.apache.spark::spark-mllib:2.2.1`\n",
    "//import $ivy.`org.apache.spark::spark-mesos:2.2.1`\n",
    "import $ivy.`org.jupyter-scala::spark:0.4.2`\n",
    "\n",
    "import jupyter.spark.session._\n",
    "import org.apache.spark._\n",
    "import org.apache.spark.sql._\n",
    "import org.apache.spark.sql.catalyst.expressions.aggregate._\n",
    "import org.apache.spark.sql.expressions._\n",
    "import org.apache.spark.sql.functions._"
   ]
  },
  {
   "cell_type": "code",
   "execution_count": null,
   "metadata": {},
   "outputs": [],
   "source": []
  },
  {
   "cell_type": "markdown",
   "metadata": {},
   "source": [
    "### Obtain SparkSession and SparkContext"
   ]
  },
  {
   "cell_type": "code",
   "execution_count": null,
   "metadata": {
    "scrolled": false
   },
   "outputs": [],
   "source": [
    "val spark: SparkSession = \n",
    "  JupyterSparkSession\n",
    "    .builder() \n",
    "    .jupyter()\n",
    "    .master(\"local[4]\").config(\"spark.ui.port\",\"7077\")\n",
    "    //.master(\"mesos://localhost:5050\").config(\"spark.mesos.http.adapter\", true)\n",
    "    .appName(\"fraud-detection\")\n",
    "//  .config(\"spark.executor.instances\", \"10\")\n",
    "//  .config(\"spark.executor.memory\", \"3g\")\n",
    "    .getOrCreate()\n",
    "\n",
    "val sc: SparkContext = spark.sparkContext"
   ]
  },
  {
   "cell_type": "code",
   "execution_count": null,
   "metadata": {},
   "outputs": [],
   "source": [
    "val circumventReplScope = true"
   ]
  },
  {
   "cell_type": "code",
   "execution_count": null,
   "metadata": {},
   "outputs": [],
   "source": [
    "import spark.implicits._"
   ]
  },
  {
   "cell_type": "code",
   "execution_count": null,
   "metadata": {},
   "outputs": [],
   "source": [
    "case class Ad(id: Int, creation: String, price: Long)\n",
    "case class Fraud(id: Int, detection: String)\n",
    "\n",
    "if (circumventReplScope) org.apache.spark.sql.catalyst.encoders.OuterScopes.addOuterScope(this)\n",
    "\n",
    "val dsAd = \n",
    "  spark.sqlContext\n",
    "    .read\n",
    "    .option(\"header\", \"true\")\n",
    "    .option(\"sep\", \",\")\n",
    "    .schema(Encoders.product[Ad].schema)\n",
    "    .csv(\"data/fraud-detection/ad.csv.gz\")\n",
    "    .as[Ad]\n",
    "    .repartition(16)\n",
    "\n",
    "val dsFraud =\n",
    "  spark\n",
    "    .read\n",
    "    .option(\"header\", \"true\")\n",
    "    .option(\"sep\", \",\")\n",
    "    .schema(Encoders.product[Fraud].schema)\n",
    "    .csv(\"data/fraud-detection/fraud.csv.gz\")\n",
    "    .as[Fraud]\n",
    "    .repartition(16)"
   ]
  },
  {
   "cell_type": "code",
   "execution_count": null,
   "metadata": {},
   "outputs": [],
   "source": []
  },
  {
   "cell_type": "code",
   "execution_count": null,
   "metadata": {},
   "outputs": [],
   "source": [
    "val frauds = dsFraud.join(dsAd, \"id\")"
   ]
  },
  {
   "cell_type": "code",
   "execution_count": null,
   "metadata": {
    "scrolled": true
   },
   "outputs": [],
   "source": [
    "val fraudPrices = frauds.select(frauds(\"price\"))"
   ]
  },
  {
   "cell_type": "code",
   "execution_count": null,
   "metadata": {},
   "outputs": [],
   "source": [
    "import org.apache.spark.mllib.stat.{MultivariateStatisticalSummary, Statistics}\n",
    "\n",
    "val summary: MultivariateStatisticalSummary = Statistics.colStats(fraudPrices)"
   ]
  },
  {
   "cell_type": "code",
   "execution_count": null,
   "metadata": {},
   "outputs": [],
   "source": [
    "val mean = summary.mean\n",
    "//val sigma = summary.variance"
   ]
  },
  {
   "cell_type": "code",
   "execution_count": null,
   "metadata": {},
   "outputs": [],
   "source": []
  },
  {
   "cell_type": "code",
   "execution_count": null,
   "metadata": {},
   "outputs": [],
   "source": []
  },
  {
   "cell_type": "markdown",
   "metadata": {},
   "source": [
    "val x = ads.keys.toSet intersect frauds.keys.toSet"
   ]
  },
  {
   "cell_type": "markdown",
   "metadata": {},
   "source": [
    "val question_1 = for (\n",
    "    id <- x;\n",
    "    ad <- ads.get(id))\n",
    "yield {\n",
    "    (ad.id -> ad.creation)\n",
    "}"
   ]
  },
  {
   "cell_type": "markdown",
   "metadata": {},
   "source": [
    "val question_2a =\n",
    "    for (\n",
    "        id <- x;\n",
    "        ad <- ads.get(id))\n",
    "    yield {\n",
    "        ad.price\n",
    "    }"
   ]
  },
  {
   "cell_type": "markdown",
   "metadata": {},
   "source": [
    "val question_2 = question_2a.sum / question_2a.size"
   ]
  }
 ],
 "metadata": {
  "kernelspec": {
   "display_name": "Scala",
   "language": "scala",
   "name": "scala"
  },
  "language_info": {
   "codemirror_mode": "text/x-scala",
   "file_extension": ".sc",
   "mimetype": "text/x-scala",
   "name": "scala",
   "nbconvert_exporter": "script",
   "version": "2.12.12"
  }
 },
 "nbformat": 4,
 "nbformat_minor": 1
}
