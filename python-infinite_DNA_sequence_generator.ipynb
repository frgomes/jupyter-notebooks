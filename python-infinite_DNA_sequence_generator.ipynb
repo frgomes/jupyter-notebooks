{
 "cells": [
  {
   "cell_type": "markdown",
   "metadata": {},
   "source": [
    "# Problem: Generate (pseudo-)DNA sequence\n",
    "\n",
    "Given DNA proteins in alphabetical order 'A', 'C', 'G', 'T', write a function which incrementally\n",
    "generates longer and longer DNA sequences by aggregating the proteins in alphabetical order to\n",
    "previously generated DNA sequences. For example:\n",
    "\n",
    "```python\n",
    "sequence( 3) = ['A', 'C', 'G']\n",
    "sequence( 5) = ['A', 'C', 'G', 'T', 'AA']\n",
    "sequence(10) = ['A', 'C', 'G', 'T', 'AA', 'AC', 'AG', 'AT', 'CA', 'CC']\n",
    "```"
   ]
  },
  {
   "cell_type": "code",
   "execution_count": 1,
   "metadata": {
    "collapsed": true
   },
   "outputs": [],
   "source": [
    "def generation(state):\n",
    "    for elem in state:\n",
    "        for c in ['A', 'C', 'G', 'T']:\n",
    "            yield elem + c"
   ]
  },
  {
   "cell_type": "code",
   "execution_count": 3,
   "metadata": {},
   "outputs": [],
   "source": [
    "def sequence(counter):\n",
    "    state = [\"\"]\n",
    "    while True:\n",
    "        next = generation(state)\n",
    "        state = []\n",
    "        for elem in next:\n",
    "            if counter <= 0:\n",
    "                return\n",
    "            counter -= 1\n",
    "            state += [ elem ]\n",
    "            yield elem"
   ]
  },
  {
   "cell_type": "code",
   "execution_count": 91,
   "metadata": {
    "collapsed": true
   },
   "outputs": [],
   "source": [
    "# test code"
   ]
  },
  {
   "cell_type": "code",
   "execution_count": 8,
   "metadata": {},
   "outputs": [
    {
     "name": "stdout",
     "output_type": "stream",
     "text": [
      "A\n",
      "C\n",
      "G\n",
      "T\n",
      "AA\n",
      "AC\n",
      "AG\n",
      "AT\n",
      "CA\n",
      "CC\n",
      "CG\n",
      "CT\n",
      "GA\n",
      "GC\n",
      "GG\n",
      "GT\n",
      "TA\n",
      "TC\n",
      "TG\n",
      "TT\n",
      "AAA\n",
      "AAC\n",
      "AAG\n",
      "AAT\n",
      "ACA\n",
      "ACC\n",
      "ACG\n",
      "ACT\n",
      "AGA\n",
      "AGC\n",
      "AGG\n",
      "AGT\n",
      "ATA\n",
      "ATC\n",
      "ATG\n",
      "ATT\n",
      "CAA\n",
      "CAC\n",
      "CAG\n",
      "CAT\n"
     ]
    }
   ],
   "source": [
    "for elem in sequence(40):\n",
    "    print(elem)"
   ]
  }
 ],
 "metadata": {
  "kernelspec": {
   "display_name": "Python 3",
   "language": "python",
   "name": "python3"
  },
  "language_info": {
   "codemirror_mode": {
    "name": "ipython",
    "version": 3
   },
   "file_extension": ".py",
   "mimetype": "text/x-python",
   "name": "python",
   "nbconvert_exporter": "python",
   "pygments_lexer": "ipython3",
   "version": "3.5.3"
  }
 },
 "nbformat": 4,
 "nbformat_minor": 2
}
