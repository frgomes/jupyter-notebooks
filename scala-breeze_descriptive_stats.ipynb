{
 "cells": [
  {
   "cell_type": "code",
   "execution_count": 1,
   "metadata": {},
   "outputs": [
    {
     "data": {
      "text/plain": [
       "\u001b[32mimport \u001b[39m\u001b[36m$ivy.$                             \n",
       "\u001b[39m\n",
       "\u001b[32mimport \u001b[39m\u001b[36m$ivy.$                                     \u001b[39m"
      ]
     },
     "execution_count": 1,
     "metadata": {},
     "output_type": "execute_result"
    }
   ],
   "source": [
    "import $ivy.`org.scalanlp::breeze:1.0-RC2`\n",
    "import $ivy.`org.scalanlp::breeze-natives:1.0-RC2`"
   ]
  },
  {
   "cell_type": "code",
   "execution_count": 2,
   "metadata": {},
   "outputs": [
    {
     "data": {
      "text/plain": [
       "\u001b[32mimport \u001b[39m\u001b[36mbreeze.linalg._\n",
       "\u001b[39m\n",
       "\u001b[32mimport \u001b[39m\u001b[36mbreeze.stats.meanAndVariance\u001b[39m"
      ]
     },
     "execution_count": 2,
     "metadata": {},
     "output_type": "execute_result"
    }
   ],
   "source": [
    "import breeze.linalg._\n",
    "import breeze.stats.meanAndVariance"
   ]
  },
  {
   "cell_type": "code",
   "execution_count": 3,
   "metadata": {},
   "outputs": [
    {
     "data": {
      "text/plain": [
       "\u001b[36md1\u001b[39m: \u001b[32mSeq\u001b[39m[\u001b[32mDouble\u001b[39m] = \u001b[33mList\u001b[39m(\u001b[32m1.0\u001b[39m, \u001b[32m1.1\u001b[39m, \u001b[32m1.2\u001b[39m, \u001b[32m1.3\u001b[39m, \u001b[32m1.4\u001b[39m, \u001b[32m1.5\u001b[39m, \u001b[32m1.6\u001b[39m)\n",
       "\u001b[36md2\u001b[39m: \u001b[32mSeq\u001b[39m[\u001b[32mDouble\u001b[39m] = \u001b[33mList\u001b[39m(\u001b[32m1.0\u001b[39m, \u001b[32m1.1\u001b[39m, \u001b[32m1.2\u001b[39m, \u001b[32m1.3\u001b[39m, \u001b[32m1.4\u001b[39m, \u001b[32m1.5\u001b[39m, \u001b[32m1.6\u001b[39m, \u001b[32mNaN\u001b[39m)"
      ]
     },
     "execution_count": 3,
     "metadata": {},
     "output_type": "execute_result"
    }
   ],
   "source": [
    "val d1 = Seq(1.0, 1.1, 1.2, 1.3, 1.4, 1.5, 1.6)\n",
    "val d2 = Seq(1.0, 1.1, 1.2, 1.3, 1.4, 1.5, 1.6, Double.NaN)"
   ]
  },
  {
   "cell_type": "code",
   "execution_count": 4,
   "metadata": {},
   "outputs": [
    {
     "data": {
      "text/plain": [
       "\u001b[36mres3_0\u001b[39m: \u001b[32mmeanAndVariance\u001b[39m.\u001b[32mMeanAndVariance\u001b[39m = \u001b[33mMeanAndVariance\u001b[39m(\u001b[32m1.3000000000000003\u001b[39m, \u001b[32m0.04666666666666663\u001b[39m, \u001b[32m7L\u001b[39m)\n",
       "\u001b[36mres3_1\u001b[39m: \u001b[32mmeanAndVariance\u001b[39m.\u001b[32mMeanAndVariance\u001b[39m = \u001b[33mMeanAndVariance\u001b[39m(\u001b[32mNaN\u001b[39m, \u001b[32mNaN\u001b[39m, \u001b[32m8L\u001b[39m)"
      ]
     },
     "execution_count": 4,
     "metadata": {},
     "output_type": "execute_result"
    }
   ],
   "source": [
    "meanAndVariance(DenseVector(d1.toArray))\n",
    "meanAndVariance(DenseVector(d2.toArray))"
   ]
  },
  {
   "cell_type": "code",
   "execution_count": null,
   "metadata": {},
   "outputs": [],
   "source": []
  },
  {
   "cell_type": "code",
   "execution_count": 5,
   "metadata": {},
   "outputs": [
    {
     "data": {
      "text/plain": [
       "\u001b[36ml1\u001b[39m: \u001b[32mSeq\u001b[39m[\u001b[32mInt\u001b[39m] = \u001b[33mList\u001b[39m(\u001b[32m10\u001b[39m, \u001b[32m11\u001b[39m, \u001b[32m12\u001b[39m, \u001b[32m13\u001b[39m, \u001b[32m14\u001b[39m, \u001b[32m15\u001b[39m, \u001b[32m16\u001b[39m)"
      ]
     },
     "execution_count": 5,
     "metadata": {},
     "output_type": "execute_result"
    }
   ],
   "source": [
    "val l1 = Seq(10, 11, 12, 13, 14, 15, 16)"
   ]
  },
  {
   "cell_type": "code",
   "execution_count": 6,
   "metadata": {},
   "outputs": [
    {
     "data": {
      "text/plain": [
       "\u001b[36mxx\u001b[39m: \u001b[32mDenseVector\u001b[39m[\u001b[32mDouble\u001b[39m] = DenseVector(0.01, 0.011, 0.012, 0.013, 0.014, 0.015, 0.016)"
      ]
     },
     "execution_count": 6,
     "metadata": {},
     "output_type": "execute_result"
    }
   ],
   "source": [
    "val xx = DenseVector(l1.map(l => l/1000.0).toArray)"
   ]
  },
  {
   "cell_type": "code",
   "execution_count": 7,
   "metadata": {},
   "outputs": [
    {
     "data": {
      "text/plain": [
       "\u001b[36mres6\u001b[39m: \u001b[32mmeanAndVariance\u001b[39m.\u001b[32mMeanAndVariance\u001b[39m = \u001b[33mMeanAndVariance\u001b[39m(\u001b[32m0.013000000000000001\u001b[39m, \u001b[32m4.666666666666666E-6\u001b[39m, \u001b[32m7L\u001b[39m)"
      ]
     },
     "execution_count": 7,
     "metadata": {},
     "output_type": "execute_result"
    }
   ],
   "source": [
    "meanAndVariance(xx)"
   ]
  }
 ],
 "metadata": {
  "kernelspec": {
   "display_name": "Scala",
   "language": "scala",
   "name": "scala"
  },
  "language_info": {
   "codemirror_mode": "text/x-scala",
   "file_extension": ".scala",
   "mimetype": "text/x-scala",
   "name": "scala211",
   "nbconvert_exporter": "script",
   "pygments_lexer": "scala",
   "version": "2.11.11"
  }
 },
 "nbformat": 4,
 "nbformat_minor": 2
}
