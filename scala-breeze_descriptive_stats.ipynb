{
 "cells": [
  {
   "cell_type": "code",
   "execution_count": null,
   "metadata": {},
   "outputs": [],
   "source": [
    "import $ivy.`org.scalanlp::breeze:1.0-RC2`\n",
    "import $ivy.`org.scalanlp::breeze-natives:1.0-RC2`"
   ]
  },
  {
   "cell_type": "code",
   "execution_count": null,
   "metadata": {},
   "outputs": [],
   "source": [
    "import breeze.linalg._\n",
    "import breeze.stats.meanAndVariance"
   ]
  },
  {
   "cell_type": "code",
   "execution_count": null,
   "metadata": {},
   "outputs": [],
   "source": [
    "val a1 = Seq(1.0, 1.1, 1.2, 1.3, 1.4, 1.5, 1.6, 1.7)\n",
    "val a2 = Seq(2.0, 2.1, 2.2, 2.3, 2.4, 2.5, 2.6, Double.NaN)\n",
    "val a3 = Seq(3.0, 3.1, 3.2, 3.3, 3.4, 3.5, 3.6, 13.7)"
   ]
  },
  {
   "cell_type": "code",
   "execution_count": null,
   "metadata": {},
   "outputs": [],
   "source": [
    "meanAndVariance(DenseVector(d1.toArray))\n",
    "meanAndVariance(DenseVector(d2.toArray))"
   ]
  },
  {
   "cell_type": "code",
   "execution_count": null,
   "metadata": {},
   "outputs": [],
   "source": []
  },
  {
   "cell_type": "code",
   "execution_count": null,
   "metadata": {},
   "outputs": [],
   "source": [
    "val l1 = Seq(10, 11, 12, 13, 14, 15, 16)"
   ]
  },
  {
   "cell_type": "code",
   "execution_count": null,
   "metadata": {},
   "outputs": [],
   "source": [
    "val xx = DenseVector(l1.map(l => l/1000.0).toArray)"
   ]
  },
  {
   "cell_type": "code",
   "execution_count": null,
   "metadata": {},
   "outputs": [],
   "source": [
    "meanAndVariance(xx)"
   ]
  }
 ],
 "metadata": {
  "kernelspec": {
   "display_name": "Scala",
   "language": "scala",
   "name": "scala"
  },
  "language_info": {
   "codemirror_mode": "text/x-scala",
   "file_extension": ".scala",
   "mimetype": "text/x-scala",
   "name": "scala211",
   "nbconvert_exporter": "script",
   "pygments_lexer": "scala",
   "version": "2.11.11"
  }
 },
 "nbformat": 4,
 "nbformat_minor": 2
}
