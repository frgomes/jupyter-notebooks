{
 "cells": [
  {
   "cell_type": "markdown",
   "metadata": {},
   "source": [
    "## Cats"
   ]
  },
  {
   "cell_type": "code",
   "execution_count": 1,
   "metadata": {
    "collapsed": false
   },
   "outputs": [
    {
     "name": "stdout",
     "output_type": "stream",
     "text": [
      "16 new artifact(s)\n"
     ]
    },
    {
     "name": "stderr",
     "output_type": "stream",
     "text": [
      "16 new artifacts in macro\n",
      "16 new artifacts in runtime\n",
      "16 new artifacts in compile\n"
     ]
    },
    {
     "data": {
      "text/plain": []
     },
     "metadata": {},
     "output_type": "display_data"
    }
   ],
   "source": [
    "classpath.add(\"org.typelevel\" %% \"cats\" % \"0.7.2\")"
   ]
  },
  {
   "cell_type": "code",
   "execution_count": 14,
   "metadata": {
    "collapsed": false
   },
   "outputs": [
    {
     "data": {
      "text/plain": [
       "\u001b[32mimport \u001b[36mcats.implicits._\u001b[0m\n",
       "\u001b[32mimport \u001b[36mcats.Semigroup\u001b[0m\n",
       "\u001b[32mimport \u001b[36mcats.Monoid\u001b[0m"
      ]
     },
     "metadata": {},
     "output_type": "display_data"
    }
   ],
   "source": [
    "import cats.implicits._\n",
    "import cats.Semigroup\n",
    "import cats.Monoid"
   ]
  },
  {
   "cell_type": "code",
   "execution_count": null,
   "metadata": {
    "collapsed": true
   },
   "outputs": [],
   "source": []
  },
  {
   "cell_type": "markdown",
   "metadata": {},
   "source": [
    "### Semigroup\n",
    "A semigroup for some given type ``A`` has a single operation (which we will call ``combine``), which takes two values of type ``A``, and returns a value of type ``A``. This operation must be guaranteed to be associative. That is to say that:\n",
    "```\n",
    "((a combine b) combine c)\n",
    "```\n",
    "must be the same as\n",
    "```\n",
    "(a combine (b combine c))\n",
    "```"
   ]
  },
  {
   "cell_type": "code",
   "execution_count": 11,
   "metadata": {
    "collapsed": false
   },
   "outputs": [
    {
     "data": {
      "text/plain": [
       "\u001b[36mres10\u001b[0m: \u001b[32mInt\u001b[0m = \u001b[32m3\u001b[0m"
      ]
     },
     "metadata": {},
     "output_type": "display_data"
    }
   ],
   "source": [
    "Semigroup[Int].combine(1,2)"
   ]
  },
  {
   "cell_type": "code",
   "execution_count": 12,
   "metadata": {
    "collapsed": false
   },
   "outputs": [
    {
     "data": {
      "text/plain": [
       "\u001b[36mres11\u001b[0m: \u001b[32mInt\u001b[0m = \u001b[32m10\u001b[0m"
      ]
     },
     "metadata": {},
     "output_type": "display_data"
    }
   ],
   "source": [
    "Semigroup[Int].combineN(2,5)"
   ]
  },
  {
   "cell_type": "code",
   "execution_count": 13,
   "metadata": {
    "collapsed": false
   },
   "outputs": [
    {
     "data": {
      "text/plain": [
       "\u001b[36mres12\u001b[0m: \u001b[32mOption\u001b[0m[\u001b[32mInt\u001b[0m] = \u001b[33mSome\u001b[0m(\u001b[32m20\u001b[0m)"
      ]
     },
     "metadata": {},
     "output_type": "display_data"
    }
   ],
   "source": [
    "Semigroup[Int].combineAllOption(Seq(2,5,7,6))"
   ]
  },
  {
   "cell_type": "code",
   "execution_count": 5,
   "metadata": {
    "collapsed": false
   },
   "outputs": [
    {
     "data": {
      "text/plain": [
       "\u001b[36mres4\u001b[0m: \u001b[32mInt\u001b[0m = \u001b[32m67\u001b[0m"
      ]
     },
     "metadata": {},
     "output_type": "display_data"
    }
   ],
   "source": [
    "Semigroup[Int ⇒ Int].combine({ (x: Int) ⇒ x + 1 }, { (x: Int) ⇒ x * 10 }).apply(6)"
   ]
  },
  {
   "cell_type": "code",
   "execution_count": 6,
   "metadata": {
    "collapsed": false
   },
   "outputs": [
    {
     "data": {
      "text/plain": [
       "\u001b[36mres5\u001b[0m: \u001b[32mOption\u001b[0m[\u001b[32mInt\u001b[0m] = \u001b[33mSome\u001b[0m(\u001b[32m3\u001b[0m)"
      ]
     },
     "metadata": {},
     "output_type": "display_data"
    }
   ],
   "source": [
    "Semigroup[Option[Int]].combine(Option(1), Option(2))"
   ]
  },
  {
   "cell_type": "code",
   "execution_count": 7,
   "metadata": {
    "collapsed": false
   },
   "outputs": [
    {
     "data": {
      "text/plain": [
       "\u001b[36mres6\u001b[0m: \u001b[32mOption\u001b[0m[\u001b[32mInt\u001b[0m] = \u001b[33mSome\u001b[0m(\u001b[32m1\u001b[0m)"
      ]
     },
     "metadata": {},
     "output_type": "display_data"
    }
   ],
   "source": [
    "Semigroup[Option[Int]].combine(Option(1), None)"
   ]
  },
  {
   "cell_type": "code",
   "execution_count": 8,
   "metadata": {
    "collapsed": false
   },
   "outputs": [
    {
     "data": {
      "text/plain": [
       "\u001b[36mres7\u001b[0m: \u001b[32mMap\u001b[0m[\u001b[32mString\u001b[0m, \u001b[32mMap\u001b[0m[\u001b[32mString\u001b[0m, \u001b[32mInt\u001b[0m]] = \u001b[33mMap\u001b[0m(\u001b[32m\"foo\"\u001b[0m -> \u001b[33mMap\u001b[0m(\u001b[32m\"bar\"\u001b[0m -> \u001b[32m11\u001b[0m), \u001b[32m\"baz\"\u001b[0m -> \u001b[33mMap\u001b[0m())"
      ]
     },
     "metadata": {},
     "output_type": "display_data"
    }
   ],
   "source": [
    "Map(\"foo\" -> Map(\"bar\" -> 5)).combine(Map(\"foo\" -> Map(\"bar\" -> 6), \"baz\" -> Map()))"
   ]
  },
  {
   "cell_type": "code",
   "execution_count": null,
   "metadata": {
    "collapsed": true
   },
   "outputs": [],
   "source": []
  },
  {
   "cell_type": "markdown",
   "metadata": {},
   "source": [
    "### Monoid\n",
    "``Monoid`` extends the ``Semigroup`` type class, adding an empty method to semigroup's combine. The empty method must return a value that when combined with any other instance of that type returns the other instance, i.e.:\n",
    "```\n",
    "(combine(x, empty) == combine(empty, x) == x)\n",
    "```"
   ]
  },
  {
   "cell_type": "code",
   "execution_count": 10,
   "metadata": {
    "collapsed": false
   },
   "outputs": [
    {
     "data": {
      "text/plain": [
       "\u001b[36mres9\u001b[0m: \u001b[32mInt\u001b[0m = \u001b[32m3\u001b[0m"
      ]
     },
     "metadata": {},
     "output_type": "display_data"
    }
   ],
   "source": [
    "Monoid[Int].combine(1, 2)"
   ]
  },
  {
   "cell_type": "code",
   "execution_count": 22,
   "metadata": {
    "collapsed": false
   },
   "outputs": [
    {
     "data": {
      "text/plain": [
       "\u001b[36mres21_0\u001b[0m: \u001b[32mInt\u001b[0m = \u001b[32m0\u001b[0m\n",
       "\u001b[36mres21_1\u001b[0m: \u001b[32mFloat\u001b[0m = \u001b[32m0.0F\u001b[0m\n",
       "\u001b[36mres21_2\u001b[0m: \u001b[32mString\u001b[0m = \u001b[32m\"\"\u001b[0m"
      ]
     },
     "metadata": {},
     "output_type": "display_data"
    }
   ],
   "source": [
    "Monoid[Int].empty\n",
    "Monoid[Float].empty\n",
    "Monoid[String].empty"
   ]
  },
  {
   "cell_type": "code",
   "execution_count": 36,
   "metadata": {
    "collapsed": false
   },
   "outputs": [
    {
     "data": {
      "text/plain": [
       "\u001b[36mres35_0\u001b[0m: (\u001b[32mInt\u001b[0m, \u001b[32mDouble\u001b[0m) = \u001b[33m\u001b[0m(\u001b[32m0\u001b[0m, \u001b[32m0.0\u001b[0m)\n",
       "\u001b[36mres35_1\u001b[0m: (\u001b[32mInt\u001b[0m, \u001b[32mDouble\u001b[0m) = \u001b[33m\u001b[0m(\u001b[32m3\u001b[0m, \u001b[32m7.5\u001b[0m)"
      ]
     },
     "metadata": {},
     "output_type": "display_data"
    }
   ],
   "source": [
    "Monoid[(Int, Double)].empty\n",
    "Monoid[(Int, Double)].combine( (1, 5.2), (2, 2.3) )"
   ]
  },
  {
   "cell_type": "code",
   "execution_count": 29,
   "metadata": {
    "collapsed": false
   },
   "outputs": [
    {
     "data": {
      "text/plain": [
       "\u001b[36mres28_0\u001b[0m: (\u001b[32mInt\u001b[0m, \u001b[32mInt\u001b[0m, \u001b[32mInt\u001b[0m, \u001b[32mInt\u001b[0m, \u001b[32mInt\u001b[0m, \u001b[32mInt\u001b[0m, \u001b[32mInt\u001b[0m, \u001b[32mInt\u001b[0m, \u001b[32mInt\u001b[0m, \u001b[32mInt\u001b[0m) = \u001b[33m\u001b[0m(\u001b[32m1\u001b[0m, \u001b[32m2\u001b[0m, \u001b[32m3\u001b[0m, \u001b[32m4\u001b[0m, \u001b[32m5\u001b[0m, \u001b[32m6\u001b[0m, \u001b[32m7\u001b[0m, \u001b[32m8\u001b[0m, \u001b[32m9\u001b[0m, \u001b[32m10\u001b[0m)\n",
       "\u001b[36mres28_1\u001b[0m: \u001b[32mSeq\u001b[0m[\u001b[32mString\u001b[0m] = \u001b[33mList\u001b[0m(\u001b[32m\"a\"\u001b[0m, \u001b[32m\"b\"\u001b[0m, \u001b[32m\"c\"\u001b[0m)\n",
       "\u001b[36mres28_2\u001b[0m: \u001b[32mSeq\u001b[0m[\u001b[32mAny\u001b[0m] = \u001b[33mList\u001b[0m(5, a, 2.0, C)"
      ]
     },
     "metadata": {},
     "output_type": "display_data"
    }
   ],
   "source": [
    "identity(1,2,3,4,5,6,7,8,9,10)\n",
    "identity(Seq(\"a\", \"b\", \"c\"))\n",
    "identity(Seq(5, \"a\", 2.0, 'C'))"
   ]
  },
  {
   "cell_type": "code",
   "execution_count": 31,
   "metadata": {
    "collapsed": false
   },
   "outputs": [
    {
     "ename": "",
     "evalue": "",
     "output_type": "error",
     "traceback": [
      "\u001b[31mMain.scala:412: could not find implicit value for parameter B: cats.Monoid[Any]",
      "List(5, \"a\", 2.0, 'C').foldMap(identity) // method extension from Monoid",
      "                              ^\u001b[0m"
     ]
    }
   ],
   "source": [
    "Seq(5, \"a\", 2.0, 'C').map(identity)\n",
    "Seq(5, \"a\", 2.0, 'C').toList.map(identity)\n",
    "List(5, \"a\", 2.0, 'C').foldMap(identity) // method extension from Monoid"
   ]
  },
  {
   "cell_type": "code",
   "execution_count": 34,
   "metadata": {
    "collapsed": false
   },
   "outputs": [
    {
     "data": {
      "text/plain": [
       "\u001b[36mres33\u001b[0m: \u001b[32mString\u001b[0m = \u001b[32m\"6.02x10e+23\"\u001b[0m"
      ]
     },
     "metadata": {},
     "output_type": "display_data"
    }
   ],
   "source": [
    "List(6.02, \"x\", 10, 'e', '+', 23).foldMap(item => item.toString)"
   ]
  },
  {
   "cell_type": "code",
   "execution_count": null,
   "metadata": {
    "collapsed": true
   },
   "outputs": [],
   "source": []
  },
  {
   "cell_type": "markdown",
   "metadata": {},
   "source": [
    "## Functor\n",
    "A ``Functor`` is a ubiquitous type class involving types that have one \"hole\", i.e. types which have the shape ``F[?]``, such as ``Option``, ``List`` and ``Future``. (This is in contrast to a type like ``Int`` which has no hole, or ``Tuple2`` which has two holes ``(Tuple2[?,?])``).\n",
    "\n",
    "The ``Functor`` category involves a single operation, named ``map``:\n",
    "```\n",
    "def map[A, B](fa: F[A])(f: A => B): F[B]\n",
    "```"
   ]
  },
  {
   "cell_type": "code",
   "execution_count": null,
   "metadata": {
    "collapsed": true
   },
   "outputs": [],
   "source": []
  },
  {
   "cell_type": "markdown",
   "metadata": {},
   "source": [
    "### Apply\n",
    "``Apply`` extends the ``Functor`` type class (which features the familiar map function) with a new function ``ap``. The ``ap`` function is similar to ``map`` in that we are transforming a value in a context (a context being the ``F`` in ``F[A]``; a context can be ``Option``, ``List`` or ``Future`` for example). However, the difference between ``ap`` and ``map`` is that for ``ap`` the function that takes care of the transformation is of type ``F[A => B]``, whereas for ``map`` it is ``A => B``:\n",
    "```\n",
    "import cats._\n",
    "\n",
    "implicit val optionApply: Apply[Option] = new Apply[Option] {\n",
    "  def ap[A, B](f: Option[A => B])(fa: Option[A]): Option[B] =\n",
    "    fa.flatMap(a => f.map(ff => ff(a)))\n",
    "\n",
    "  def map[A, B](fa: Option[A])(f: A => B): Option[B] = fa map f\n",
    "\n",
    "  def product[A, B](fa: Option[A], fb: Option[B]): Option[(A, B)] =\n",
    "    fa.flatMap(a => fb.map(b => (a, b)))\n",
    "}\n",
    "```"
   ]
  },
  {
   "cell_type": "code",
   "execution_count": null,
   "metadata": {
    "collapsed": true
   },
   "outputs": [],
   "source": []
  },
  {
   "cell_type": "markdown",
   "metadata": {},
   "source": [
    "\n",
    "### Aplicative\n",
    "Applicative extends Apply by adding a single method, ``pure``:\n",
    "```\n",
    "def pure[A](x: A): F[A]\n",
    "```"
   ]
  },
  {
   "cell_type": "code",
   "execution_count": null,
   "metadata": {
    "collapsed": true
   },
   "outputs": [],
   "source": []
  },
  {
   "cell_type": "markdown",
   "metadata": {},
   "source": [
    "### Monad\n",
    "``Monad`` extends the ``Applicative`` type class with a new function ``flatten`` which takes a value in a nested context (eg. ``F[F[A]]`` where ``F`` is the context) and \"joins\" the contexts together so that we have a single context (i.e.: ``F[A]``).\n",
    "\n",
    "The name ``flatten`` should remind you of the functions of the same name on many classes in the standard library."
   ]
  },
  {
   "cell_type": "code",
   "execution_count": null,
   "metadata": {
    "collapsed": true
   },
   "outputs": [],
   "source": []
  },
  {
   "cell_type": "markdown",
   "metadata": {},
   "source": [
    "### Foldable\n",
    "``Foldable`` type class instances can be defined for data structures that can be folded to a summary value.\n",
    "\n",
    "In the case of a collection (such as ``List`` or ``Set``), these methods will fold together (``combine``) the values contained in the collection to produce a single result. Most collection types have ``foldLeft`` methods, which will usually be used by the associated ``Foldable[_]`` instance.\n",
    "\n",
    "``Foldable[F]`` is implemented in terms of two basic methods:\n",
    "\n",
    "* ``foldLeft(fa, b)(f)`` eagerly folds fa from left-to-right.\n",
    "* ``foldRight(fa, b)(f)`` lazily folds fa from right-to-left."
   ]
  },
  {
   "cell_type": "code",
   "execution_count": null,
   "metadata": {
    "collapsed": true
   },
   "outputs": [],
   "source": []
  },
  {
   "cell_type": "markdown",
   "metadata": {},
   "source": [
    "### Traverse\n",
    "At center stage of ``Traverse`` is the ``traverse`` method:\n",
    "```\n",
    "trait Traverse[F[_]] {\n",
    "  def traverse[G[_]: Applicative, A, B](fa: F[A])(f: A => G[B]): G[F[B]]\n",
    "}\n",
    "```\n",
    "For example, ``F`` is ``List``, and ``G`` is ``Option``, ``Xor``, or ``Future``. Now, for a given ``List[User]`` and a function ``User => Future[Profile]``, ``traverse`` can give you a ``Future[List[Profile]]``.\n"
   ]
  },
  {
   "cell_type": "code",
   "execution_count": null,
   "metadata": {
    "collapsed": true
   },
   "outputs": [],
   "source": []
  }
 ],
 "metadata": {
  "kernelspec": {
   "display_name": "Scala 2.11",
   "language": "scala211",
   "name": "scala211"
  },
  "language_info": {
   "codemirror_mode": "text/x-scala",
   "file_extension": ".scala",
   "mimetype": "text/x-scala",
   "name": "scala211",
   "pygments_lexer": "scala",
   "version": "2.11.8"
  }
 },
 "nbformat": 4,
 "nbformat_minor": 0
}
