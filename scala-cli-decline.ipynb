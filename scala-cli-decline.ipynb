{
 "cells": [
  {
   "cell_type": "markdown",
   "metadata": {},
   "source": [
    "The intent of this notebook is testing the limits of Decline, in particular from the perspective of composition.\n",
    "\n",
    "Since composition is done by a product (tuple), it's natural to think that the old and well known limit of 22 elements would apply to this case."
   ]
  },
  {
   "cell_type": "code",
   "execution_count": 1,
   "metadata": {},
   "outputs": [
    {
     "data": {
      "text/plain": [
       "\u001b[32mimport \u001b[39m\u001b[36m$ivy.$                            \u001b[39m"
      ]
     },
     "execution_count": 1,
     "metadata": {},
     "output_type": "execute_result"
    }
   ],
   "source": [
    "import $ivy.`com.monovore::decline:0.5.0`"
   ]
  },
  {
   "cell_type": "code",
   "execution_count": 2,
   "metadata": {},
   "outputs": [
    {
     "data": {
      "text/plain": [
       "\u001b[32mimport \u001b[39m\u001b[36mcats.implicits._\n",
       "\u001b[39m\n",
       "\u001b[32mimport \u001b[39m\u001b[36mcom.monovore.decline._\u001b[39m"
      ]
     },
     "execution_count": 2,
     "metadata": {},
     "output_type": "execute_result"
    }
   ],
   "source": [
    "import cats.implicits._\n",
    "import com.monovore.decline._"
   ]
  },
  {
   "cell_type": "code",
   "execution_count": 3,
   "metadata": {},
   "outputs": [
    {
     "data": {
      "text/plain": [
       "\u001b[36ma1\u001b[39m: \u001b[32mOpts\u001b[39m[\u001b[32mInt\u001b[39m] = Opts(--a1 <a1>)\n",
       "\u001b[36ma2\u001b[39m: \u001b[32mOpts\u001b[39m[\u001b[32mInt\u001b[39m] = Opts(--a2 <a2>)\n",
       "\u001b[36ma3\u001b[39m: \u001b[32mOpts\u001b[39m[\u001b[32mInt\u001b[39m] = Opts(--a3 <a3>)\n",
       "\u001b[36ma4\u001b[39m: \u001b[32mOpts\u001b[39m[\u001b[32mInt\u001b[39m] = Opts(--a4 <a4>)\n",
       "\u001b[36ma5\u001b[39m: \u001b[32mOpts\u001b[39m[\u001b[32mInt\u001b[39m] = Opts(--a5 <a5>)\n",
       "\u001b[36ma6\u001b[39m: \u001b[32mOpts\u001b[39m[\u001b[32mInt\u001b[39m] = Opts(--a6 <a6>)\n",
       "\u001b[36ma7\u001b[39m: \u001b[32mOpts\u001b[39m[\u001b[32mInt\u001b[39m] = Opts(--a7 <a7>)\n",
       "\u001b[36ma8\u001b[39m: \u001b[32mOpts\u001b[39m[\u001b[32mInt\u001b[39m] = Opts(--a8 <a8>)\n",
       "\u001b[36ma9\u001b[39m: \u001b[32mOpts\u001b[39m[\u001b[32mInt\u001b[39m] = Opts(--a9 <a9>)\n",
       "\u001b[36ma10\u001b[39m: \u001b[32mOpts\u001b[39m[\u001b[32mInt\u001b[39m] = Opts(--a10 <a10>)\n",
       "\u001b[36ma11\u001b[39m: \u001b[32mOpts\u001b[39m[\u001b[32mInt\u001b[39m] = Opts(--a11 <a11>)\n",
       "\u001b[36ma12\u001b[39m: \u001b[32mOpts\u001b[39m[\u001b[32mInt\u001b[39m] = Opts(--a12 <a12>)\n",
       "\u001b[36ma13\u001b[39m: \u001b[32mOpts\u001b[39m[\u001b[32mInt\u001b[39m] = Opts(--a13 <a13>)\n",
       "\u001b[36ma14\u001b[39m: \u001b[32mOpts\u001b[39m[\u001b[32mInt\u001b[39m] = Opts(--a14 <a14>)\n",
       "\u001b[36ma15\u001b[39m: \u001b[32mOpts\u001b[39m[\u001b[32mInt\u001b[39m] = Opts(--a15 <a15>)\n",
       "\u001b[36ma16\u001b[39m: \u001b[32mOpts\u001b[39m[\u001b[32mInt\u001b[39m] = Opts(--a16 <a16>)\n",
       "\u001b[36ma17\u001b[39m: \u001b[32mOpts\u001b[39m[\u001b[32mInt\u001b[39m] = Opts(--a17 <a17>)\n",
       "\u001b[36ma18\u001b[39m: \u001b[32mOpts\u001b[39m[\u001b[32mInt\u001b[39m] = Opts(--a18 <a18>)\n",
       "\u001b[36ma19\u001b[39m: \u001b[32mOpts\u001b[39m[\u001b[32mInt\u001b[39m] = Opts(--a19 <a19>)\n",
       "\u001b[36ma20\u001b[39m: \u001b[32mOpts\u001b[39m[\u001b[32mInt\u001b[39m] = Opts(--a20 <a20>)\n",
       "\u001b[36ma21\u001b[39m: \u001b[32mOpts\u001b[39m[\u001b[32mInt\u001b[39m] = Opts(--a21 <a21>)\n",
       "\u001b[36ma22\u001b[39m: \u001b[32mOpts\u001b[39m[\u001b[32mInt\u001b[39m] = Opts(--a22 <a22>)\n",
       "\u001b[36ma23\u001b[39m: \u001b[32mOpts\u001b[39m[\u001b[32mInt\u001b[39m] = Opts(--a23 <a23>)\n",
       "\u001b[36ma24\u001b[39m: \u001b[32mOpts\u001b[39m[\u001b[32mInt\u001b[39m] = Opts(--a24 <a24>)\n",
       "\u001b[36ma25\u001b[39m: \u001b[32mOpts\u001b[39m[\u001b[32mInt\u001b[39m] = Opts(--a25 <a25>)\n",
       "\u001b[36ma26\u001b[39m: \u001b[32mOpts\u001b[39m[\u001b[32mInt\u001b[39m] = Opts(--a26 <a26>)\n",
       "\u001b[36ma27\u001b[39m: \u001b[32mOpts\u001b[39m[\u001b[32mInt\u001b[39m] = Opts(--a27 <a27>)\n",
       "\u001b[36ma28\u001b[39m: \u001b[32mOpts\u001b[39m[\u001b[32mInt\u001b[39m] = Opts(--a28 <a28>)\n",
       "\u001b[36ma29\u001b[39m: \u001b[32mOpts\u001b[39m[\u001b[32mInt\u001b[39m] = Opts(--a29 <a29>)\n",
       "\u001b[36ma30\u001b[39m: \u001b[32mOpts\u001b[39m[\u001b[32mInt\u001b[39m] = Opts(--a30 <a30>)\n",
       "\u001b[36ma31\u001b[39m: \u001b[32mOpts\u001b[39m[\u001b[32mInt\u001b[39m] = Opts(--a31 <a31>)\n",
       "\u001b[36ma32\u001b[39m: \u001b[32mOpts\u001b[39m[\u001b[32mInt\u001b[39m] = Opts(--a32 <a32>)\n",
       "\u001b[36ma33\u001b[39m: \u001b[32mOpts\u001b[39m[\u001b[32mInt\u001b[39m] = Opts(--a33 <a33>)\n",
       "\u001b[36ma34\u001b[39m: \u001b[32mOpts\u001b[39m[\u001b[32mInt\u001b[39m] = Opts(--a34 <a34>)\n",
       "\u001b[36ma35\u001b[39m: \u001b[32mOpts\u001b[39m[\u001b[32mInt\u001b[39m] = Opts(--a35 <a35>)\n",
       "\u001b[36ma36\u001b[39m: \u001b[32mOpts\u001b[39m[\u001b[32mInt\u001b[39m] = Opts(--a36 <a36>)\n",
       "\u001b[36ma37\u001b[39m: \u001b[32mOpts\u001b[39m[\u001b[32mInt\u001b[39m] = Opts(--a37 <a37>)\n",
       "\u001b[36ma38\u001b[39m: \u001b[32mOpts\u001b[39m[\u001b[32mInt\u001b[39m] = Opts(--a38 <a38>)\n",
       "\u001b[36ma39\u001b[39m: \u001b[32mOpts\u001b[39m[\u001b[32mInt\u001b[39m] = Opts(--a39 <a39>)\n",
       "\u001b[36ma40\u001b[39m: \u001b[32mOpts\u001b[39m[\u001b[32mInt\u001b[39m] = Opts(--a40 <a40>)\n",
       "\u001b[36ma41\u001b[39m: \u001b[32mOpts\u001b[39m[\u001b[32mInt\u001b[39m] = Opts(--a41 <a41>)\n",
       "\u001b[36ma42\u001b[39m: \u001b[32mOpts\u001b[39m[\u001b[32mInt\u001b[39m] = Opts(--a42 <a42>)\n",
       "\u001b[36ma43\u001b[39m: \u001b[32mOpts\u001b[39m[\u001b[32mInt\u001b[39m] = Opts(--a43 <a43>)\n",
       "\u001b[36ma44\u001b[39m: \u001b[32mOpts\u001b[39m[\u001b[32mInt\u001b[39m] = Opts(--a44 <a44>)\n",
       "\u001b[36ma45\u001b[39m: \u001b[32mOpts\u001b[39m[\u001b[32mInt\u001b[39m] = Opts(--a45 <a45>)\n",
       "\u001b[36ma46\u001b[39m: \u001b[32mOpts\u001b[39m[\u001b[32mInt\u001b[39m] = Opts(--a46 <a46>)\n",
       "\u001b[36ma47\u001b[39m: \u001b[32mOpts\u001b[39m[\u001b[32mInt\u001b[39m] = Opts(--a47 <a47>)\n",
       "\u001b[36ma48\u001b[39m: \u001b[32mOpts\u001b[39m[\u001b[32mInt\u001b[39m] = Opts(--a48 <a48>)\n",
       "\u001b[36ma49\u001b[39m: \u001b[32mOpts\u001b[39m[\u001b[32mInt\u001b[39m] = Opts(--a49 <a49>)\n",
       "\u001b[36ma50\u001b[39m: \u001b[32mOpts\u001b[39m[\u001b[32mInt\u001b[39m] = Opts(--a50 <a50>)"
      ]
     },
     "execution_count": 3,
     "metadata": {},
     "output_type": "execute_result"
    }
   ],
   "source": [
    "val a1 = Opts.option[Int](\"a1\", metavar = \"a1\", help = \"Set a number of a1.\")\n",
    "val a2 = Opts.option[Int](\"a2\", metavar = \"a2\", help = \"Set a number of a2.\")\n",
    "val a3 = Opts.option[Int](\"a3\", metavar = \"a3\", help = \"Set a number of a3.\")\n",
    "val a4 = Opts.option[Int](\"a4\", metavar = \"a4\", help = \"Set a number of a4.\")\n",
    "val a5 = Opts.option[Int](\"a5\", metavar = \"a5\", help = \"Set a number of a5.\")\n",
    "val a6 = Opts.option[Int](\"a6\", metavar = \"a6\", help = \"Set a number of a6.\")\n",
    "val a7 = Opts.option[Int](\"a7\", metavar = \"a7\", help = \"Set a number of a7.\")\n",
    "val a8 = Opts.option[Int](\"a8\", metavar = \"a8\", help = \"Set a number of a8.\")\n",
    "val a9 = Opts.option[Int](\"a9\", metavar = \"a9\", help = \"Set a number of a9.\")\n",
    "val a10 = Opts.option[Int](\"a10\", metavar = \"a10\", help = \"Set a number of a10.\")\n",
    "val a11 = Opts.option[Int](\"a11\", metavar = \"a11\", help = \"Set a number of a11.\")\n",
    "val a12 = Opts.option[Int](\"a12\", metavar = \"a12\", help = \"Set a number of a12.\")\n",
    "val a13 = Opts.option[Int](\"a13\", metavar = \"a13\", help = \"Set a number of a13.\")\n",
    "val a14 = Opts.option[Int](\"a14\", metavar = \"a14\", help = \"Set a number of a14.\")\n",
    "val a15 = Opts.option[Int](\"a15\", metavar = \"a15\", help = \"Set a number of a15.\")\n",
    "val a16 = Opts.option[Int](\"a16\", metavar = \"a16\", help = \"Set a number of a16.\")\n",
    "val a17 = Opts.option[Int](\"a17\", metavar = \"a17\", help = \"Set a number of a17.\")\n",
    "val a18 = Opts.option[Int](\"a18\", metavar = \"a18\", help = \"Set a number of a18.\")\n",
    "val a19 = Opts.option[Int](\"a19\", metavar = \"a19\", help = \"Set a number of a19.\")\n",
    "val a20 = Opts.option[Int](\"a20\", metavar = \"a20\", help = \"Set a number of a20.\")\n",
    "val a21 = Opts.option[Int](\"a21\", metavar = \"a21\", help = \"Set a number of a21.\")\n",
    "val a22 = Opts.option[Int](\"a22\", metavar = \"a22\", help = \"Set a number of a22.\")\n",
    "val a23 = Opts.option[Int](\"a23\", metavar = \"a23\", help = \"Set a number of a23.\")\n",
    "val a24 = Opts.option[Int](\"a24\", metavar = \"a24\", help = \"Set a number of a24.\")\n",
    "val a25 = Opts.option[Int](\"a25\", metavar = \"a25\", help = \"Set a number of a25.\")\n",
    "val a26 = Opts.option[Int](\"a26\", metavar = \"a26\", help = \"Set a number of a26.\")\n",
    "val a27 = Opts.option[Int](\"a27\", metavar = \"a27\", help = \"Set a number of a27.\")\n",
    "val a28 = Opts.option[Int](\"a28\", metavar = \"a28\", help = \"Set a number of a28.\")\n",
    "val a29 = Opts.option[Int](\"a29\", metavar = \"a29\", help = \"Set a number of a29.\")\n",
    "val a30 = Opts.option[Int](\"a30\", metavar = \"a30\", help = \"Set a number of a30.\")\n",
    "val a31 = Opts.option[Int](\"a31\", metavar = \"a31\", help = \"Set a number of a31.\")\n",
    "val a32 = Opts.option[Int](\"a32\", metavar = \"a32\", help = \"Set a number of a32.\")\n",
    "val a33 = Opts.option[Int](\"a33\", metavar = \"a33\", help = \"Set a number of a33.\")\n",
    "val a34 = Opts.option[Int](\"a34\", metavar = \"a34\", help = \"Set a number of a34.\")\n",
    "val a35 = Opts.option[Int](\"a35\", metavar = \"a35\", help = \"Set a number of a35.\")\n",
    "val a36 = Opts.option[Int](\"a36\", metavar = \"a36\", help = \"Set a number of a36.\")\n",
    "val a37 = Opts.option[Int](\"a37\", metavar = \"a37\", help = \"Set a number of a37.\")\n",
    "val a38 = Opts.option[Int](\"a38\", metavar = \"a38\", help = \"Set a number of a38.\")\n",
    "val a39 = Opts.option[Int](\"a39\", metavar = \"a39\", help = \"Set a number of a39.\")\n",
    "val a40 = Opts.option[Int](\"a40\", metavar = \"a40\", help = \"Set a number of a40.\")\n",
    "val a41 = Opts.option[Int](\"a41\", metavar = \"a41\", help = \"Set a number of a41.\")\n",
    "val a42 = Opts.option[Int](\"a42\", metavar = \"a42\", help = \"Set a number of a42.\")\n",
    "val a43 = Opts.option[Int](\"a43\", metavar = \"a43\", help = \"Set a number of a43.\")\n",
    "val a44 = Opts.option[Int](\"a44\", metavar = \"a44\", help = \"Set a number of a44.\")\n",
    "val a45 = Opts.option[Int](\"a45\", metavar = \"a45\", help = \"Set a number of a45.\")\n",
    "val a46 = Opts.option[Int](\"a46\", metavar = \"a46\", help = \"Set a number of a46.\")\n",
    "val a47 = Opts.option[Int](\"a47\", metavar = \"a47\", help = \"Set a number of a47.\")\n",
    "val a48 = Opts.option[Int](\"a48\", metavar = \"a48\", help = \"Set a number of a48.\")\n",
    "val a49 = Opts.option[Int](\"a49\", metavar = \"a49\", help = \"Set a number of a49.\")\n",
    "val a50 = Opts.option[Int](\"a50\", metavar = \"a50\", help = \"Set a number of a50.\")"
   ]
  },
  {
   "cell_type": "code",
   "execution_count": null,
   "metadata": {},
   "outputs": [],
   "source": []
  },
  {
   "cell_type": "code",
   "execution_count": 4,
   "metadata": {},
   "outputs": [
    {
     "data": {
      "text/plain": [
       "\u001b[36ma1to10\u001b[39m: \u001b[32mOpts\u001b[39m[\u001b[32mUnit\u001b[39m] = Opts(--a1 <a1> --a2 <a2> --a3 <a3> --a4 <a4> --a5 <a5> --a6 <a6> --a7 <a7> --a8 <a8> --a9 <a9> --a10 <a10>)"
      ]
     },
     "execution_count": 4,
     "metadata": {},
     "output_type": "execute_result"
    }
   ],
   "source": [
    "val a1to10 = (a1,a2,a3,a4,a5,a6,a7,a8,a9,a10).mapN { \n",
    "(n1,n2,n3,n4,n5,n6,n7,n8,n9,n10) => println(\"1to10\")\n",
    "}"
   ]
  },
  {
   "cell_type": "code",
   "execution_count": 5,
   "metadata": {},
   "outputs": [
    {
     "data": {
      "text/plain": [
       "\u001b[36ma11to20\u001b[39m: \u001b[32mOpts\u001b[39m[\u001b[32mUnit\u001b[39m] = Opts(--a11 <a11> --a12 <a12> --a13 <a13> --a14 <a14> --a15 <a15> --a16 <a16> --a17 <a17> --a18 <a18> --a19 <a19> --a20 <a20>)"
      ]
     },
     "execution_count": 5,
     "metadata": {},
     "output_type": "execute_result"
    }
   ],
   "source": [
    "val a11to20 = (a11,a12,a13,a14,a15,a16,a17,a18,a19,a20).mapN { \n",
    "  (n1,n2,n3,n4,n5,n6,n7,n8,n9,n10) => println(\"11to20\")\n",
    "}"
   ]
  },
  {
   "cell_type": "code",
   "execution_count": 6,
   "metadata": {},
   "outputs": [
    {
     "data": {
      "text/plain": [
       "\u001b[36ma21to30\u001b[39m: \u001b[32mOpts\u001b[39m[\u001b[32mUnit\u001b[39m] = Opts(--a21 <a21> --a22 <a22> --a23 <a23> --a24 <a24> --a25 <a25> --a26 <a26> --a27 <a27> --a28 <a28> --a29 <a29> --a30 <a30>)"
      ]
     },
     "execution_count": 6,
     "metadata": {},
     "output_type": "execute_result"
    }
   ],
   "source": [
    "val a21to30 = (a21,a22,a23,a24,a25,a26,a27,a28,a29,a30).mapN { \n",
    "  (n21,n22,n23,n24,n25,n26,n27,n28,n29,n30) => println(\"21to30\")\n",
    "}"
   ]
  },
  {
   "cell_type": "code",
   "execution_count": null,
   "metadata": {},
   "outputs": [],
   "source": []
  },
  {
   "cell_type": "code",
   "execution_count": 7,
   "metadata": {
    "scrolled": true
   },
   "outputs": [
    {
     "data": {
      "text/plain": [
       "\u001b[36mt1\u001b[39m: \u001b[32mOpts\u001b[39m[\u001b[32mUnit\u001b[39m] = Opts(--a1 <a1> --a2 <a2> --a3 <a3> --a4 <a4> --a5 <a5> --a6 <a6> --a7 <a7> --a8 <a8> --a9 <a9> --a10 <a10> | --a11 <a11> --a12 <a12> --a13 <a13> --a14 <a14> --a15 <a15> --a16 <a16> --a17 <a17> --a18 <a18> --a19 <a19> --a20 <a20> | --a21 <a21> --a22 <a22> --a23 <a23> --a24 <a24> --a25 <a25> --a26 <a26> --a27 <a27> --a28 <a28> --a29 <a29> --a30 <a30>)"
      ]
     },
     "execution_count": 7,
     "metadata": {},
     "output_type": "execute_result"
    }
   ],
   "source": [
    "val t1 = a1to10 orElse a11to20 orElse a21to30"
   ]
  },
  {
   "cell_type": "code",
   "execution_count": 7,
   "metadata": {
    "scrolled": false
   },
   "outputs": [
    {
     "name": "stderr",
     "output_type": "stream",
     "text": [
      "cmd7.sc:1: value andThen is not a member of com.monovore.decline.Opts[Unit]\n",
      "val t2 = a1to10 andThen a11to20 andThen a21to30\n",
      "                ^"
     ]
    },
    {
     "ename": "",
     "evalue": "",
     "output_type": "error",
     "traceback": [
      "Compilation Failed"
     ]
    }
   ],
   "source": [
    "val t2 = a1to10 andThen a11to20 andThen a21to30"
   ]
  }
 ],
 "metadata": {
  "kernelspec": {
   "display_name": "Scala",
   "language": "scala",
   "name": "scala"
  },
  "language_info": {
   "codemirror_mode": "text/x-scala",
   "file_extension": ".scala",
   "mimetype": "text/x-scala",
   "name": "scala211",
   "nbconvert_exporter": "script",
   "pygments_lexer": "scala",
   "version": "2.11.11"
  }
 },
 "nbformat": 4,
 "nbformat_minor": 2
}
