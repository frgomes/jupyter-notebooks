{
 "cells": [
  {
   "cell_type": "markdown",
   "metadata": {},
   "source": [
    "The intent of this notebook is testing the limits of Decline, in particular from the perspective of composition.\n",
    "\n",
    "Since composition is done by a product (tuple), it's natural to think that the old and well known limit of 22 elements would apply to this case."
   ]
  },
  {
   "cell_type": "code",
   "execution_count": null,
   "metadata": {},
   "outputs": [],
   "source": [
    "import $ivy.`com.monovore::decline:0.5.0`"
   ]
  },
  {
   "cell_type": "code",
   "execution_count": null,
   "metadata": {},
   "outputs": [],
   "source": [
    "import cats.implicits._\n",
    "import com.monovore.decline._"
   ]
  },
  {
   "cell_type": "code",
   "execution_count": null,
   "metadata": {},
   "outputs": [],
   "source": [
    "val a1 = Opts.option[Int](\"a1\", metavar = \"a1\", help = \"Set a number of a1.\")\n",
    "val a2 = Opts.option[Int](\"a2\", metavar = \"a2\", help = \"Set a number of a2.\")\n",
    "val a3 = Opts.option[Int](\"a3\", metavar = \"a3\", help = \"Set a number of a3.\")\n",
    "val a4 = Opts.option[Int](\"a4\", metavar = \"a4\", help = \"Set a number of a4.\")\n",
    "val a5 = Opts.option[Int](\"a5\", metavar = \"a5\", help = \"Set a number of a5.\")\n",
    "val a6 = Opts.option[Int](\"a6\", metavar = \"a6\", help = \"Set a number of a6.\")\n",
    "val a7 = Opts.option[Int](\"a7\", metavar = \"a7\", help = \"Set a number of a7.\")\n",
    "val a8 = Opts.option[Int](\"a8\", metavar = \"a8\", help = \"Set a number of a8.\")\n",
    "val a9 = Opts.option[Int](\"a9\", metavar = \"a9\", help = \"Set a number of a9.\")\n",
    "val a10 = Opts.option[Int](\"a10\", metavar = \"a10\", help = \"Set a number of a10.\")\n",
    "val a11 = Opts.option[Int](\"a11\", metavar = \"a11\", help = \"Set a number of a11.\")\n",
    "val a12 = Opts.option[Int](\"a12\", metavar = \"a12\", help = \"Set a number of a12.\")\n",
    "val a13 = Opts.option[Int](\"a13\", metavar = \"a13\", help = \"Set a number of a13.\")\n",
    "val a14 = Opts.option[Int](\"a14\", metavar = \"a14\", help = \"Set a number of a14.\")\n",
    "val a15 = Opts.option[Int](\"a15\", metavar = \"a15\", help = \"Set a number of a15.\")\n",
    "val a16 = Opts.option[Int](\"a16\", metavar = \"a16\", help = \"Set a number of a16.\")\n",
    "val a17 = Opts.option[Int](\"a17\", metavar = \"a17\", help = \"Set a number of a17.\")\n",
    "val a18 = Opts.option[Int](\"a18\", metavar = \"a18\", help = \"Set a number of a18.\")\n",
    "val a19 = Opts.option[Int](\"a19\", metavar = \"a19\", help = \"Set a number of a19.\")\n",
    "val a20 = Opts.option[Int](\"a20\", metavar = \"a20\", help = \"Set a number of a20.\")\n",
    "val a21 = Opts.option[Int](\"a21\", metavar = \"a21\", help = \"Set a number of a21.\")\n",
    "val a22 = Opts.option[Int](\"a22\", metavar = \"a22\", help = \"Set a number of a22.\")\n",
    "val a23 = Opts.option[Int](\"a23\", metavar = \"a23\", help = \"Set a number of a23.\")\n",
    "val a24 = Opts.option[Int](\"a24\", metavar = \"a24\", help = \"Set a number of a24.\")\n",
    "val a25 = Opts.option[Int](\"a25\", metavar = \"a25\", help = \"Set a number of a25.\")\n",
    "val a26 = Opts.option[Int](\"a26\", metavar = \"a26\", help = \"Set a number of a26.\")\n",
    "val a27 = Opts.option[Int](\"a27\", metavar = \"a27\", help = \"Set a number of a27.\")\n",
    "val a28 = Opts.option[Int](\"a28\", metavar = \"a28\", help = \"Set a number of a28.\")\n",
    "val a29 = Opts.option[Int](\"a29\", metavar = \"a29\", help = \"Set a number of a29.\")\n",
    "val a30 = Opts.option[Int](\"a30\", metavar = \"a30\", help = \"Set a number of a30.\")\n",
    "val a31 = Opts.option[Int](\"a31\", metavar = \"a31\", help = \"Set a number of a31.\")\n",
    "val a32 = Opts.option[Int](\"a32\", metavar = \"a32\", help = \"Set a number of a32.\")\n",
    "val a33 = Opts.option[Int](\"a33\", metavar = \"a33\", help = \"Set a number of a33.\")\n",
    "val a34 = Opts.option[Int](\"a34\", metavar = \"a34\", help = \"Set a number of a34.\")\n",
    "val a35 = Opts.option[Int](\"a35\", metavar = \"a35\", help = \"Set a number of a35.\")\n",
    "val a36 = Opts.option[Int](\"a36\", metavar = \"a36\", help = \"Set a number of a36.\")\n",
    "val a37 = Opts.option[Int](\"a37\", metavar = \"a37\", help = \"Set a number of a37.\")\n",
    "val a38 = Opts.option[Int](\"a38\", metavar = \"a38\", help = \"Set a number of a38.\")\n",
    "val a39 = Opts.option[Int](\"a39\", metavar = \"a39\", help = \"Set a number of a39.\")\n",
    "val a40 = Opts.option[Int](\"a40\", metavar = \"a40\", help = \"Set a number of a40.\")\n",
    "val a41 = Opts.option[Int](\"a41\", metavar = \"a41\", help = \"Set a number of a41.\")\n",
    "val a42 = Opts.option[Int](\"a42\", metavar = \"a42\", help = \"Set a number of a42.\")\n",
    "val a43 = Opts.option[Int](\"a43\", metavar = \"a43\", help = \"Set a number of a43.\")\n",
    "val a44 = Opts.option[Int](\"a44\", metavar = \"a44\", help = \"Set a number of a44.\")\n",
    "val a45 = Opts.option[Int](\"a45\", metavar = \"a45\", help = \"Set a number of a45.\")\n",
    "val a46 = Opts.option[Int](\"a46\", metavar = \"a46\", help = \"Set a number of a46.\")\n",
    "val a47 = Opts.option[Int](\"a47\", metavar = \"a47\", help = \"Set a number of a47.\")\n",
    "val a48 = Opts.option[Int](\"a48\", metavar = \"a48\", help = \"Set a number of a48.\")\n",
    "val a49 = Opts.option[Int](\"a49\", metavar = \"a49\", help = \"Set a number of a49.\")\n",
    "val a50 = Opts.option[Int](\"a50\", metavar = \"a50\", help = \"Set a number of a50.\")"
   ]
  },
  {
   "cell_type": "code",
   "execution_count": null,
   "metadata": {},
   "outputs": [],
   "source": []
  },
  {
   "cell_type": "code",
   "execution_count": null,
   "metadata": {},
   "outputs": [],
   "source": [
    "val a1to10 = (a1,a2,a3,a4,a5,a6,a7,a8,a9,a10).mapN { \n",
    "(n1,n2,n3,n4,n5,n6,n7,n8,n9,n10) => println(\"1to10\")\n",
    "}"
   ]
  },
  {
   "cell_type": "code",
   "execution_count": null,
   "metadata": {},
   "outputs": [],
   "source": [
    "val a11to20 = (a11,a12,a13,a14,a15,a16,a17,a18,a19,a20).mapN { \n",
    "  (n1,n2,n3,n4,n5,n6,n7,n8,n9,n10) => println(\"11to20\")\n",
    "}"
   ]
  },
  {
   "cell_type": "code",
   "execution_count": null,
   "metadata": {},
   "outputs": [],
   "source": [
    "val a21to30 = (a21,a22,a23,a24,a25,a26,a27,a28,a29,a30).mapN { \n",
    "  (n21,n22,n23,n24,n25,n26,n27,n28,n29,n30) => println(\"21to30\")\n",
    "}"
   ]
  },
  {
   "cell_type": "code",
   "execution_count": null,
   "metadata": {},
   "outputs": [],
   "source": []
  },
  {
   "cell_type": "code",
   "execution_count": null,
   "metadata": {
    "scrolled": true
   },
   "outputs": [],
   "source": [
    "val t1 = a1to10 orElse a11to20 orElse a21to30"
   ]
  },
  {
   "cell_type": "code",
   "execution_count": null,
   "metadata": {
    "scrolled": false
   },
   "outputs": [],
   "source": [
    "val t2 = a1to10 andThen a11to20 andThen a21to30"
   ]
  }
 ],
 "metadata": {
  "kernelspec": {
   "display_name": "Scala",
   "language": "scala",
   "name": "scala"
  },
  "language_info": {
   "codemirror_mode": "text/x-scala",
   "file_extension": ".scala",
   "mimetype": "text/x-scala",
   "name": "scala",
   "nbconvert_exporter": "script",
   "version": "2.12.8"
  }
 },
 "nbformat": 4,
 "nbformat_minor": 2
}
