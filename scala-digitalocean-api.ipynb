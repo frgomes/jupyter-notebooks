{
 "cells": [
  {
   "cell_type": "code",
   "execution_count": null,
   "metadata": {},
   "outputs": [],
   "source": [
    "import $ivy.`com.softwaremill.sttp::core:1.3.0-RC5`\n",
    "import $ivy.`org.json4s::json4s-native:3.6.0`"
   ]
  },
  {
   "cell_type": "code",
   "execution_count": null,
   "metadata": {},
   "outputs": [],
   "source": [
    "import com.softwaremill.sttp._\n",
    "implicit val backend = HttpURLConnectionBackend()"
   ]
  },
  {
   "cell_type": "code",
   "execution_count": null,
   "metadata": {},
   "outputs": [],
   "source": [
    "import org.json4s._\n",
    "import org.json4s.native.JsonMethods._\n",
    "implicit lazy val formats = DefaultFormats"
   ]
  },
  {
   "cell_type": "code",
   "execution_count": null,
   "metadata": {},
   "outputs": [],
   "source": []
  },
  {
   "cell_type": "code",
   "execution_count": null,
   "metadata": {},
   "outputs": [],
   "source": [
    "case class Token(token: String)\n",
    "implicit val token = Token(\"c0feebabe\") // no, this is not an actual, valid token."
   ]
  },
  {
   "cell_type": "code",
   "execution_count": null,
   "metadata": {},
   "outputs": [],
   "source": [
    "case class Identifiable(id: Int, name: String)"
   ]
  },
  {
   "cell_type": "code",
   "execution_count": null,
   "metadata": {},
   "outputs": [],
   "source": [
    "def q(s: Any): String = '\"' + s.toString + '\"'"
   ]
  },
  {
   "cell_type": "code",
   "execution_count": null,
   "metadata": {},
   "outputs": [],
   "source": [
    "def doapiKeys(implicit ev: Token): Seq[BigInt] = {\n",
    "  val request  = sttp.auth.bearer(ev.token).get(uri\"https://api.digitalocean.com/v2/account/keys\")\n",
    "  val response = request.send()\n",
    "  val json = parse(response.body.right.get)\n",
    "  for { JObject(ids) <- (json \\\\ \"id\"); JField(\"id\", JInt(id)) <- ids } yield id\n",
    "}"
   ]
  },
  {
   "cell_type": "code",
   "execution_count": null,
   "metadata": {},
   "outputs": [],
   "source": [
    "def doapiDomainRecords(domainname: String)(implicit ev: Token): JValue = {\n",
    "  val request  =\n",
    "    sttp.auth.bearer(ev.token)\n",
    "      .get(uri\"https://api.digitalocean.com/v2/domains/${domainname}/records\")\n",
    "  val response = request.send()\n",
    "  val json = parse(response.body.right.get)\n",
    "  json\n",
    "}"
   ]
  },
  {
   "cell_type": "code",
   "execution_count": null,
   "metadata": {},
   "outputs": [],
   "source": [
    "def doapiDomainRecordDelete(domainname: String, hostnames: String*)(implicit ev: Token): Seq[Boolean] = {\n",
    "  val records = (doapiDomainRecords(domainname)(ev) \\\\ \"domain_records\").extract[List[Identifiable]]\n",
    "  hostnames\n",
    "    .flatMap { hostname =>\n",
    "      records\n",
    "        .filter(r => r.name == hostname)\n",
    "        .map { r =>\n",
    "          // println(s\"https://api.digitalocean.com/v2/domains/${domainname}/records/${r.id}\")\n",
    "          val request  =\n",
    "             sttp.auth.bearer(ev.token)\n",
    "              .delete(uri\"https://api.digitalocean.com/v2/domains/${domainname}/records/${r.id}\")\n",
    "          val response = request.send()\n",
    "          response.isSuccess\n",
    "        }\n",
    "    }\n",
    "}"
   ]
  },
  {
   "cell_type": "code",
   "execution_count": null,
   "metadata": {},
   "outputs": [],
   "source": []
  },
  {
   "cell_type": "code",
   "execution_count": null,
   "metadata": {},
   "outputs": [],
   "source": [
    "function digitalocean_domain_record_create {\n",
    "  local hostname=$1\n",
    "  local domainname=$2\n",
    "  local fqdn=${hostname}.${domainname}\n",
    "\n",
    "  http GET https://api.digitalocean.com/v2/droplets Authorization:\"Bearer ${doapi_token}\" --ignore-stdin | \\\n",
    "    jq -r \".droplets[] | select(.name == \\\"${hostname}\\\") | .networks.v4[0].ip_address\" | head -1 | \\\n",
    "      while read ip ;do\n",
    "        digitalocean_json_domain_create A ${hostname} ${ip} 300 > ${logdir}/domain_records_create_A-${hostname}-request.json\n",
    "        cat ${logdir}/domain_records_create_A-${hostname}-request.json | \\\n",
    "          http POST https://api.digitalocean.com/v2/domains/${domainname}/records Authorization:\"Bearer ${doapi_token}\" > ${logdir}/domain_records_create_A-${hostname}-response.json\n",
    "      done\n",
    "\n",
    "  http GET https://api.digitalocean.com/v2/droplets Authorization:\"Bearer ${doapi_token}\" --ignore-stdin | \\\n",
    "    jq -r \".droplets[] | select(.name == \\\"${hostname}\\\") | .networks.v6[0].ip_address\" | head -1 | \\\n",
    "      while read ip ;do\n",
    "        digitalocean_json_domain_create AAAA ${hostname} ${ip} 300 > ${logdir}/domain_records_create_AAAA-${hostname}-request.json\n",
    "        cat ${logdir}/domain_records_create_AAAA-${hostname}-request.json | \\\n",
    "          http POST https://api.digitalocean.com/v2/domains/${domainname}/records Authorization:\"Bearer ${doapi_token}\" > ${logdir}/domain_records_create_AAAA-${hostname}-response.json\n",
    "      done\n",
    "}"
   ]
  },
  {
   "cell_type": "code",
   "execution_count": null,
   "metadata": {},
   "outputs": [],
   "source": []
  },
  {
   "cell_type": "code",
   "execution_count": null,
   "metadata": {},
   "outputs": [],
   "source": [
    "def doapiDomainRecordCreate(domainname: String, hostname: String)(implicit ev: Token): Seq[Boolean] = ???"
   ]
  },
  {
   "cell_type": "code",
   "execution_count": null,
   "metadata": {},
   "outputs": [],
   "source": []
  },
  {
   "cell_type": "code",
   "execution_count": null,
   "metadata": {},
   "outputs": [],
   "source": [
    "def doDropletCreateJson(domainname: String, hostname: String,\n",
    "                        region: String, size: String, image: Int, ipv6: Boolean, tags: String)\n",
    "                       (implicit ev: Token): String = {\n",
    "  val keys = doapiKeys(ev).map(s => q(s)).mkString(\", \")\n",
    "  val _tags = tags.split(\",\").map(s => q(s)).mkString(\", \")\n",
    "  val json =\n",
    "s\"\"\"{\n",
    "   ^  \"name\": \"${hostname}\",\n",
    "   ^  \"region\": \"${region}\",\n",
    "   ^  \"size\": \"${size}\",\n",
    "   ^  \"image\": ${image},\n",
    "   ^  \"ssh_keys\": [ ${keys} ],\n",
    "   ^  \"backups\": false,\n",
    "   ^  \"ipv6\": ${ipv6},\n",
    "   ^  \"private_networking\": null,\n",
    "   ^  \"volumes\": null,\n",
    "   ^  \"tags\": [ ${_tags} ],\n",
    "   ^  \"user_data\": \"#cloud-config\n",
    "   ^manage_etc_hosts: false\n",
    "   ^write_files:\n",
    "   ^  - path: /etc/resolvconf/resolv.conf.d/head\n",
    "   ^    content: |\n",
    "   ^      domain ${domainname}\n",
    "   ^runcmd:\n",
    "   ^  - service resolvconf restart\n",
    "   ^\"\n",
    "   ^}\"\"\".stripMargin('^')\n",
    "  //println(json)                         \n",
    "  val check = parse(json)\n",
    "  //println(check)\n",
    "  json    \n",
    "}"
   ]
  },
  {
   "cell_type": "code",
   "execution_count": null,
   "metadata": {},
   "outputs": [],
   "source": [
    "def doDomainRecordsCreateJson(type: String, fqdn: String, address: String, ttl: Int)\n",
    "                             (implicit ev: Token): String = {\n",
    "  val json =\n",
    "s\"\"\"{\n",
    "   ^  \"type\": \"${type}\",\n",
    "   ^  \"name\": \"${fqdn}\",\n",
    "   ^  \"data\": \"${address}\",\n",
    "   ^  \"ttl\": ${ttl}\n",
    "   ^}\"\"\".stripMargin('^')\n",
    "  //println(json)                         \n",
    "  val check = parse(json)\n",
    "  //println(check)\n",
    "  json    \n",
    "}"
   ]
  },
  {
   "cell_type": "code",
   "execution_count": null,
   "metadata": {},
   "outputs": [],
   "source": [
    "function digitalocean_json_domain_create {\n",
    "local type=$1\n",
    "local name=$2\n",
    "local address=$3\n",
    "local ttl=$4\n",
    "cat << EOD\n",
    "{\n",
    "  \"type\": \"${type}\",\n",
    "  \"name\": \"${name}\",\n",
    "  \"data\": \"${address}\",\n",
    "  \"ttl\": ${ttl}\n",
    "}\n",
    "EOD\n",
    "}\n"
   ]
  },
  {
   "cell_type": "code",
   "execution_count": null,
   "metadata": {},
   "outputs": [],
   "source": [
    "def doDropletCreate(domainname: String, hostname: String, region: String,\n",
    "                    size: String, image: Int, ipv6: Boolean, tags: String)\n",
    "                   (implicit ev: Token) = {\n",
    "  val json = doDropletCreateJson(domainname, hostname, region, size, image, ipv6, tags)(ev)\n",
    "  val request  =\n",
    "    sttp.auth.bearer(ev.token)\n",
    "      .post(uri\"https://api.digitalocean.com/v2/droplets\")\n",
    "      .contentType(\"application/json\")\n",
    "      .body(json)\n",
    "  val response = request.send()\n",
    "  response\n",
    "}"
   ]
  },
  {
   "cell_type": "code",
   "execution_count": null,
   "metadata": {},
   "outputs": [],
   "source": [
    "def doapiDroplets(implicit ev: Token): JValue = {\n",
    "  val request  =\n",
    "    sttp.auth.bearer(ev.token)\n",
    "      .get(uri\"https://api.digitalocean.com/v2/droplets\")\n",
    "  val response = request.send()\n",
    "  // println(response)\n",
    "  val json = parse(response.body.right.get)\n",
    "  //println(json)\n",
    "  json\n",
    "}"
   ]
  },
  {
   "cell_type": "code",
   "execution_count": null,
   "metadata": {},
   "outputs": [],
   "source": [
    "def doapiDropletDelete(domainname: String, hostnames: String*)(implicit ev: Token): Seq[Boolean] = {\n",
    "  val records = (doapiDroplets(ev) \\\\ \"droplets\").extract[List[Identifiable]]\n",
    "  hostnames\n",
    "    .flatMap { hostname =>\n",
    "      records\n",
    "        .filter(r => r.name == hostname)\n",
    "        .map { r =>\n",
    "          //println(s\"https://api.digitalocean.com/v2/droplets/${r.id}\")\n",
    "          val request  =\n",
    "             sttp.auth.bearer(ev.token)\n",
    "              .delete(uri\"https://api.digitalocean.com/v2/droplets/${r.id}\")\n",
    "          val response = request.send()\n",
    "          response.isSuccess\n",
    "        }\n",
    "    }\n",
    "}"
   ]
  },
  {
   "cell_type": "code",
   "execution_count": null,
   "metadata": {},
   "outputs": [],
   "source": []
  },
  {
   "cell_type": "code",
   "execution_count": null,
   "metadata": {},
   "outputs": [],
   "source": []
  },
  {
   "cell_type": "code",
   "execution_count": null,
   "metadata": {},
   "outputs": [],
   "source": [
    "doDropletCreate(\"example.com\", \"test\", \"LON1\", \"s-1vcpu-1gb\", 36951366, true, \"dev,rgomes\")"
   ]
  },
  {
   "cell_type": "code",
   "execution_count": null,
   "metadata": {},
   "outputs": [],
   "source": [
    "doapiDropletDelete(\"example.com\", \"test\")"
   ]
  }
 ],
 "metadata": {
  "kernelspec": {
   "display_name": "Scala",
   "language": "scala",
   "name": "scala"
  },
  "language_info": {
   "codemirror_mode": "text/x-scala",
   "file_extension": ".scala",
   "mimetype": "text/x-scala",
   "name": "scala211",
   "nbconvert_exporter": "script",
   "pygments_lexer": "scala",
   "version": "2.11.11"
  }
 },
 "nbformat": 4,
 "nbformat_minor": 2
}
