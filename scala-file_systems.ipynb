{
 "cells": [
  {
   "cell_type": "code",
   "execution_count": null,
   "metadata": {},
   "outputs": [],
   "source": [
    "import java.nio.file._\n",
    "import java.io.File\n",
    "import scala.collection.JavaConverters._"
   ]
  },
  {
   "cell_type": "code",
   "execution_count": null,
   "metadata": {},
   "outputs": [],
   "source": [
    "FileSystems.getDefault.getFileStores.asScala.foreach { store =>\n",
    "  val total = store.getTotalSpace / 1024\n",
    "  val used  = (store.getTotalSpace - store.getUnallocatedSpace) / 1024\n",
    "  val avail = store.getUsableSpace / 1024\n",
    "  println(f\"${store}%-56s ${total}%12d ${used}%12d ${avail}%12d\")                                          \n",
    "}"
   ]
  }
 ],
 "metadata": {
  "kernelspec": {
   "display_name": "Scala",
   "language": "scala",
   "name": "scala"
  },
  "language_info": {
   "codemirror_mode": "text/x-scala",
   "file_extension": ".scala",
   "mimetype": "text/x-scala",
   "name": "scala",
   "nbconvert_exporter": "script",
   "version": "2.12.8"
  }
 },
 "nbformat": 4,
 "nbformat_minor": 1
}
