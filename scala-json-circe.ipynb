{
 "cells": [
  {
   "cell_type": "code",
   "execution_count": null,
   "metadata": {},
   "outputs": [],
   "source": [
    "import $ivy.`io.circe::circe-core:0.8.0`\n",
    "import $ivy.`io.circe::circe-generic:0.8.0`\n",
    "import $ivy.`io.circe::circe-parser:0.8.0`"
   ]
  },
  {
   "cell_type": "code",
   "execution_count": null,
   "metadata": {},
   "outputs": [],
   "source": [
    "case class GPS(lat: Double, lon: Double)\n",
    "case class IP(ip: String)"
   ]
  },
  {
   "cell_type": "code",
   "execution_count": null,
   "metadata": {
    "scrolled": false
   },
   "outputs": [],
   "source": [
    "import io.circe._\n",
    "import io.circe.generic.semiauto._\n",
    "import io.circe.parser._"
   ]
  },
  {
   "cell_type": "code",
   "execution_count": null,
   "metadata": {},
   "outputs": [],
   "source": [
    "implicit val decoderGPS: Decoder[GPS] = deriveDecoder[GPS]\n",
    "implicit val decoderIP:  Decoder[IP]  = deriveDecoder[IP]"
   ]
  },
  {
   "cell_type": "code",
   "execution_count": null,
   "metadata": {},
   "outputs": [],
   "source": [
    "val XXXtextGPS = \"\"\"{ \"gps\": [ \"lat\": 10.5, \"lon\": -40.5 ] }\"\"\"\n",
    "val textGPS = \"\"\"{ \"gps\": { \"lat\": 10.5, \"lon\": -40.5 } }\"\"\"\n",
    "val textIP  = \"\"\"{ \"ip\": \"88.66.44.22\" }\"\"\""
   ]
  },
  {
   "cell_type": "code",
   "execution_count": null,
   "metadata": {},
   "outputs": [],
   "source": [
    "val ip = decode[IP](textIP)(decoderIP)"
   ]
  },
  {
   "cell_type": "code",
   "execution_count": null,
   "metadata": {},
   "outputs": [],
   "source": [
    "val gps = decode[GPS](textGPS)(decoderGPS)"
   ]
  },
  {
   "cell_type": "code",
   "execution_count": null,
   "metadata": {},
   "outputs": [],
   "source": [
    "c.right.get"
   ]
  },
  {
   "cell_type": "code",
   "execution_count": null,
   "metadata": {},
   "outputs": [],
   "source": []
  }
 ],
 "metadata": {
  "kernelspec": {
   "display_name": "Scala",
   "language": "scala",
   "name": "scala"
  },
  "language_info": {
   "codemirror_mode": "text/x-scala",
   "file_extension": ".scala",
   "mimetype": "text/x-scala",
   "name": "scala",
   "nbconvert_exporter": "script",
   "version": "2.12.8"
  }
 },
 "nbformat": 4,
 "nbformat_minor": 2
}
