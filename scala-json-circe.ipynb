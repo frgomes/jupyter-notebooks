{
 "cells": [
  {
   "cell_type": "code",
   "execution_count": 1,
   "metadata": {},
   "outputs": [
    {
     "data": {
      "text/plain": [
       "\u001b[32mimport \u001b[39m\u001b[36m$ivy.$                           \n",
       "\u001b[39m\n",
       "\u001b[32mimport \u001b[39m\u001b[36m$ivy.$                              \n",
       "\u001b[39m\n",
       "\u001b[32mimport \u001b[39m\u001b[36m$ivy.$                             \u001b[39m"
      ]
     },
     "execution_count": 1,
     "metadata": {},
     "output_type": "execute_result"
    }
   ],
   "source": [
    "import $ivy.`io.circe::circe-core:0.8.0`\n",
    "import $ivy.`io.circe::circe-generic:0.8.0`\n",
    "import $ivy.`io.circe::circe-parser:0.8.0`"
   ]
  },
  {
   "cell_type": "code",
   "execution_count": 14,
   "metadata": {},
   "outputs": [
    {
     "data": {
      "text/plain": [
       "defined \u001b[32mclass\u001b[39m \u001b[36mGPS\u001b[39m\n",
       "defined \u001b[32mclass\u001b[39m \u001b[36mIP\u001b[39m"
      ]
     },
     "execution_count": 14,
     "metadata": {},
     "output_type": "execute_result"
    }
   ],
   "source": [
    "case class GPS(lat: Double, lon: Double)\n",
    "case class IP(ip: String)"
   ]
  },
  {
   "cell_type": "code",
   "execution_count": 4,
   "metadata": {
    "scrolled": false
   },
   "outputs": [
    {
     "data": {
      "text/plain": [
       "\u001b[32mimport \u001b[39m\u001b[36mio.circe._\n",
       "\u001b[39m\n",
       "\u001b[32mimport \u001b[39m\u001b[36mio.circe.generic.semiauto._\n",
       "\u001b[39m\n",
       "\u001b[32mimport \u001b[39m\u001b[36mio.circe.parser._\u001b[39m"
      ]
     },
     "execution_count": 4,
     "metadata": {},
     "output_type": "execute_result"
    }
   ],
   "source": [
    "import io.circe._\n",
    "import io.circe.generic.semiauto._\n",
    "import io.circe.parser._"
   ]
  },
  {
   "cell_type": "code",
   "execution_count": 15,
   "metadata": {},
   "outputs": [
    {
     "data": {
      "text/plain": [
       "\u001b[36mdecoderGPS\u001b[39m: \u001b[32mDecoder\u001b[39m[\u001b[32mGPS\u001b[39m] = io.circe.generic.decoding.DerivedDecoder$$anon$1@6f903225\n",
       "\u001b[36mdecoderIP\u001b[39m: \u001b[32mDecoder\u001b[39m[\u001b[32mIP\u001b[39m] = io.circe.generic.decoding.DerivedDecoder$$anon$1@43951a8f"
      ]
     },
     "execution_count": 15,
     "metadata": {},
     "output_type": "execute_result"
    }
   ],
   "source": [
    "implicit val decoderGPS: Decoder[GPS] = deriveDecoder[GPS]\n",
    "implicit val decoderIP:  Decoder[IP]  = deriveDecoder[IP]"
   ]
  },
  {
   "cell_type": "code",
   "execution_count": 27,
   "metadata": {},
   "outputs": [
    {
     "data": {
      "text/plain": [
       "\u001b[36mXXXtextGPS\u001b[39m: \u001b[32mString\u001b[39m = \u001b[32m\"\"\"\n",
       "{ \"gps\": [ \"lat\": 10.5, \"lon\": -40.5 ] }\n",
       "\"\"\"\u001b[39m\n",
       "\u001b[36mtextGPS\u001b[39m: \u001b[32mString\u001b[39m = \u001b[32m\"\"\"\n",
       "{ \"gps\": { \"lat\": 10.5, \"lon\": -40.5 } }\n",
       "\"\"\"\u001b[39m\n",
       "\u001b[36mtextIP\u001b[39m: \u001b[32mString\u001b[39m = \u001b[32m\"\"\"\n",
       "{ \"ip\": \"88.66.44.22\" }\n",
       "\"\"\"\u001b[39m"
      ]
     },
     "execution_count": 27,
     "metadata": {},
     "output_type": "execute_result"
    }
   ],
   "source": [
    "val XXXtextGPS = \"\"\"{ \"gps\": [ \"lat\": 10.5, \"lon\": -40.5 ] }\"\"\"\n",
    "val textGPS = \"\"\"{ \"gps\": { \"lat\": 10.5, \"lon\": -40.5 } }\"\"\"\n",
    "val textIP  = \"\"\"{ \"ip\": \"88.66.44.22\" }\"\"\""
   ]
  },
  {
   "cell_type": "code",
   "execution_count": 19,
   "metadata": {},
   "outputs": [
    {
     "data": {
      "text/plain": [
       "\u001b[36mip\u001b[39m: \u001b[32mEither\u001b[39m[\u001b[32mError\u001b[39m, \u001b[32mIP\u001b[39m] = \u001b[33mRight\u001b[39m(\u001b[33mIP\u001b[39m(\u001b[32m\"88.66.44.22\"\u001b[39m))"
      ]
     },
     "execution_count": 19,
     "metadata": {},
     "output_type": "execute_result"
    }
   ],
   "source": [
    "val ip = decode[IP](textIP)(decoderIP)"
   ]
  },
  {
   "cell_type": "code",
   "execution_count": 28,
   "metadata": {},
   "outputs": [
    {
     "data": {
      "text/plain": [
       "\u001b[36mgps\u001b[39m: \u001b[32mEither\u001b[39m[\u001b[32mError\u001b[39m, \u001b[32mGPS\u001b[39m] = \u001b[33mLeft\u001b[39m(\n",
       "  DecodingFailure(Attempt to decode value on failed cursor, List(DownField(lat)))\n",
       ")"
      ]
     },
     "execution_count": 28,
     "metadata": {},
     "output_type": "execute_result"
    }
   ],
   "source": [
    "val gps = decode[GPS](textGPS)(decoderGPS)"
   ]
  },
  {
   "cell_type": "code",
   "execution_count": 9,
   "metadata": {},
   "outputs": [
    {
     "data": {
      "text/plain": [
       "\u001b[36mres8\u001b[39m: \u001b[32mGPS\u001b[39m = \u001b[33mGPS\u001b[39m(\u001b[32m10.5\u001b[39m, \u001b[32m-40.5\u001b[39m)"
      ]
     },
     "execution_count": 9,
     "metadata": {},
     "output_type": "execute_result"
    }
   ],
   "source": [
    "c.right.get"
   ]
  },
  {
   "cell_type": "code",
   "execution_count": null,
   "metadata": {
    "collapsed": true
   },
   "outputs": [],
   "source": []
  }
 ],
 "metadata": {
  "kernelspec": {
   "display_name": "Scala",
   "language": "scala",
   "name": "scala"
  },
  "language_info": {
   "codemirror_mode": "text/x-scala",
   "file_extension": ".scala",
   "mimetype": "text/x-scala",
   "name": "scala211",
   "nbconvert_exporter": "script",
   "pygments_lexer": "scala",
   "version": "2.11.11"
  }
 },
 "nbformat": 4,
 "nbformat_minor": 2
}
