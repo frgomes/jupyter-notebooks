{
 "cells": [
  {
   "cell_type": "code",
   "execution_count": null,
   "metadata": {},
   "outputs": [],
   "source": [
    "import $ivy.`org.json4s::json4s-native:3.6.0`"
   ]
  },
  {
   "cell_type": "code",
   "execution_count": null,
   "metadata": {},
   "outputs": [],
   "source": [
    "import org.json4s._\n",
    "import org.json4s.native.JsonMethods._"
   ]
  },
  {
   "cell_type": "code",
   "execution_count": null,
   "metadata": {},
   "outputs": [],
   "source": [
    "val response = \"\"\"{\"tokenType\":\"Bearer\",\"accessToken\":\"AT-7c998706-9662-4c0c-8c9f-221bbfceebff\",\"expiresIn\":300,\"refreshToken\":\"RT-201048af-fd1d-4649-b73f-bd677c453ee3\",\"scope\":\"user\"}\"\"\""
   ]
  },
  {
   "cell_type": "code",
   "execution_count": null,
   "metadata": {},
   "outputs": [],
   "source": [
    "val json = parse(response)\n",
    "val accessToken : String = (json \\\\ \"accessToken\").values.toString\n",
    "val refreshToken: String = (json \\\\ \"refreshToken\").values.toString"
   ]
  }
 ],
 "metadata": {
  "kernelspec": {
   "display_name": "Scala",
   "language": "scala",
   "name": "scala"
  },
  "language_info": {
   "codemirror_mode": "text/x-scala",
   "file_extension": ".scala",
   "mimetype": "text/x-scala",
   "name": "scala",
   "nbconvert_exporter": "script",
   "version": "2.12.8"
  }
 },
 "nbformat": 4,
 "nbformat_minor": 2
}
