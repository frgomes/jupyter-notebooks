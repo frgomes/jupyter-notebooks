{
 "cells": [
  {
   "cell_type": "code",
   "execution_count": 1,
   "metadata": {},
   "outputs": [
    {
     "data": {
      "text/plain": [
       "\u001b[32mimport \u001b[39m\u001b[36m$ivy.$                                \u001b[39m"
      ]
     },
     "execution_count": 1,
     "metadata": {},
     "output_type": "execute_result"
    }
   ],
   "source": [
    "import $ivy.`org.json4s::json4s-native:3.6.0`"
   ]
  },
  {
   "cell_type": "code",
   "execution_count": 5,
   "metadata": {},
   "outputs": [
    {
     "data": {
      "text/plain": [
       "\u001b[32mimport \u001b[39m\u001b[36morg.json4s._\n",
       "\u001b[39m\n",
       "\u001b[32mimport \u001b[39m\u001b[36morg.json4s.native.JsonMethods._\u001b[39m"
      ]
     },
     "execution_count": 5,
     "metadata": {},
     "output_type": "execute_result"
    }
   ],
   "source": [
    "import org.json4s._\n",
    "import org.json4s.native.JsonMethods._"
   ]
  },
  {
   "cell_type": "code",
   "execution_count": 7,
   "metadata": {},
   "outputs": [
    {
     "data": {
      "text/plain": [
       "\u001b[36mresponse\u001b[39m: \u001b[32mString\u001b[39m = \u001b[32m\"\"\"\n",
       "{\"tokenType\":\"Bearer\",\"accessToken\":\"AT-7c998706-9662-4c0c-8c9f-221bbfceebff\",\"expiresIn\":300,\"refreshToken\":\"RT-201048af-fd1d-4649-b73f-bd677c453ee3\",\"scope\":\"user\"}\n",
       "\"\"\"\u001b[39m"
      ]
     },
     "execution_count": 7,
     "metadata": {},
     "output_type": "execute_result"
    }
   ],
   "source": [
    "val response = \"\"\"{\"tokenType\":\"Bearer\",\"accessToken\":\"AT-7c998706-9662-4c0c-8c9f-221bbfceebff\",\"expiresIn\":300,\"refreshToken\":\"RT-201048af-fd1d-4649-b73f-bd677c453ee3\",\"scope\":\"user\"}\"\"\""
   ]
  },
  {
   "cell_type": "code",
   "execution_count": 8,
   "metadata": {},
   "outputs": [
    {
     "data": {
      "text/plain": [
       "\u001b[36mjson\u001b[39m: \u001b[32mJValue\u001b[39m = JObject(List((tokenType,JString(Bearer)), (accessToken,JString(AT-7c998706-9662-4c0c-8c9f-221bbfceebff)), (expiresIn,JInt(300)), (refreshToken,JString(RT-201048af-fd1d-4649-b73f-bd677c453ee3)), (scope,JString(user))))\n",
       "\u001b[36maccessToken\u001b[39m: \u001b[32mString\u001b[39m = \u001b[32m\"AT-7c998706-9662-4c0c-8c9f-221bbfceebff\"\u001b[39m\n",
       "\u001b[36mrefreshToken\u001b[39m: \u001b[32mString\u001b[39m = \u001b[32m\"RT-201048af-fd1d-4649-b73f-bd677c453ee3\"\u001b[39m"
      ]
     },
     "execution_count": 8,
     "metadata": {},
     "output_type": "execute_result"
    }
   ],
   "source": [
    "val json = parse(response)\n",
    "val accessToken : String = (json \\\\ \"accessToken\").values.toString\n",
    "val refreshToken: String = (json \\\\ \"refreshToken\").values.toString"
   ]
  }
 ],
 "metadata": {
  "kernelspec": {
   "display_name": "Scala",
   "language": "scala",
   "name": "scala"
  },
  "language_info": {
   "codemirror_mode": "text/x-scala",
   "file_extension": ".scala",
   "mimetype": "text/x-scala",
   "name": "scala211",
   "nbconvert_exporter": "script",
   "pygments_lexer": "scala",
   "version": "2.11.11"
  }
 },
 "nbformat": 4,
 "nbformat_minor": 2
}
