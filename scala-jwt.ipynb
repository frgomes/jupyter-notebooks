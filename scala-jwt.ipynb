{
 "cells": [
  {
   "cell_type": "code",
   "execution_count": 1,
   "metadata": {},
   "outputs": [
    {
     "name": "stdout",
     "output_type": "stream",
     "text": [
      "Downloading https://repo1.maven.org/maven2/com/pauldijou/jwt-core_2.11/0.16.0/jwt-core_2.11-0.16.0.pom\n",
      "Downloading https://repo1.maven.org/maven2/com/pauldijou/jwt-core_2.11/0.16.0/jwt-core_2.11-0.16.0.pom.sha1\n",
      "Downloaded https://repo1.maven.org/maven2/com/pauldijou/jwt-core_2.11/0.16.0/jwt-core_2.11-0.16.0.pom.sha1\n",
      "Downloaded https://repo1.maven.org/maven2/com/pauldijou/jwt-core_2.11/0.16.0/jwt-core_2.11-0.16.0.pom\n",
      "Downloading https://repo1.maven.org/maven2/com/pauldijou/jwt-core_2.11/0.16.0/\n",
      "Downloaded https://repo1.maven.org/maven2/com/pauldijou/jwt-core_2.11/0.16.0/\n",
      "Downloading https://repo1.maven.org/maven2/com/pauldijou/jwt-core-impl_2.11/0.16.0/jwt-core-impl_2.11-0.16.0.pom\n",
      "Downloading https://repo1.maven.org/maven2/com/pauldijou/jwt-core-impl_2.11/0.16.0/jwt-core-impl_2.11-0.16.0.pom.sha1\n",
      "Downloading https://repo1.maven.org/maven2/org/bouncycastle/bcpkix-jdk15on/1.57/bcpkix-jdk15on-1.57.pom.sha1\n",
      "Downloading https://repo1.maven.org/maven2/org/bouncycastle/bcpkix-jdk15on/1.57/bcpkix-jdk15on-1.57.pom\n",
      "Downloaded https://repo1.maven.org/maven2/com/pauldijou/jwt-core-impl_2.11/0.16.0/jwt-core-impl_2.11-0.16.0.pom\n",
      "Downloaded https://repo1.maven.org/maven2/org/bouncycastle/bcpkix-jdk15on/1.57/bcpkix-jdk15on-1.57.pom\n",
      "Downloaded https://repo1.maven.org/maven2/org/bouncycastle/bcpkix-jdk15on/1.57/bcpkix-jdk15on-1.57.pom.sha1\n",
      "Downloading https://repo1.maven.org/maven2/org/bouncycastle/bcpkix-jdk15on/1.57/\n",
      "Downloaded https://repo1.maven.org/maven2/com/pauldijou/jwt-core-impl_2.11/0.16.0/jwt-core-impl_2.11-0.16.0.pom.sha1\n",
      "Downloading https://repo1.maven.org/maven2/com/pauldijou/jwt-core-impl_2.11/0.16.0/\n",
      "Downloaded https://repo1.maven.org/maven2/org/bouncycastle/bcpkix-jdk15on/1.57/\n",
      "Downloaded https://repo1.maven.org/maven2/com/pauldijou/jwt-core-impl_2.11/0.16.0/\n",
      "Downloading https://repo1.maven.org/maven2/org/bouncycastle/bcprov-jdk15on/1.57/bcprov-jdk15on-1.57.pom\n",
      "Downloading https://repo1.maven.org/maven2/org/bouncycastle/bcprov-jdk15on/1.57/bcprov-jdk15on-1.57.pom.sha1\n",
      "Downloaded https://repo1.maven.org/maven2/org/bouncycastle/bcprov-jdk15on/1.57/bcprov-jdk15on-1.57.pom.sha1\n",
      "Downloaded https://repo1.maven.org/maven2/org/bouncycastle/bcprov-jdk15on/1.57/bcprov-jdk15on-1.57.pom\n",
      "Downloading https://repo1.maven.org/maven2/org/bouncycastle/bcprov-jdk15on/1.57/\n",
      "Downloaded https://repo1.maven.org/maven2/org/bouncycastle/bcprov-jdk15on/1.57/\n",
      "Downloading https://repo1.maven.org/maven2/com/pauldijou/jwt-core-impl_2.11/0.16.0/jwt-core-impl_2.11-0.16.0.jar\n",
      "Downloading https://repo1.maven.org/maven2/com/pauldijou/jwt-core_2.11/0.16.0/jwt-core_2.11-0.16.0.jar\n",
      "Downloading https://repo1.maven.org/maven2/com/pauldijou/jwt-core_2.11/0.16.0/jwt-core_2.11-0.16.0.jar.sha1\n",
      "Downloading https://repo1.maven.org/maven2/com/pauldijou/jwt-core-impl_2.11/0.16.0/jwt-core-impl_2.11-0.16.0.jar.sha1\n",
      "Downloaded https://repo1.maven.org/maven2/com/pauldijou/jwt-core-impl_2.11/0.16.0/jwt-core-impl_2.11-0.16.0.jar\n",
      "Downloading https://repo1.maven.org/maven2/org/bouncycastle/bcpkix-jdk15on/1.57/bcpkix-jdk15on-1.57.jar\n",
      "Downloaded https://repo1.maven.org/maven2/com/pauldijou/jwt-core_2.11/0.16.0/jwt-core_2.11-0.16.0.jar.sha1\n",
      "Downloading https://repo1.maven.org/maven2/org/bouncycastle/bcpkix-jdk15on/1.57/bcpkix-jdk15on-1.57.jar.sha1\n",
      "Downloaded https://repo1.maven.org/maven2/com/pauldijou/jwt-core-impl_2.11/0.16.0/jwt-core-impl_2.11-0.16.0.jar.sha1\n",
      "Downloading https://repo1.maven.org/maven2/org/bouncycastle/bcprov-jdk15on/1.57/bcprov-jdk15on-1.57.jar\n",
      "Downloaded https://repo1.maven.org/maven2/org/bouncycastle/bcpkix-jdk15on/1.57/bcpkix-jdk15on-1.57.jar.sha1\n",
      "Downloading https://repo1.maven.org/maven2/org/bouncycastle/bcprov-jdk15on/1.57/bcprov-jdk15on-1.57.jar.sha1\n",
      "Downloaded https://repo1.maven.org/maven2/com/pauldijou/jwt-core_2.11/0.16.0/jwt-core_2.11-0.16.0.jar\n",
      "Downloaded https://repo1.maven.org/maven2/org/bouncycastle/bcprov-jdk15on/1.57/bcprov-jdk15on-1.57.jar.sha1\n",
      "Downloaded https://repo1.maven.org/maven2/org/bouncycastle/bcpkix-jdk15on/1.57/bcpkix-jdk15on-1.57.jar\n",
      "Downloaded https://repo1.maven.org/maven2/org/bouncycastle/bcprov-jdk15on/1.57/bcprov-jdk15on-1.57.jar\n"
     ]
    },
    {
     "data": {
      "text/plain": [
       "\u001b[32mimport \u001b[39m\u001b[36m$ivy.$                               \u001b[39m"
      ]
     },
     "execution_count": 1,
     "metadata": {},
     "output_type": "execute_result"
    }
   ],
   "source": [
    "import $ivy.`com.pauldijou::jwt-core:0.16.0`"
   ]
  },
  {
   "cell_type": "code",
   "execution_count": 2,
   "metadata": {},
   "outputs": [
    {
     "data": {
      "text/plain": [
       "\u001b[32mimport \u001b[39m\u001b[36mpdi.jwt.{Jwt, JwtAlgorithm, JwtHeader, JwtClaim, JwtOptions}\u001b[39m"
      ]
     },
     "execution_count": 2,
     "metadata": {},
     "output_type": "execute_result"
    }
   ],
   "source": [
    "import pdi.jwt.{Jwt, JwtAlgorithm, JwtHeader, JwtClaim, JwtOptions}"
   ]
  },
  {
   "cell_type": "code",
   "execution_count": 9,
   "metadata": {},
   "outputs": [
    {
     "data": {
      "text/plain": [
       "\u001b[36memail\u001b[39m: \u001b[32mString\u001b[39m = \u001b[32m\"anonymous@nodomain.com\"\u001b[39m\n",
       "\u001b[36mseed\u001b[39m: \u001b[32mString\u001b[39m = \u001b[32m\"demo/v1\"\u001b[39m\n",
       "\u001b[36mtoken\u001b[39m: \u001b[32mString\u001b[39m = \u001b[32m\"eyJ0eXAiOiJKV1QiLCJhbGciOiJIUzUxMiJ9.YW5vbnltb3VzQG5vZG9tYWluLmNvbQ.5o8qcGriLffEVSAdeEoPHfGEFpeUjCTA-bewnqF3MmOg70S8HqY3j6wXtbFfhg_l_umh5UNIwxYmgyMW95MRSw\"\u001b[39m"
      ]
     },
     "execution_count": 9,
     "metadata": {},
     "output_type": "execute_result"
    }
   ],
   "source": [
    "val email = \"anonymous@nodomain.com\"\n",
    "val seed = \"demo/v1\"\n",
    "val token = Jwt.encode(email, seed, JwtAlgorithm.HS512)"
   ]
  },
  {
   "cell_type": "code",
   "execution_count": 10,
   "metadata": {},
   "outputs": [
    {
     "data": {
      "text/plain": [
       "\u001b[36mdecode\u001b[39m: \u001b[32mutil\u001b[39m.\u001b[32mTry\u001b[39m[(\u001b[32mString\u001b[39m, \u001b[32mString\u001b[39m, \u001b[32mString\u001b[39m)] = \u001b[33mSuccess\u001b[39m(\n",
       "  (\n",
       "    \u001b[32m\"\"\"\n",
       "{\"typ\":\"JWT\",\"alg\":\"HS512\"}\n",
       "    \"\"\"\u001b[39m,\n",
       "    \u001b[32m\"anonymous@nodomain.com\"\u001b[39m,\n",
       "    \u001b[32m\"5o8qcGriLffEVSAdeEoPHfGEFpeUjCTA-bewnqF3MmOg70S8HqY3j6wXtbFfhg_l_umh5UNIwxYmgyMW95MRSw\"\u001b[39m\n",
       "  )\n",
       ")"
      ]
     },
     "execution_count": 10,
     "metadata": {},
     "output_type": "execute_result"
    }
   ],
   "source": [
    "val decode = Jwt.decodeAll(token, seed, Seq(JwtAlgorithm.HS512))"
   ]
  },
  {
   "cell_type": "code",
   "execution_count": 8,
   "metadata": {},
   "outputs": [
    {
     "data": {
      "text/plain": [
       "\u001b[36musername\u001b[39m: \u001b[32mString\u001b[39m = \u001b[32m\"rgomes.info@gmail.com\"\u001b[39m"
      ]
     },
     "execution_count": 8,
     "metadata": {},
     "output_type": "execute_result"
    }
   ],
   "source": [
    "val username = decode.get._2"
   ]
  }
 ],
 "metadata": {
  "kernelspec": {
   "display_name": "Scala",
   "language": "scala",
   "name": "scala"
  },
  "language_info": {
   "codemirror_mode": "text/x-scala",
   "file_extension": ".scala",
   "mimetype": "text/x-scala",
   "name": "scala211",
   "nbconvert_exporter": "script",
   "pygments_lexer": "scala",
   "version": "2.11.11"
  }
 },
 "nbformat": 4,
 "nbformat_minor": 2
}
