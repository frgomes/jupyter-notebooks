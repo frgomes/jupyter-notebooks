{
 "cells": [
  {
   "cell_type": "code",
   "execution_count": null,
   "metadata": {
    "scrolled": true
   },
   "outputs": [],
   "source": [
    "import $ivy.`io.monix::monix:3.0.0-RC2`"
   ]
  },
  {
   "cell_type": "code",
   "execution_count": null,
   "metadata": {},
   "outputs": [],
   "source": []
  },
  {
   "cell_type": "code",
   "execution_count": null,
   "metadata": {},
   "outputs": [],
   "source": [
    "import monix.eval.Task\n",
    "\n",
    "def random: Task[Int] = {\n",
    "    import scala.util.Random\n",
    "    Task(Random.nextInt)\n",
    "    .flatMap {\n",
    "        case error if error % 20 == 0 => throw new IllegalStateException(error.toString)\n",
    "        case number => Task.now(number)\n",
    "    }\n",
    "}"
   ]
  },
  {
   "cell_type": "code",
   "execution_count": null,
   "metadata": {},
   "outputs": [],
   "source": [
    "val items = 0 until 20\n",
    "val tasks = items.map(i => random)\n",
    "val batches = tasks.sliding(2,2).map(b => Task.gather(b))\n",
    "val aggregate = Task.sequence(batches).map(_.flatten.toList)\n",
    "\n",
    "implicit val sc: Scheduler = Scheduler.global\n",
    "aggregate.foreach(println)"
   ]
  },
  {
   "cell_type": "code",
   "execution_count": null,
   "metadata": {},
   "outputs": [],
   "source": []
  }
 ],
 "metadata": {
  "kernelspec": {
   "display_name": "Scala",
   "language": "scala",
   "name": "scala"
  },
  "language_info": {
   "codemirror_mode": "text/x-scala",
   "file_extension": ".scala",
   "mimetype": "text/x-scala",
   "name": "scala",
   "nbconvert_exporter": "script",
   "version": "2.12.8"
  }
 },
 "nbformat": 4,
 "nbformat_minor": 2
}
