{
 "cells": [
  {
   "cell_type": "code",
   "execution_count": null,
   "metadata": {},
   "outputs": [],
   "source": [
    "val xs = List(1, 2, 3)                          //> xs  : List[Int] = List(1, 2, 3)\n",
    "xs match {\n",
    "    case x List (_, _) => s\"That's a weird $x followed by something\"\n",
    "    case _             => \"Nope\"\n",
    "}    "
   ]
  },
  {
   "cell_type": "code",
   "execution_count": null,
   "metadata": {},
   "outputs": [],
   "source": [
    "case class Foo(a:Int, b:Int, c:Int)\n",
    "\n",
    "val foo = Foo(1, 2, 3)\n",
    "foo match {\n",
    "    case 1 Foo(2, 3) => \"That's weird!\"\n",
    "    case _ => \"Nope\"\n",
    "}"
   ]
  },
  {
   "cell_type": "code",
   "execution_count": null,
   "metadata": {},
   "outputs": [],
   "source": [
    "val foo2 = 1 unapplySeq Foo(2, 3)"
   ]
  },
  {
   "cell_type": "code",
   "execution_count": null,
   "metadata": {},
   "outputs": [],
   "source": []
  }
 ],
 "metadata": {
  "kernelspec": {
   "display_name": "Scala",
   "language": "scala",
   "name": "scala"
  },
  "language_info": {
   "codemirror_mode": "text/x-scala",
   "file_extension": ".scala",
   "mimetype": "text/x-scala",
   "name": "scala",
   "nbconvert_exporter": "script",
   "version": "2.12.8"
  }
 },
 "nbformat": 4,
 "nbformat_minor": 1
}
