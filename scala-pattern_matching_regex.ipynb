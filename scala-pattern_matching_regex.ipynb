{
 "cells": [
  {
   "cell_type": "code",
   "execution_count": null,
   "metadata": {},
   "outputs": [],
   "source": [
    "val LONG   = \"\"\"(?:0|-?[1-9][0-9]*)\"\"\"\n",
    "val DOUBLE = \"\"\"(?:NaN|-?Infinity|-?(?:0(?:\\.[0-9]*)?|(?:[1-9][0-9]*\\.[0-9]*)|(?:\\.[0-9]+))(?:[Ee][+-]?[0-9]+)?)\"\"\"\n",
    "\n",
    "val scalaLONG   : scala.util.matching.Regex = LONG.r\n",
    "val scalaDOUBLE : scala.util.matching.Regex = DOUBLE.r\n",
    "\n",
    "val data = Seq(\"abc\", \"3\", \"50\", \"3.0\", \"-3.0E-05\", \"NaN\", \"-Infinity\")\n",
    "\n",
    "val result = data.map(text =>\n",
    "    text match {\n",
    "      case scalaLONG(_*)     => s\"Long\"\n",
    "      case scalaDOUBLE(_*)   => s\"Double\"\n",
    "      case _                 => s\"String\"\n",
    "    })\n",
    "// result: Seq[String] = List(\"String\", \"Long\", \"Long\", \"Double\", \"Double\", \"Double\", \"Double\")"
   ]
  }
 ],
 "metadata": {
  "kernelspec": {
   "display_name": "Scala",
   "language": "scala",
   "name": "scala"
  },
  "language_info": {
   "codemirror_mode": "text/x-scala",
   "file_extension": ".scala",
   "mimetype": "text/x-scala",
   "name": "scala211",
   "nbconvert_exporter": "script",
   "pygments_lexer": "scala",
   "version": "2.11.11"
  }
 },
 "nbformat": 4,
 "nbformat_minor": 2
}
