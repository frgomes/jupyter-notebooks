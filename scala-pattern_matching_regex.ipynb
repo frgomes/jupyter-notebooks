{
 "cells": [
  {
   "cell_type": "code",
   "execution_count": 43,
   "metadata": {},
   "outputs": [
    {
     "data": {
      "text/plain": [
       "\u001b[36mLONG\u001b[39m: \u001b[32mutil\u001b[39m.\u001b[32mmatching\u001b[39m.\u001b[32mRegex\u001b[39m = ^(0|-?[1-9][0-9]*)$\n",
       "\u001b[36mFLOAT\u001b[39m: \u001b[32mutil\u001b[39m.\u001b[32mmatching\u001b[39m.\u001b[32mRegex\u001b[39m = ^-?(0(\\.[0-9]*)?|([1-9][0-9]*\\.[0-9]*)|(\\.[0-9]+))([Ee][+-]?[0-9]+)?$"
      ]
     },
     "execution_count": 43,
     "metadata": {},
     "output_type": "execute_result"
    }
   ],
   "source": [
    "val LONG  = \"\"\"^(0|-?[1-9][0-9]*)$\"\"\".r\n",
    "val FLOAT = \"\"\"^-?(0(\\.[0-9]*)?|([1-9][0-9]*\\.[0-9]*)|(\\.[0-9]+))([Ee][+-]?[0-9]+)?$\"\"\".r"
   ]
  },
  {
   "cell_type": "code",
   "execution_count": 44,
   "metadata": {},
   "outputs": [
    {
     "data": {
      "text/plain": [
       "\u001b[36mres43\u001b[39m: \u001b[32mBoolean\u001b[39m = \u001b[32mtrue\u001b[39m"
      ]
     },
     "execution_count": 44,
     "metadata": {},
     "output_type": "execute_result"
    }
   ],
   "source": [
    "\"3.0\".matches(FLOAT.toString)"
   ]
  },
  {
   "cell_type": "code",
   "execution_count": 45,
   "metadata": {},
   "outputs": [
    {
     "data": {
      "text/plain": [
       "\u001b[36mtypes\u001b[39m: \u001b[32mSeq\u001b[39m[\u001b[32mString\u001b[39m] = \u001b[33mList\u001b[39m(\u001b[32m\"String\"\u001b[39m, \u001b[32m\"Long\"\u001b[39m, \u001b[32m\"String\"\u001b[39m)"
      ]
     },
     "execution_count": 45,
     "metadata": {},
     "output_type": "execute_result"
    }
   ],
   "source": [
    "val types = Seq(\"abc\", \"3\", \"3.0\").map(text =>\n",
    "    text match {\n",
    "      case LONG(long)   => s\"Long\"\n",
    "      case FLOAT(float) => s\"Float\"\n",
    "      case _            => s\"String\"\n",
    "    })"
   ]
  }
 ],
 "metadata": {
  "kernelspec": {
   "display_name": "Scala",
   "language": "scala",
   "name": "scala"
  },
  "language_info": {
   "codemirror_mode": "text/x-scala",
   "file_extension": ".scala",
   "mimetype": "text/x-scala",
   "name": "scala211",
   "nbconvert_exporter": "script",
   "pygments_lexer": "scala",
   "version": "2.11.11"
  }
 },
 "nbformat": 4,
 "nbformat_minor": 2
}
