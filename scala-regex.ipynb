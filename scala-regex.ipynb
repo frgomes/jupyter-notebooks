{
 "cells": [
  {
   "cell_type": "markdown",
   "metadata": {},
   "source": [
    "### Comparison between java.util.regex and scala.util.matching.Regex"
   ]
  },
  {
   "cell_type": "code",
   "execution_count": null,
   "metadata": {},
   "outputs": [],
   "source": [
    "// val r = java.util.regex.Pattern.compile(\"\\\\|\")\n",
    "val r : scala.util.matching.Regex = \"\\\\|\".r\n",
    "val line : String = \"Item|Qty|Price||Store\"\n",
    "r.split(line)"
   ]
  },
  {
   "cell_type": "code",
   "execution_count": null,
   "metadata": {},
   "outputs": [],
   "source": [
    "// val r = java.util.regex.Pattern.compile(\"\\\\|\")\n",
    "val r2 : scala.util.matching.Regex = \",\".r\n",
    "val line2 : String = \"Item,Qty,Price,,Store\"\n",
    "r2.split(line2)"
   ]
  },
  {
   "cell_type": "code",
   "execution_count": null,
   "metadata": {},
   "outputs": [],
   "source": [
    "val line3 = \"Banana,,\"\n",
    "r2.split(line3)"
   ]
  },
  {
   "cell_type": "code",
   "execution_count": null,
   "metadata": {},
   "outputs": [],
   "source": [
    "val j = java.util.regex.Pattern.compile(\",\")\n",
    "val line = \"Banana,,\"\n",
    "j.split(line, -1)"
   ]
  },
  {
   "cell_type": "code",
   "execution_count": null,
   "metadata": {},
   "outputs": [],
   "source": [
    "val j = java.util.regex.Pattern.compile(\",\")\n",
    "val line = \"Banana,Qty,Price,Some text with a , here\"\n",
    "j.split(line,4)"
   ]
  },
  {
   "cell_type": "markdown",
   "metadata": {},
   "source": [
    "### Using only scala.util.matching.Regex"
   ]
  },
  {
   "cell_type": "code",
   "execution_count": null,
   "metadata": {},
   "outputs": [],
   "source": [
    "val LONG   = \"\"\"(?:0|-?[1-9][0-9]*)\"\"\"\n",
    "val DOUBLE = \"\"\"(?:NaN|-?Infinity|-?(?:0(?:\\.[0-9]*)?|(?:[1-9][0-9]*\\.[0-9]*)|(?:\\.[0-9]+))(?:[Ee][+-]?[0-9]+)?)\"\"\"\n",
    "\n",
    "val scalaLONG   : scala.util.matching.Regex = LONG.r\n",
    "val scalaDOUBLE : scala.util.matching.Regex = DOUBLE.r\n",
    "\n",
    "val data = Seq(\"abc\", \"3\", \"50\", \"3.0\", \"-3.0E-05\", \"NaN\", \"-Infinity\")\n",
    "\n",
    "val result = data.map(text =>\n",
    "    text match {\n",
    "      case scalaLONG(_*)     => s\"Long  : ${text}\"\n",
    "      case scalaDOUBLE(_*)   => s\"Double: ${text}\"\n",
    "      case _                 => s\"String: ${text}\"\n",
    "    })"
   ]
  },
  {
   "cell_type": "code",
   "execution_count": null,
   "metadata": {},
   "outputs": [],
   "source": [
    "//credits: http://www.mkyong.com/regular-expressions/domain-name-regular-expression-example/\n",
    "val regexDomain = \"^((?!-)[A-Za-z0-9-]{1,63}(?<!-)\\\\.)+[A-Za-z]{2,6}$\".r \n",
    "val data = Seq(\"a\", \"test\", \"test.com\", \"ipv6-test.com\", \"ipv6-.test.com\", \"ipv6-test.google.com\")\n",
    "val result = data.map(text =>\n",
    "    text match {\n",
    "      case regexDomain(_*)   => s\"OK: ${text}\"\n",
    "      case _                 => s\"INVALID: ${text}\"\n",
    "    })"
   ]
  },
  {
   "cell_type": "code",
   "execution_count": null,
   "metadata": {},
   "outputs": [],
   "source": [
    "//credits: Regular Expressions Cookbook by Steven Levithan, Jan Goyvaerts\n",
    "val regexIPV4 = \"^(?:(?:25[0-5]|2[0-4][0-9]|[01]?[0-9][0-9]?)\\\\.){3}(?:25[0-5]|2[0-4][0-9]|[01]?[0-9][0-9]?)$\".r \n",
    "val data = Seq(\"0\", \"192\", \"192.168\", \"192.168.0\", \"192.168.0.1\", \"8.8.8.8\", \"224.224.224.224\")\n",
    "val result = data.map(text =>\n",
    "    text match {\n",
    "      case regexIPV4(_*)   => s\"OK: ${text}\"\n",
    "      case _               => s\"INVALID: ${text}\"\n",
    "    })"
   ]
  },
  {
   "cell_type": "code",
   "execution_count": null,
   "metadata": {},
   "outputs": [],
   "source": [
    "//credits: Regular Expressions Cookbook by Steven Levithan, Jan Goyvaerts\n",
    "val regexIPV6 = \"^(?:(?:(?:[A-F0-9]{1,4}:){6}|(?=(?:[A-F0-9]{0,4}:){0,6}(?:[0-9]{1,3}\\\\.){3}[0-9]{1,3}$)(([0-9A-F]{1,4}:){0,5}|:)((:[0-9A-F]{1,4}){1,5}:|:))(?:(?:25[0-5]|2[0-4][0-9]|[01]?[0-9][0-9]?)\\\\.){3}(?:25[0-5]|2[0-4][0-9]|[01]?[0-9][0-9]?)|(?:[A-F0-9]{1,4}:){7}[A-F0-9]{1,4}|(?=(?:[A-F0-9]{0,4}:){0,7}[A-F0-9]{0,4}$)(([0-9A-F]{1,4}:){1,7}|:)((:[0-9A-F]{1,4}){1,7}|:))$\".r \n",
    "val data = Seq(\"1762:0:0:0:0:B03:127.32.67.15\", \"1762::B03:127.32.67.15\")\n",
    "val result = data.map(text =>\n",
    "    text match {\n",
    "      case regexIPV6(_*)   => s\"OK: ${text}\"\n",
    "      case _               => s\"INVALID: ${text}\"\n",
    "    })"
   ]
  }
 ],
 "metadata": {
  "kernelspec": {
   "display_name": "Scala",
   "language": "scala",
   "name": "scala"
  },
  "language_info": {
   "codemirror_mode": "text/x-scala",
   "file_extension": ".scala",
   "mimetype": "text/x-scala",
   "name": "scala",
   "nbconvert_exporter": "script",
   "version": "2.12.8"
  }
 },
 "nbformat": 4,
 "nbformat_minor": 2
}
