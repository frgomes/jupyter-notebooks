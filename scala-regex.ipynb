{
 "cells": [
  {
   "cell_type": "code",
   "execution_count": 8,
   "metadata": {},
   "outputs": [
    {
     "data": {
      "text/plain": [
       "\u001b[36mr\u001b[39m: \u001b[32mutil\u001b[39m.\u001b[32mmatching\u001b[39m.\u001b[32mRegex\u001b[39m = \\|\n",
       "\u001b[36mline\u001b[39m: \u001b[32mString\u001b[39m = \u001b[32m\"Item|Qty|Price||Store\"\u001b[39m\n",
       "\u001b[36mres7_2\u001b[39m: \u001b[32mArray\u001b[39m[\u001b[32mString\u001b[39m] = \u001b[33mArray\u001b[39m(\u001b[32m\"Item\"\u001b[39m, \u001b[32m\"Qty\"\u001b[39m, \u001b[32m\"Price\"\u001b[39m, \u001b[32m\"\"\u001b[39m, \u001b[32m\"Store\"\u001b[39m)"
      ]
     },
     "execution_count": 8,
     "metadata": {},
     "output_type": "execute_result"
    }
   ],
   "source": [
    "// val r = java.util.regex.Pattern.compile(\"\\\\|\")\n",
    "val r : scala.util.matching.Regex = \"\\\\|\".r\n",
    "val line : String = \"Item|Qty|Price||Store\"\n",
    "r.split(line)"
   ]
  },
  {
   "cell_type": "code",
   "execution_count": null,
   "metadata": {},
   "outputs": [],
   "source": []
  },
  {
   "cell_type": "code",
   "execution_count": 6,
   "metadata": {},
   "outputs": [
    {
     "data": {
      "text/plain": [
       "\u001b[36mr2\u001b[39m: \u001b[32mutil\u001b[39m.\u001b[32mmatching\u001b[39m.\u001b[32mRegex\u001b[39m = ,\n",
       "\u001b[36mline2\u001b[39m: \u001b[32mString\u001b[39m = \u001b[32m\"Item,Qty,Price,,Store\"\u001b[39m\n",
       "\u001b[36mres5_2\u001b[39m: \u001b[32mArray\u001b[39m[\u001b[32mString\u001b[39m] = \u001b[33mArray\u001b[39m(\u001b[32m\"Item\"\u001b[39m, \u001b[32m\"Qty\"\u001b[39m, \u001b[32m\"Price\"\u001b[39m, \u001b[32m\"\"\u001b[39m, \u001b[32m\"Store\"\u001b[39m)"
      ]
     },
     "execution_count": 6,
     "metadata": {},
     "output_type": "execute_result"
    }
   ],
   "source": [
    "// val r = java.util.regex.Pattern.compile(\"\\\\|\")\n",
    "val r2 : scala.util.matching.Regex = \",\".r\n",
    "val line2 : String = \"Item,Qty,Price,,Store\"\n",
    "r2.split(line2)"
   ]
  },
  {
   "cell_type": "code",
   "execution_count": 7,
   "metadata": {},
   "outputs": [
    {
     "data": {
      "text/plain": [
       "\u001b[36mline3\u001b[39m: \u001b[32mString\u001b[39m = \u001b[32m\"Banana,,\"\u001b[39m\n",
       "\u001b[36mres6_1\u001b[39m: \u001b[32mArray\u001b[39m[\u001b[32mString\u001b[39m] = \u001b[33mArray\u001b[39m(\u001b[32m\"Banana\"\u001b[39m)"
      ]
     },
     "execution_count": 7,
     "metadata": {},
     "output_type": "execute_result"
    }
   ],
   "source": [
    "val line3 = \"Banana,,\"\n",
    "r2.split(line3)"
   ]
  },
  {
   "cell_type": "code",
   "execution_count": 9,
   "metadata": {},
   "outputs": [
    {
     "data": {
      "text/plain": [
       "\u001b[36mj\u001b[39m: \u001b[32mjava\u001b[39m.\u001b[32mutil\u001b[39m.\u001b[32mregex\u001b[39m.\u001b[32mPattern\u001b[39m = ,\n",
       "\u001b[36mline\u001b[39m: \u001b[32mString\u001b[39m = \u001b[32m\"Banana,,\"\u001b[39m\n",
       "\u001b[36mres8_2\u001b[39m: \u001b[32mArray\u001b[39m[\u001b[32mString\u001b[39m] = \u001b[33mArray\u001b[39m(\u001b[32m\"Banana\"\u001b[39m, \u001b[32m\"\"\u001b[39m, \u001b[32m\"\"\u001b[39m)"
      ]
     },
     "execution_count": 9,
     "metadata": {},
     "output_type": "execute_result"
    }
   ],
   "source": [
    "val j = java.util.regex.Pattern.compile(\",\")\n",
    "val line = \"Banana,,\"\n",
    "j.split(line, -1)"
   ]
  },
  {
   "cell_type": "code",
   "execution_count": null,
   "metadata": {},
   "outputs": [],
   "source": []
  }
 ],
 "metadata": {
  "kernelspec": {
   "display_name": "Scala",
   "language": "scala",
   "name": "scala"
  },
  "language_info": {
   "codemirror_mode": "text/x-scala",
   "file_extension": ".scala",
   "mimetype": "text/x-scala",
   "name": "scala211",
   "nbconvert_exporter": "script",
   "pygments_lexer": "scala",
   "version": "2.11.11"
  }
 },
 "nbformat": 4,
 "nbformat_minor": 2
}
