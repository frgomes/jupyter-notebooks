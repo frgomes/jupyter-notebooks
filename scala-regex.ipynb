{
 "cells": [
  {
   "cell_type": "code",
   "execution_count": null,
   "metadata": {},
   "outputs": [],
   "source": [
    "// val r = java.util.regex.Pattern.compile(\"\\\\|\")\n",
    "val r : scala.util.matching.Regex = \"\\\\|\".r\n",
    "val line : String = \"Item|Qty|Price||Store\"\n",
    "r.split(line)"
   ]
  },
  {
   "cell_type": "code",
   "execution_count": null,
   "metadata": {},
   "outputs": [],
   "source": []
  },
  {
   "cell_type": "code",
   "execution_count": null,
   "metadata": {},
   "outputs": [],
   "source": [
    "// val r = java.util.regex.Pattern.compile(\"\\\\|\")\n",
    "val r2 : scala.util.matching.Regex = \",\".r\n",
    "val line2 : String = \"Item,Qty,Price,,Store\"\n",
    "r2.split(line2)"
   ]
  },
  {
   "cell_type": "code",
   "execution_count": null,
   "metadata": {},
   "outputs": [],
   "source": [
    "val line3 = \"Banana,,\"\n",
    "r2.split(line3)"
   ]
  },
  {
   "cell_type": "code",
   "execution_count": null,
   "metadata": {},
   "outputs": [],
   "source": [
    "val j = java.util.regex.Pattern.compile(\",\")\n",
    "val line = \"Banana,,\"\n",
    "j.split(line, -1)"
   ]
  },
  {
   "cell_type": "code",
   "execution_count": null,
   "metadata": {},
   "outputs": [],
   "source": []
  },
  {
   "cell_type": "code",
   "execution_count": null,
   "metadata": {},
   "outputs": [],
   "source": [
    "val j = java.util.regex.Pattern.compile(\",\")\n",
    "val line = \"Banana,Qty,Price,Some text with a , here\""
   ]
  },
  {
   "cell_type": "code",
   "execution_count": null,
   "metadata": {},
   "outputs": [],
   "source": [
    "j.split(line, 4)"
   ]
  }
 ],
 "metadata": {
  "kernelspec": {
   "display_name": "Scala",
   "language": "scala",
   "name": "scala"
  },
  "language_info": {
   "codemirror_mode": "text/x-scala",
   "file_extension": ".scala",
   "mimetype": "text/x-scala",
   "name": "scala",
   "nbconvert_exporter": "script",
   "version": "2.12.8"
  }
 },
 "nbformat": 4,
 "nbformat_minor": 2
}
