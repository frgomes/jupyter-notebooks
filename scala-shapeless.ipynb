{
 "cells": [
  {
   "cell_type": "code",
   "execution_count": null,
   "metadata": {},
   "outputs": [],
   "source": [
    "case class User(name: String, position: String, salary: Float, age: Int)"
   ]
  },
  {
   "cell_type": "code",
   "execution_count": null,
   "metadata": {},
   "outputs": [],
   "source": [
    "import scala.reflect.runtime.universe._\n",
    "\n",
    "def classAccessors[T: TypeTag]: List[MethodSymbol] = \n",
    "  typeOf[T].members\n",
    "    .sorted.collect {\n",
    "      case m: MethodSymbol if m.isCaseAccessor => m\n",
    "    }.toList\n",
    "\n",
    "def classFactory[T: TypeTag]: Option[MethodSymbol] = \n",
    "  typeOf[T].members\n",
    "    .collect {\n",
    "      case m: MethodSymbol if m.isPrimaryConstructor => m\n",
    "    }.headOption"
   ]
  },
  {
   "cell_type": "code",
   "execution_count": null,
   "metadata": {},
   "outputs": [],
   "source": [
    "val factory: Option[MethodSymbol] = classFactory[User]\n",
    "val accessors: List[MethodSymbol] = classAccessors[User]"
   ]
  },
  {
   "cell_type": "code",
   "execution_count": null,
   "metadata": {
    "scrolled": true
   },
   "outputs": [],
   "source": [
    "val types = accessors.map(m => m.returnType)"
   ]
  },
  {
   "cell_type": "code",
   "execution_count": null,
   "metadata": {},
   "outputs": [],
   "source": [
    "val values: List[Any] = List(\"John Smith\", \"Manager\", 85605.50, 36)\n",
    "(values zip types).map {\n",
    "    case (v, t) => (v.getClass.getSimpleName, t.toString)\n",
    "}"
   ]
  }
 ],
 "metadata": {
  "kernelspec": {
   "display_name": "Scala",
   "language": "scala",
   "name": "scala"
  },
  "language_info": {
   "codemirror_mode": "text/x-scala",
   "file_extension": ".scala",
   "mimetype": "text/x-scala",
   "name": "scala",
   "nbconvert_exporter": "script",
   "version": "2.12.8"
  }
 },
 "nbformat": 4,
 "nbformat_minor": 1
}
