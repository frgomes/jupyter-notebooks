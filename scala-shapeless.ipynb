{
 "cells": [
  {
   "cell_type": "code",
   "execution_count": 21,
   "metadata": {},
   "outputs": [
    {
     "data": {
      "text/plain": [
       "defined \u001b[32mclass \u001b[36mUser\u001b[0m"
      ]
     },
     "metadata": {},
     "output_type": "display_data"
    }
   ],
   "source": [
    "case class User(name: String, position: String, salary: Float, age: Int)"
   ]
  },
  {
   "cell_type": "code",
   "execution_count": 19,
   "metadata": {},
   "outputs": [
    {
     "data": {
      "text/plain": [
       "\u001b[32mimport \u001b[36mscala.reflect.runtime.universe._\u001b[0m\n",
       "defined \u001b[32mfunction \u001b[36mclassAccessors\u001b[0m\n",
       "defined \u001b[32mfunction \u001b[36mclassFactory\u001b[0m"
      ]
     },
     "metadata": {},
     "output_type": "display_data"
    }
   ],
   "source": [
    "import scala.reflect.runtime.universe._\n",
    "\n",
    "def classAccessors[T: TypeTag]: List[MethodSymbol] = \n",
    "  typeOf[T].members\n",
    "    .sorted.collect {\n",
    "      case m: MethodSymbol if m.isCaseAccessor => m\n",
    "    }.toList\n",
    "\n",
    "def classFactory[T: TypeTag]: Option[MethodSymbol] = \n",
    "  typeOf[T].members\n",
    "    .collect {\n",
    "      case m: MethodSymbol if m.isPrimaryConstructor => m\n",
    "    }.headOption"
   ]
  },
  {
   "cell_type": "code",
   "execution_count": 23,
   "metadata": {},
   "outputs": [
    {
     "data": {
      "text/plain": [
       "\u001b[36mfactory\u001b[0m: \u001b[32mOption\u001b[0m[\u001b[32mMethodSymbol\u001b[0m] = \u001b[33mSome\u001b[0m(constructor User)\n",
       "\u001b[36maccessors\u001b[0m: \u001b[32mList\u001b[0m[\u001b[32mMethodSymbol\u001b[0m] = \u001b[33mList\u001b[0m(value name, value position, value salary, value age)\n",
       "\u001b[36mvalues\u001b[0m: \u001b[32mList\u001b[0m[\u001b[32mAny\u001b[0m] = \u001b[33mList\u001b[0m(John Smith, Manager, 85605.5, 36)"
      ]
     },
     "metadata": {},
     "output_type": "display_data"
    }
   ],
   "source": [
    "val factory: Option[MethodSymbol] = classFactory[User]\n",
    "val accessors: List[MethodSymbol] = classAccessors[User]"
   ]
  },
  {
   "cell_type": "code",
   "execution_count": 26,
   "metadata": {
    "scrolled": true
   },
   "outputs": [
    {
     "data": {
      "text/plain": [
       "\u001b[36mtypes\u001b[0m: \u001b[32mList\u001b[0m[\u001b[32mType\u001b[0m] = \u001b[33mList\u001b[0m(String, String, scala.Float, scala.Int)"
      ]
     },
     "metadata": {},
     "output_type": "display_data"
    }
   ],
   "source": [
    "val types = accessors.map(m => m.returnType)"
   ]
  },
  {
   "cell_type": "code",
   "execution_count": 31,
   "metadata": {},
   "outputs": [
    {
     "data": {
      "text/plain": [
       "\u001b[36mvalues\u001b[0m: \u001b[32mList\u001b[0m[\u001b[32mAny\u001b[0m] = \u001b[33mList\u001b[0m(John Smith, Manager, 85605.5, 36)\n",
       "\u001b[36mres30_1\u001b[0m: \u001b[32mList\u001b[0m[(\u001b[32mString\u001b[0m, \u001b[32mString\u001b[0m)] = \u001b[33mList\u001b[0m(\n",
       "  \u001b[33m\u001b[0m(\u001b[32m\"String\"\u001b[0m, \u001b[32m\"String\"\u001b[0m),\n",
       "  \u001b[33m\u001b[0m(\u001b[32m\"String\"\u001b[0m, \u001b[32m\"String\"\u001b[0m),\n",
       "  \u001b[33m\u001b[0m(\u001b[32m\"Double\"\u001b[0m, \u001b[32m\"scala.Float\"\u001b[0m),\n",
       "  \u001b[33m\u001b[0m(\u001b[32m\"Integer\"\u001b[0m, \u001b[32m\"scala.Int\"\u001b[0m)\n",
       ")"
      ]
     },
     "metadata": {},
     "output_type": "display_data"
    }
   ],
   "source": [
    "val values: List[Any] = List(\"John Smith\", \"Manager\", 85605.50, 36)\n",
    "(values zip types).map {\n",
    "    case (v, t) => (v.getClass.getSimpleName, t.toString)\n",
    "}"
   ]
  }
 ],
 "metadata": {
  "kernelspec": {
   "display_name": "Scala",
   "language": "scala",
   "name": "scala"
  },
  "language_info": {
   "codemirror_mode": "text/x-scala",
   "file_extension": ".scala",
   "mimetype": "text/x-scala",
   "name": "scala211",
   "nbconvert_exporter": "script",
   "pygments_lexer": "scala",
   "version": "2.11.11"
  }
 },
 "nbformat": 4,
 "nbformat_minor": 1
}
