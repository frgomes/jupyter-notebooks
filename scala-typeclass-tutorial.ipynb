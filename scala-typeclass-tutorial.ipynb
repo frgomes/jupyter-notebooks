{
 "cells": [
  {
   "cell_type": "code",
   "execution_count": null,
   "metadata": {},
   "outputs": [],
   "source": [
    "/*\n",
    " * The first step when defining a typeclass consists on\n",
    " * defining the trait it implements.\n",
    " */\n",
    "trait Sized[A] {\n",
    "    def sized(a: A): Int\n",
    "}\n",
    "\n",
    "\n",
    "/* \n",
    " * The second (and the last!) step when defining a typeclass consists on\n",
    " * defining a companion object for the typeclass trait giving some useful default implementations.\n",
    " *\n",
    " * These useful default implementations are provided as implicit objects and/or implicit functions, which\n",
    " * can be found after local implicits so that you can still override the default implementations if you wish.\n",
    " *\n",
    " * See more about implicit search order here:\n",
    " * https://stackoverflow.com/questions/5598085/where-does-scala-look-for-implicits/5598107#5598107\n",
    " */\n",
    "object Sized {\n",
    "  implicit object IntSized    extends Sized[Int]    { def sized(a: Int) = a }\n",
    "  implicit object StringSized extends Sized[String] { def sized(a: String) = a.length }\n",
    "\n",
    "  /* This one is more elaborated: Sized[List[A]] needs Sized[A], which can be found implicitly. */\n",
    "  implicit def ListSized[A](implicit itemSized: Sized[A]) = new Sized[List[A]] {\n",
    "    def sized(a: List[A]): Int = a.map(item => itemSized.sized(item)).sum\n",
    "  } \n",
    "}"
   ]
  },
  {
   "cell_type": "code",
   "execution_count": null,
   "metadata": {},
   "outputs": [],
   "source": [
    "// This is a simple example which uses the typeclass\n",
    "\n",
    "trait ExampleSize {\n",
    "    def size[A](a: A)(implicit s: Sized[A]): Int = s.sized(a)\n",
    "}\n",
    "object Example1 extends ExampleSize {\n",
    "    def main = {\n",
    "      println(size(2)) // prints 2\n",
    "      println(size(\"abc\")) // prints 3\n",
    "      println(size(List(\"abc\", \"d\", \"efgh\"))) // prints 8\n",
    "    }\n",
    "}\n",
    "Example1.main"
   ]
  },
  {
   "cell_type": "code",
   "execution_count": null,
   "metadata": {},
   "outputs": [],
   "source": [
    "// This example supplies an implicit implementation\n",
    "\n",
    "object Example2 extends ExampleSize {\n",
    "    implicit object BooleanSize extends Sized[Boolean] { def sized(a: Boolean) = if(a) 1 else 0 }\n",
    "    def main = {\n",
    "      println(size(false)) // prints 0\n",
    "      println(size(true))  // prints 1\n",
    "    }\n",
    "}\n",
    "Example2.main"
   ]
  },
  {
   "cell_type": "code",
   "execution_count": null,
   "metadata": {},
   "outputs": [],
   "source": [
    "// This example supplies an implicit implementation which is used by a default implementation\n",
    "\n",
    "object Example3 extends ExampleSize {\n",
    "    implicit object BooleanSize     extends Sized[Boolean]       { def sized(a: Boolean) = if(a) 1 else 0 }\n",
    "    def main = {\n",
    "      println(size(List(true, false, true, false, true))) // prints 3\n",
    "    }\n",
    "}\n",
    "Example3.main"
   ]
  }
 ],
 "metadata": {
  "kernelspec": {
   "display_name": "Scala",
   "language": "scala",
   "name": "scala"
  },
  "language_info": {
   "codemirror_mode": "text/x-scala",
   "file_extension": ".scala",
   "mimetype": "text/x-scala",
   "name": "scala",
   "nbconvert_exporter": "script",
   "version": "2.12.8"
  }
 },
 "nbformat": 4,
 "nbformat_minor": 2
}
