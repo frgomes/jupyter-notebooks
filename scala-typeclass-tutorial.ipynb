{
 "cells": [
  {
   "cell_type": "code",
   "execution_count": 1,
   "metadata": {},
   "outputs": [
    {
     "data": {
      "text/plain": [
       "defined \u001b[32mtrait\u001b[39m \u001b[36mSized\u001b[39m\n",
       "defined \u001b[32mobject\u001b[39m \u001b[36mSized\u001b[39m"
      ]
     },
     "execution_count": 1,
     "metadata": {},
     "output_type": "execute_result"
    }
   ],
   "source": [
    "/*\n",
    " * The first step when defining a typeclass consists on\n",
    " * defining the trait it implements.\n",
    " */\n",
    "trait Sized[A] {\n",
    "    def sized(a: A): Int\n",
    "}\n",
    "\n",
    "\n",
    "/* \n",
    " * The second (and the last!) step when defining a typeclass consists on\n",
    " * defining a companion object for the typeclass trait giving some useful default implementations.\n",
    " *\n",
    " * These useful default implementations are provided as implicit objects and/or implicit functions, which\n",
    " * can be found after local implicits so that you can still override the default implementations if you wish.\n",
    " *\n",
    " * See more about implicit search order here:\n",
    " * https://stackoverflow.com/questions/5598085/where-does-scala-look-for-implicits/5598107#5598107\n",
    " */\n",
    "object Sized {\n",
    "  implicit object IntSized    extends Sized[Int]    { def sized(a: Int) = a }\n",
    "  implicit object StringSized extends Sized[String] { def sized(a: String) = a.length }\n",
    "\n",
    "  /* This one is more elaborated: Sized[List[A]] needs Sized[A], which can be found implicitly. */\n",
    "  implicit def ListSized[A](implicit itemSized: Sized[A]) = new Sized[List[A]] {\n",
    "    def sized(a: List[A]): Int = a.map(item => itemSized.sized(item)).sum\n",
    "  } \n",
    "}"
   ]
  },
  {
   "cell_type": "code",
   "execution_count": 2,
   "metadata": {},
   "outputs": [
    {
     "name": "stdout",
     "output_type": "stream",
     "text": [
      "2\n",
      "3\n",
      "8\n"
     ]
    },
    {
     "data": {
      "text/plain": [
       "defined \u001b[32mtrait\u001b[39m \u001b[36mExampleSize\u001b[39m\n",
       "defined \u001b[32mobject\u001b[39m \u001b[36mExample1\u001b[39m"
      ]
     },
     "execution_count": 2,
     "metadata": {},
     "output_type": "execute_result"
    }
   ],
   "source": [
    "// This is a simple example which uses the typeclass\n",
    "\n",
    "trait ExampleSize {\n",
    "    def size[A](a: A)(implicit s: Sized[A]): Int = s.sized(a)\n",
    "}\n",
    "object Example1 extends ExampleSize {\n",
    "    def main = {\n",
    "      println(size(2)) // prints 2\n",
    "      println(size(\"abc\")) // prints 3\n",
    "      println(size(List(\"abc\", \"d\", \"efgh\"))) // prints 8\n",
    "    }\n",
    "}\n",
    "Example1.main"
   ]
  },
  {
   "cell_type": "code",
   "execution_count": 3,
   "metadata": {},
   "outputs": [
    {
     "name": "stdout",
     "output_type": "stream",
     "text": [
      "0\n",
      "1\n"
     ]
    },
    {
     "data": {
      "text/plain": [
       "defined \u001b[32mobject\u001b[39m \u001b[36mExample2\u001b[39m"
      ]
     },
     "execution_count": 3,
     "metadata": {},
     "output_type": "execute_result"
    }
   ],
   "source": [
    "// This example supplies an implicit implementation\n",
    "\n",
    "object Example2 extends ExampleSize {\n",
    "    implicit object BooleanSize extends Sized[Boolean] { def sized(a: Boolean) = if(a) 1 else 0 }\n",
    "    def main = {\n",
    "      println(size(false)) // prints 0\n",
    "      println(size(true))  // prints 1\n",
    "    }\n",
    "}\n",
    "Example2.main"
   ]
  },
  {
   "cell_type": "code",
   "execution_count": 5,
   "metadata": {},
   "outputs": [
    {
     "name": "stdout",
     "output_type": "stream",
     "text": [
      "3\n"
     ]
    },
    {
     "data": {
      "text/plain": [
       "defined \u001b[32mobject\u001b[39m \u001b[36mExample3\u001b[39m"
      ]
     },
     "execution_count": 5,
     "metadata": {},
     "output_type": "execute_result"
    }
   ],
   "source": [
    "// This example supplies an implicit implementation which is used by a default implementation\n",
    "\n",
    "object Example3 extends ExampleSize {\n",
    "    implicit object BooleanSize     extends Sized[Boolean]       { def sized(a: Boolean) = if(a) 1 else 0 }\n",
    "    def main = {\n",
    "      println(size(List(true, false, true, false, true))) // prints 3\n",
    "    }\n",
    "}\n",
    "Example3.main"
   ]
  }
 ],
 "metadata": {
  "kernelspec": {
   "display_name": "Scala",
   "language": "scala",
   "name": "scala"
  },
  "language_info": {
   "codemirror_mode": "text/x-scala",
   "file_extension": ".scala",
   "mimetype": "text/x-scala",
   "name": "scala211",
   "nbconvert_exporter": "script",
   "pygments_lexer": "scala",
   "version": "2.11.11"
  }
 },
 "nbformat": 4,
 "nbformat_minor": 2
}
