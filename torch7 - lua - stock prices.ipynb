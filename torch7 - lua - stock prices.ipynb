{
 "cells": [
  {
   "cell_type": "markdown",
   "metadata": {},
   "source": [
    "### Install lua-curl\n",
    "\n",
    "This tutorial requires library ``lua-curl`` which is not installed by default.\n",
    "\n",
    "You need to restart your Docker instance dropping to the shell:\n",
    "\n",
    "```\n",
    "$ docker_run_jessie_torch7 /bin/bash\n",
    "```\n",
    "\n",
    "Then install lua-curl as shown below:\n",
    "\n",
    "```\n",
    "# apt-get install libcurl4-gnutls-dev -y\n",
    "# luarocks install lua-curl\n",
    "```\n",
    "\n",
    "Then start Jupyter by hand:\n",
    "```\n",
    "# /root/startup.sh\n",
    "```"
   ]
  },
  {
   "cell_type": "code",
   "execution_count": 4,
   "metadata": {
    "collapsed": true
   },
   "outputs": [],
   "source": [
    "cURL = require(\"cURL\")"
   ]
  },
  {
   "cell_type": "code",
   "execution_count": 5,
   "metadata": {
    "collapsed": false
   },
   "outputs": [
    {
     "data": {
      "text/plain": [
       "{\n",
       "  1 : \n",
       "    {\n",
       "      easy_init : function: 0x417c1900\n",
       "      multi : function: 0x417bed70\n",
       "      _NAME : Lua-cURL\n",
       "      form : function: 0x417b5b90\n",
       "      easy : function: 0x417b5bd0\n",
       "      multi_init : function: 0x417c1940\n",
       "      share_init : function: 0x417b5cb8\n",
       "      _VERSION : 0.3.5\n",
       "      _LICENSE : MIT\n",
       "      _COPYRIGHT : Copyright (c) 2014-2016 Alexey Melnichuk\n",
       "    }\n",
       "}\n"
      ]
     },
     "execution_count": 5,
     "metadata": {},
     "output_type": "execute_result"
    }
   ],
   "source": [
    "{cURL}"
   ]
  },
  {
   "cell_type": "code",
   "execution_count": null,
   "metadata": {
    "collapsed": true
   },
   "outputs": [],
   "source": []
  },
  {
   "cell_type": "code",
   "execution_count": null,
   "metadata": {
    "collapsed": true
   },
   "outputs": [],
   "source": []
  }
 ],
 "metadata": {
  "kernelspec": {
   "display_name": "iTorch",
   "language": "lua",
   "name": "itorch"
  },
  "language_info": {
   "name": "lua",
   "version": "5.1"
  }
 },
 "nbformat": 4,
 "nbformat_minor": 1
}
