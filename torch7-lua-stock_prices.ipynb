{
 "cells": [
  {
   "cell_type": "markdown",
   "metadata": {},
   "source": [
    "### Install lua-curl\n",
    "\n",
    "This tutorial requires library ``lua-curl`` which is not installed by default.\n",
    "\n",
    "You need to restart your Docker instance dropping to the shell:\n",
    "\n",
    "```\n",
    "$ docker_run_jessie_torch7 /bin/bash\n",
    "```\n",
    "\n",
    "Then install lua-curl as shown below:\n",
    "\n",
    "```\n",
    "# apt-get install libcurl4-gnutls-dev -y\n",
    "# luarocks install lua-curl\n",
    "```\n",
    "\n",
    "Then start Jupyter by hand:\n",
    "```\n",
    "# /root/startup.sh\n",
    "```"
   ]
  },
  {
   "cell_type": "code",
   "execution_count": 4,
   "metadata": {
    "collapsed": true
   },
   "outputs": [],
   "source": [
    "cURL = require(\"cURL\")"
   ]
  },
  {
   "cell_type": "code",
   "execution_count": 5,
   "metadata": {
    "collapsed": false
   },
   "outputs": [
    {
     "data": {
      "text/plain": [
       "{\n",
       "  1 : \n",
       "    {\n",
       "      easy_init : function: 0x417c1900\n",
       "      multi : function: 0x417bed70\n",
       "      _NAME : Lua-cURL\n",
       "      form : function: 0x417b5b90\n",
       "      easy : function: 0x417b5bd0\n",
       "      multi_init : function: 0x417c1940\n",
       "      share_init : function: 0x417b5cb8\n",
       "      _VERSION : 0.3.5\n",
       "      _LICENSE : MIT\n",
       "      _COPYRIGHT : Copyright (c) 2014-2016 Alexey Melnichuk\n",
       "    }\n",
       "}\n"
      ]
     },
     "execution_count": 5,
     "metadata": {},
     "output_type": "execute_result"
    }
   ],
   "source": [
    "{cURL}"
   ]
  },
  {
   "cell_type": "code",
   "execution_count": 6,
   "metadata": {
    "collapsed": true
   },
   "outputs": [],
   "source": [
    "petr4 = 'http://chart.finance.yahoo.com/table.csv?s=PETR4.SA&a=9&b=1&c=2016&d=10&e=1&f=2016&g=d&ignore=.csv'"
   ]
  },
  {
   "cell_type": "code",
   "execution_count": 18,
   "metadata": {
    "collapsed": false
   },
   "outputs": [
    {
     "data": {
      "text/plain": [
       "Date,Open,High,Low,Close,Volume,Adj Close\n",
       "2016-10-31,18.03,18.17,17.61,17.69,42059100,17.69\n",
       "2016-10-28,17.99,18.29,17.95,18.09,37689700,18.09\n",
       "2016-10-27,18.11,18.49,18.09,18.09,43645900,18.09\n",
       "2016-10-26,17.70,18.25,17.61,18.10,51424400,18.10\n",
       "2016-10-25,18.22,18.29,17.71,18.00,57674100,18.00\n",
       "2016-10-24,18.26,18.43,18.00,18.20,51678900,18.20\n",
       "2016-10-21,17.65,18.09,17.48,17.95,47961800,17.95\n",
       "2016-10-20,17.31,17.74,17.22,17.74,62901500,17.74\n",
       "2016-10-19,17.72,17.79,17.34,17.62,65212400,17.62\n",
       "2016-10-18,17.21,17.64,17.18,17.42,76995000,17.42\n",
       "2016-10-17,16.24,16.90,16.07,16.90,75002000,16.90\n",
       "2016-10-14,16.01,16.29,15.98,16.26,66150000,16.26\n",
       "2016-10-13,15.19,15.82,15.03,15.76,58212500,15.76\n",
       "2016-10-12,15.39,15.39,15.39,15.39,000,15.39\n",
       "2016-10-11,15.61,15.66,15.29,15.39,69314500,15.39\n",
       "2016-10-10,15.52,15.77,15.51,15.73,38724300,15.73\n",
       "2016-10-07,15.23,15.38,14.97,15.26,71691000,15.26\n",
       "2016-10-06,14.71,15.10,14.62,15.10,77003800,15.10\n",
       "2016-10-05,14.19,14.64,14.16,14.58,65242200,14.58\n",
       "2016-10-04,13.98,14.12,13.83,14.02,39717400,14.02\n",
       "2016-10-03,13.67,13.97,13.62,13.97,34444500,13.97\n"
      ]
     },
     "execution_count": 18,
     "metadata": {},
     "output_type": "execute_result"
    }
   ],
   "source": [
    "headers = {\n",
    "  \"Accept: text/*\",\n",
    "  \"Accept-Language: en\",\n",
    "  \"Accept-Charset: iso-8859-1,*,utf-8\",\n",
    "  \"Cache-Control: no-cache\"\n",
    "}\n",
    "\n",
    "function writer(fname) io.open('volatile_' .. fname, 'w') end\n",
    "\n",
    "c = cURL.easy{\n",
    "  url            = petr4,\n",
    "  ssl_verifypeer = false,\n",
    "  ssl_verifyhost = false,\n",
    "  httpheader     = headers,\n",
    "  writefunction  = writer('PETR4.SA.csv')\n",
    "}\n",
    "\n",
    "data = c:perform()"
   ]
  },
  {
   "cell_type": "code",
   "execution_count": null,
   "metadata": {
    "collapsed": true
   },
   "outputs": [],
   "source": []
  },
  {
   "cell_type": "code",
   "execution_count": null,
   "metadata": {
    "collapsed": true
   },
   "outputs": [],
   "source": []
  },
  {
   "cell_type": "code",
   "execution_count": 15,
   "metadata": {
    "collapsed": false,
    "scrolled": true
   },
   "outputs": [],
   "source": [
    "a = 'a' .. 'b'"
   ]
  },
  {
   "cell_type": "code",
   "execution_count": 16,
   "metadata": {
    "collapsed": false
   },
   "outputs": [
    {
     "data": {
      "text/plain": [
       "ab\t\n"
      ]
     },
     "execution_count": 16,
     "metadata": {},
     "output_type": "execute_result"
    }
   ],
   "source": [
    "a"
   ]
  },
  {
   "cell_type": "code",
   "execution_count": null,
   "metadata": {
    "collapsed": true
   },
   "outputs": [],
   "source": []
  },
  {
   "cell_type": "code",
   "execution_count": null,
   "metadata": {
    "collapsed": true
   },
   "outputs": [],
   "source": [
    "data._handle."
   ]
  },
  {
   "cell_type": "code",
   "execution_count": null,
   "metadata": {
    "collapsed": true
   },
   "outputs": [],
   "source": []
  },
  {
   "cell_type": "code",
   "execution_count": null,
   "metadata": {
    "collapsed": true
   },
   "outputs": [],
   "source": []
  },
  {
   "cell_type": "code",
   "execution_count": null,
   "metadata": {
    "collapsed": true
   },
   "outputs": [],
   "source": []
  },
  {
   "cell_type": "code",
   "execution_count": null,
   "metadata": {
    "collapsed": true
   },
   "outputs": [],
   "source": []
  }
 ],
 "metadata": {
  "kernelspec": {
   "display_name": "iTorch",
   "language": "lua",
   "name": "itorch"
  },
  "language_info": {
   "name": "lua",
   "version": "5.1"
  }
 },
 "nbformat": 4,
 "nbformat_minor": 1
}
