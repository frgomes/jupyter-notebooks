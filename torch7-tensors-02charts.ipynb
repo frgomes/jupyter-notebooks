{
 "cells": [
  {
   "cell_type": "code",
   "execution_count": null,
   "metadata": {
    "collapsed": true
   },
   "outputs": [],
   "source": [
    "## Tensors - 2 - Charts"
   ]
  },
  {
   "cell_type": "code",
   "execution_count": 6,
   "metadata": {
    "collapsed": false
   },
   "outputs": [
    {
     "data": {
      "text/plain": [
       "\n"
      ]
     },
     "execution_count": 6,
     "metadata": {},
     "output_type": "execute_result"
    }
   ],
   "source": [
    "torch.setdefaulttensortype('torch.FloatTensor')"
   ]
  },
  {
   "cell_type": "code",
   "execution_count": 2,
   "metadata": {
    "collapsed": false
   },
   "outputs": [],
   "source": [
    "x = torch.linspace(1, 100, 100)\n",
    "y = torch.logspace(math.log10(3), math.log10(5), 100)"
   ]
  },
  {
   "cell_type": "code",
   "execution_count": null,
   "metadata": {
    "collapsed": true
   },
   "outputs": [],
   "source": []
  },
  {
   "cell_type": "code",
   "execution_count": 2,
   "metadata": {
    "collapsed": true
   },
   "outputs": [],
   "source": [
    "Plot = require 'itorch.Plot';"
   ]
  },
  {
   "cell_type": "code",
   "execution_count": 3,
   "metadata": {
    "collapsed": false
   },
   "outputs": [
    {
     "data": {
      "text/html": [
       "<script type=\"text/javascript\">\n",
       "$(function() {\n",
       "    if (typeof (window._bokeh_onload_callbacks) === \"undefined\"){\n",
       "  window._bokeh_onload_callbacks = [];\n",
       "    }\n",
       "    function load_lib(url, callback){\n",
       "  window._bokeh_onload_callbacks.push(callback);\n",
       "  if (window._bokeh_is_loading){\n",
       "      console.log(\"Bokeh: BokehJS is being loaded, scheduling callback at\", new Date());\n",
       "      return null;\n",
       "  }\n",
       "  console.log(\"Bokeh: BokehJS not loaded, scheduling load and callback at\", new Date());\n",
       "  window._bokeh_is_loading = true;\n",
       "  var s = document.createElement('script');\n",
       "  s.src = url;\n",
       "  s.async = true;\n",
       "  s.onreadystatechange = s.onload = function(){\n",
       "      Bokeh.embed.inject_css(\"https://cdn.pydata.org/bokeh-0.7.0.min.css\");\n",
       "      window._bokeh_onload_callbacks.forEach(function(callback){callback()});\n",
       "  };\n",
       "  s.onerror = function(){\n",
       "      console.warn(\"failed to load library \" + url);\n",
       "  };\n",
       "  document.getElementsByTagName(\"head\")[0].appendChild(s);\n",
       "    }\n",
       "\n",
       "    bokehjs_url = \"https://cdn.pydata.org/bokeh-0.7.0.min.js\"\n",
       "\n",
       "    var elt = document.getElementById(\"f21f21c8-cbc9-427e-c234-5f5e9d7ab7b3\");\n",
       "    if(elt==null) {\n",
       "  console.log(\"Bokeh: ERROR: autoload.js configured with elementid 'f21f21c8-cbc9-427e-c234-5f5e9d7ab7b3'\"\n",
       "        + \"but no matching script tag was found. \")\n",
       "  return false;\n",
       "    }\n",
       "\n",
       "    if(typeof(Bokeh) !== \"undefined\") {\n",
       "  console.log(\"Bokeh: BokehJS loaded, going straight to plotting\");\n",
       "  var modelid = \"f223fef1-7924-46de-c61f-da27bee49a77\";\n",
       "  var modeltype = \"Plot\";\n",
       "  var all_models = [{\"id\":\"b028db9d-f21f-4c47-cc7f-31598ae7ef89\",\"type\":\"ColumnDataSource\",\"attributes\":{\"data\":{\"y\":[3,3.015519618988,3.0311195850372,3.0468001365662,3.062561750412,3.0784049034119,3.094330072403,3.1103377342224,3.1264281272888,3.1426017284393,3.1588587760925,3.1752004623413,3.1916263103485,3.2081372737885,3.2247335910797,3.2414157390594,3.2581841945648,3.275039434433,3.2919816970825,3.3090119361877,3.3261299133301,3.3433365821838,3.3606324195862,3.3780176639557,3.3954927921295,3.4130582809448,3.4307146072388,3.4484624862671,3.4663019180298,3.4842338562012,3.5022583007812,3.5203762054443,3.538587808609,3.5568935871124,3.5752940177917,3.5937898159027,3.6123809814453,3.6310687065125,3.6498527526855,3.6687340736389,3.6877131462097,3.7067904472351,3.7259664535522,3.7452416419983,3.7646164894104,3.7840914726257,3.8036673069,3.8233444690704,3.8431231975555,3.8630044460297,3.8829884529114,3.9030759334564,3.923267364502,3.9435629844666,3.9639639854431,3.9844701290131,4.0050826072693,4.0258016586304,4.0466279983521,4.0675621032715,4.0886039733887,4.1097555160522,4.1310157775879,4.1523861885071,4.173867225647,4.1954598426819,4.2171635627747,4.2389798164368,4.2609086036682,4.2829513549805,4.3051075935364,4.3273787498474,4.3497653007507,4.3722672462463,4.3948860168457,4.4176216125488,4.44047498703,4.4634461402893,4.4865365028381,4.5097460746765,4.5330758094788,4.556526184082,4.5800981521606,4.6037917137146,4.6276082992554,4.6515474319458,4.6756110191345,4.6997985839844,4.7241115570068,4.7485504150391,4.7731156349182,4.7978076934814,4.8226280212402,4.8475761413574,4.8726534843445,4.8978605270386,4.923198223114,4.948667049408,4.9742674827576,5],\"x\":[1,2,3,4,5,6,7,8,9,10,11,12,13,14,15,16,17,18,19,20,21,22,23,24,25,26,27,28,29,30,31,32,33,34,35,36,37,38,39,40,41,42,43,44,45,46,47,48,49,50,51,52,53,54,55,56,57,58,59,60,61,62,63,64,65,66,67,68,69,70,71,72,73,74,75,76,77,78,79,80,81,82,83,84,85,86,87,88,89,90,91,92,93,94,95,96,97,98,99,100]},\"column_names\":[\"y\",\"x\"],\"cont_ranges\":{},\"discrete_ranges\":{},\"selected\":[],\"id\":\"b028db9d-f21f-4c47-cc7f-31598ae7ef89\",\"doc\":null,\"tags\":[]}},{\"id\":\"32f281dd-d787-4ac1-ca05-6634b67774cb\",\"type\":\"Line\",\"attributes\":{\"fill_alpha\":{\"units\":\"data\",\"value\":0.2},\"line_alpha\":{\"units\":\"data\",\"value\":1},\"doc\":null,\"size\":{\"units\":\"screen\",\"value\":10},\"fill_color\":{\"value\":\"green\"},\"line_color\":{\"value\":\"green\"},\"x\":{\"units\":\"data\",\"field\":\"x\"},\"id\":\"32f281dd-d787-4ac1-ca05-6634b67774cb\",\"y\":{\"units\":\"data\",\"field\":\"y\"},\"tags\":[]}},{\"id\":\"4b176ccc-5fa2-4375-c34f-9a08a2ad51f2\",\"type\":\"Line\",\"attributes\":{\"fill_alpha\":{\"units\":\"data\",\"value\":0.2},\"line_alpha\":{\"units\":\"data\",\"value\":1},\"doc\":null,\"size\":{\"units\":\"screen\",\"value\":10},\"fill_color\":{\"value\":\"green\"},\"line_color\":{\"value\":\"green\"},\"x\":{\"units\":\"data\",\"field\":\"x\"},\"id\":\"4b176ccc-5fa2-4375-c34f-9a08a2ad51f2\",\"y\":{\"units\":\"data\",\"field\":\"y\"},\"tags\":[]}},{\"id\":\"2c5ed6db-c7a4-4c91-ccb9-01d098f2b9c1\",\"type\":\"GlyphRenderer\",\"attributes\":{\"name\":null,\"nonselection_glyph\":{\"type\":\"Line\",\"id\":\"4b176ccc-5fa2-4375-c34f-9a08a2ad51f2\"},\"doc\":null,\"server_data_source\":null,\"data_source\":{\"type\":\"ColumnDataSource\",\"id\":\"b028db9d-f21f-4c47-cc7f-31598ae7ef89\"},\"glyph\":{\"type\":\"Line\",\"id\":\"32f281dd-d787-4ac1-ca05-6634b67774cb\"},\"selection_glyph\":null,\"id\":\"2c5ed6db-c7a4-4c91-ccb9-01d098f2b9c1\",\"tags\":[]}},{\"id\":\"6fcf14a1-c7d6-4475-c45c-4f1a34b2c25c\",\"type\":\"DataRange1d\",\"attributes\":{\"sources\":[{\"columns\":[\"x\"],\"source\":{\"type\":\"ColumnDataSource\",\"id\":\"b028db9d-f21f-4c47-cc7f-31598ae7ef89\"}}],\"id\":\"6fcf14a1-c7d6-4475-c45c-4f1a34b2c25c\",\"tags\":[],\"doc\":null}},{\"id\":\"63d903d9-42a6-4eac-cec8-5b80ff5afcb3\",\"type\":\"DataRange1d\",\"attributes\":{\"sources\":[{\"columns\":[\"y\"],\"source\":{\"type\":\"ColumnDataSource\",\"id\":\"b028db9d-f21f-4c47-cc7f-31598ae7ef89\"}}],\"id\":\"63d903d9-42a6-4eac-cec8-5b80ff5afcb3\",\"tags\":[],\"doc\":null}},{\"id\":\"03bac975-9b9a-438a-c3a9-5a88240f7499\",\"type\":\"ToolEvents\",\"attributes\":{\"tags\":[],\"id\":\"03bac975-9b9a-438a-c3a9-5a88240f7499\",\"geometries\":[],\"doc\":null}},{\"id\":\"11587a44-da13-4f1a-cfb0-5c52d1d69230\",\"type\":\"BasicTickFormatter\",\"attributes\":{\"id\":\"11587a44-da13-4f1a-cfb0-5c52d1d69230\",\"tags\":[],\"doc\":null}},{\"id\":\"89325772-6ad0-46c7-c6e7-2e863ff20c14\",\"type\":\"BasicTicker\",\"attributes\":{\"num_minor_ticks\":5,\"id\":\"89325772-6ad0-46c7-c6e7-2e863ff20c14\",\"tags\":[],\"doc\":null}},{\"id\":\"270f4066-aa4b-4d0d-cd48-c51a0717887b\",\"type\":\"LinearAxis\",\"attributes\":{\"formatter\":{\"type\":\"BasicTickFormatter\",\"id\":\"11587a44-da13-4f1a-cfb0-5c52d1d69230\"},\"ticker\":{\"type\":\"BasicTicker\",\"id\":\"89325772-6ad0-46c7-c6e7-2e863ff20c14\"},\"plot\":{\"id\":\"f223fef1-7924-46de-c61f-da27bee49a77\",\"type\":\"Plot\",\"subtype\":\"Figure\"},\"axis_label\":null,\"id\":\"270f4066-aa4b-4d0d-cd48-c51a0717887b\",\"doc\":null,\"tags\":[]}},{\"id\":\"c68f8bee-12c0-4034-c085-296b6310d5ad\",\"type\":\"Grid\",\"attributes\":{\"dimension\":0,\"plot\":{\"id\":\"f223fef1-7924-46de-c61f-da27bee49a77\",\"type\":\"Plot\",\"subtype\":\"Figure\"},\"ticker\":{\"type\":\"BasicTicker\",\"id\":\"89325772-6ad0-46c7-c6e7-2e863ff20c14\"},\"id\":\"c68f8bee-12c0-4034-c085-296b6310d5ad\",\"doc\":null,\"tags\":[]}},{\"id\":\"8df64787-ed5a-44e2-c40e-0c4abd36ee08\",\"type\":\"BasicTickFormatter\",\"attributes\":{\"id\":\"8df64787-ed5a-44e2-c40e-0c4abd36ee08\",\"tags\":[],\"doc\":null}},{\"id\":\"640aa4fb-7d02-4bf9-cb7b-28e88f363ad5\",\"type\":\"BasicTicker\",\"attributes\":{\"num_minor_ticks\":5,\"id\":\"640aa4fb-7d02-4bf9-cb7b-28e88f363ad5\",\"tags\":[],\"doc\":null}},{\"id\":\"9732930b-28eb-497e-c9d1-bb635d3bceb8\",\"type\":\"LinearAxis\",\"attributes\":{\"formatter\":{\"type\":\"BasicTickFormatter\",\"id\":\"8df64787-ed5a-44e2-c40e-0c4abd36ee08\"},\"ticker\":{\"type\":\"BasicTicker\",\"id\":\"640aa4fb-7d02-4bf9-cb7b-28e88f363ad5\"},\"plot\":{\"id\":\"f223fef1-7924-46de-c61f-da27bee49a77\",\"type\":\"Plot\",\"subtype\":\"Figure\"},\"axis_label\":null,\"id\":\"9732930b-28eb-497e-c9d1-bb635d3bceb8\",\"doc\":null,\"tags\":[]}},{\"id\":\"30fd2ddb-c8f7-46ca-c670-6aa25554c6fb\",\"type\":\"Grid\",\"attributes\":{\"dimension\":1,\"plot\":{\"id\":\"f223fef1-7924-46de-c61f-da27bee49a77\",\"type\":\"Plot\",\"subtype\":\"Figure\"},\"ticker\":{\"type\":\"BasicTicker\",\"id\":\"640aa4fb-7d02-4bf9-cb7b-28e88f363ad5\"},\"id\":\"30fd2ddb-c8f7-46ca-c670-6aa25554c6fb\",\"doc\":null,\"tags\":[]}},{\"id\":\"91df9c4f-0c84-46c6-c6c9-2c390dabe814\",\"type\":\"PanTool\",\"attributes\":{\"plot\":{\"id\":\"f223fef1-7924-46de-c61f-da27bee49a77\",\"type\":\"Plot\",\"subtype\":\"Figure\"},\"dimensions\":[\"width\",\"height\"],\"id\":\"91df9c4f-0c84-46c6-c6c9-2c390dabe814\",\"doc\":null,\"tags\":[]}},{\"id\":\"ef3b4e9d-6f72-4413-c4ba-bebcf81b919f\",\"type\":\"WheelZoomTool\",\"attributes\":{\"plot\":{\"id\":\"f223fef1-7924-46de-c61f-da27bee49a77\",\"type\":\"Plot\",\"subtype\":\"Figure\"},\"dimensions\":[\"width\",\"height\"],\"id\":\"ef3b4e9d-6f72-4413-c4ba-bebcf81b919f\",\"doc\":null,\"tags\":[]}},{\"id\":\"863b08c1-f84e-4187-c124-7bccb92a0e7f\",\"type\":\"BoxZoomTool\",\"attributes\":{\"plot\":{\"id\":\"f223fef1-7924-46de-c61f-da27bee49a77\",\"type\":\"Plot\",\"subtype\":\"Figure\"},\"id\":\"863b08c1-f84e-4187-c124-7bccb92a0e7f\",\"tags\":[],\"doc\":null}},{\"id\":\"6958470b-2edc-4f96-cf44-b223f01d4761\",\"type\":\"PreviewSaveTool\",\"attributes\":{\"plot\":{\"id\":\"f223fef1-7924-46de-c61f-da27bee49a77\",\"type\":\"Plot\",\"subtype\":\"Figure\"},\"id\":\"6958470b-2edc-4f96-cf44-b223f01d4761\",\"tags\":[],\"doc\":null}},{\"id\":\"3280775b-bedd-4848-c801-ce53353dd290\",\"type\":\"ResizeTool\",\"attributes\":{\"plot\":{\"id\":\"f223fef1-7924-46de-c61f-da27bee49a77\",\"type\":\"Plot\",\"subtype\":\"Figure\"},\"id\":\"3280775b-bedd-4848-c801-ce53353dd290\",\"tags\":[],\"doc\":null}},{\"id\":\"da33c948-e4d2-494d-c99a-81eac63abaaa\",\"type\":\"ResetTool\",\"attributes\":{\"plot\":{\"id\":\"f223fef1-7924-46de-c61f-da27bee49a77\",\"type\":\"Plot\",\"subtype\":\"Figure\"},\"id\":\"da33c948-e4d2-494d-c99a-81eac63abaaa\",\"tags\":[],\"doc\":null}},{\"id\":\"c78bdc78-110b-478e-c748-780c65553726\",\"type\":\"Legend\",\"attributes\":{\"plot\":{\"id\":\"f223fef1-7924-46de-c61f-da27bee49a77\",\"type\":\"Plot\",\"subtype\":\"Figure\"},\"legends\":[[\"example\",[{\"type\":\"GlyphRenderer\",\"id\":\"2c5ed6db-c7a4-4c91-ccb9-01d098f2b9c1\"}]]],\"id\":\"c78bdc78-110b-478e-c748-780c65553726\",\"doc\":null,\"tags\":[]}},{\"id\":\"f223fef1-7924-46de-c61f-da27bee49a77\",\"type\":\"Plot\",\"attributes\":{\"x_range\":{\"type\":\"DataRange1d\",\"id\":\"6fcf14a1-c7d6-4475-c45c-4f1a34b2c25c\"},\"tool_events\":{\"type\":\"ToolEvents\",\"id\":\"03bac975-9b9a-438a-c3a9-5a88240f7499\"},\"below\":[{\"type\":\"LinearAxis\",\"id\":\"270f4066-aa4b-4d0d-cd48-c51a0717887b\"}],\"renderers\":[{\"type\":\"GlyphRenderer\",\"id\":\"2c5ed6db-c7a4-4c91-ccb9-01d098f2b9c1\"},{\"type\":\"LinearAxis\",\"id\":\"270f4066-aa4b-4d0d-cd48-c51a0717887b\"},{\"type\":\"Grid\",\"id\":\"c68f8bee-12c0-4034-c085-296b6310d5ad\"},{\"type\":\"LinearAxis\",\"id\":\"9732930b-28eb-497e-c9d1-bb635d3bceb8\"},{\"type\":\"Grid\",\"id\":\"30fd2ddb-c8f7-46ca-c670-6aa25554c6fb\"},{\"type\":\"Legend\",\"id\":\"c78bdc78-110b-478e-c748-780c65553726\"}],\"above\":[],\"tools\":[{\"type\":\"PanTool\",\"id\":\"91df9c4f-0c84-46c6-c6c9-2c390dabe814\"},{\"type\":\"WheelZoomTool\",\"id\":\"ef3b4e9d-6f72-4413-c4ba-bebcf81b919f\"},{\"type\":\"BoxZoomTool\",\"id\":\"863b08c1-f84e-4187-c124-7bccb92a0e7f\"},{\"type\":\"PreviewSaveTool\",\"id\":\"6958470b-2edc-4f96-cf44-b223f01d4761\"},{\"type\":\"ResizeTool\",\"id\":\"3280775b-bedd-4848-c801-ce53353dd290\"},{\"type\":\"ResetTool\",\"id\":\"da33c948-e4d2-494d-c99a-81eac63abaaa\"}],\"doc\":null,\"right\":[],\"title\":\"Line Plot Demo\",\"extra_x_ranges\":{},\"left\":[{\"type\":\"LinearAxis\",\"id\":\"9732930b-28eb-497e-c9d1-bb635d3bceb8\"}],\"y_range\":{\"type\":\"DataRange1d\",\"id\":\"63d903d9-42a6-4eac-cec8-5b80ff5afcb3\"},\"id\":\"f223fef1-7924-46de-c61f-da27bee49a77\",\"extra_y_ranges\":{},\"tags\":[]}}];\n",
       "  Bokeh.load_models(all_models);\n",
       "  var model = Bokeh.Collections(modeltype).get(modelid);\n",
       "  $(\"#f21f21c8-cbc9-427e-c234-5f5e9d7ab7b3\").html(''); // clear any previous plot in window_id\n",
       "  var view = new model.default_view({model: model, el: \"#f21f21c8-cbc9-427e-c234-5f5e9d7ab7b3\"});\n",
       "    } else {\n",
       "  load_lib(bokehjs_url, function() {\n",
       "      console.log(\"Bokeh: BokehJS plotting callback run at\", new Date())\n",
       "      var modelid = \"f223fef1-7924-46de-c61f-da27bee49a77\";\n",
       "      var modeltype = \"Plot\";\n",
       "      var all_models = [{\"id\":\"b028db9d-f21f-4c47-cc7f-31598ae7ef89\",\"type\":\"ColumnDataSource\",\"attributes\":{\"data\":{\"y\":[3,3.015519618988,3.0311195850372,3.0468001365662,3.062561750412,3.0784049034119,3.094330072403,3.1103377342224,3.1264281272888,3.1426017284393,3.1588587760925,3.1752004623413,3.1916263103485,3.2081372737885,3.2247335910797,3.2414157390594,3.2581841945648,3.275039434433,3.2919816970825,3.3090119361877,3.3261299133301,3.3433365821838,3.3606324195862,3.3780176639557,3.3954927921295,3.4130582809448,3.4307146072388,3.4484624862671,3.4663019180298,3.4842338562012,3.5022583007812,3.5203762054443,3.538587808609,3.5568935871124,3.5752940177917,3.5937898159027,3.6123809814453,3.6310687065125,3.6498527526855,3.6687340736389,3.6877131462097,3.7067904472351,3.7259664535522,3.7452416419983,3.7646164894104,3.7840914726257,3.8036673069,3.8233444690704,3.8431231975555,3.8630044460297,3.8829884529114,3.9030759334564,3.923267364502,3.9435629844666,3.9639639854431,3.9844701290131,4.0050826072693,4.0258016586304,4.0466279983521,4.0675621032715,4.0886039733887,4.1097555160522,4.1310157775879,4.1523861885071,4.173867225647,4.1954598426819,4.2171635627747,4.2389798164368,4.2609086036682,4.2829513549805,4.3051075935364,4.3273787498474,4.3497653007507,4.3722672462463,4.3948860168457,4.4176216125488,4.44047498703,4.4634461402893,4.4865365028381,4.5097460746765,4.5330758094788,4.556526184082,4.5800981521606,4.6037917137146,4.6276082992554,4.6515474319458,4.6756110191345,4.6997985839844,4.7241115570068,4.7485504150391,4.7731156349182,4.7978076934814,4.8226280212402,4.8475761413574,4.8726534843445,4.8978605270386,4.923198223114,4.948667049408,4.9742674827576,5],\"x\":[1,2,3,4,5,6,7,8,9,10,11,12,13,14,15,16,17,18,19,20,21,22,23,24,25,26,27,28,29,30,31,32,33,34,35,36,37,38,39,40,41,42,43,44,45,46,47,48,49,50,51,52,53,54,55,56,57,58,59,60,61,62,63,64,65,66,67,68,69,70,71,72,73,74,75,76,77,78,79,80,81,82,83,84,85,86,87,88,89,90,91,92,93,94,95,96,97,98,99,100]},\"column_names\":[\"y\",\"x\"],\"cont_ranges\":{},\"discrete_ranges\":{},\"selected\":[],\"id\":\"b028db9d-f21f-4c47-cc7f-31598ae7ef89\",\"doc\":null,\"tags\":[]}},{\"id\":\"32f281dd-d787-4ac1-ca05-6634b67774cb\",\"type\":\"Line\",\"attributes\":{\"fill_alpha\":{\"units\":\"data\",\"value\":0.2},\"line_alpha\":{\"units\":\"data\",\"value\":1},\"doc\":null,\"size\":{\"units\":\"screen\",\"value\":10},\"fill_color\":{\"value\":\"green\"},\"line_color\":{\"value\":\"green\"},\"x\":{\"units\":\"data\",\"field\":\"x\"},\"id\":\"32f281dd-d787-4ac1-ca05-6634b67774cb\",\"y\":{\"units\":\"data\",\"field\":\"y\"},\"tags\":[]}},{\"id\":\"4b176ccc-5fa2-4375-c34f-9a08a2ad51f2\",\"type\":\"Line\",\"attributes\":{\"fill_alpha\":{\"units\":\"data\",\"value\":0.2},\"line_alpha\":{\"units\":\"data\",\"value\":1},\"doc\":null,\"size\":{\"units\":\"screen\",\"value\":10},\"fill_color\":{\"value\":\"green\"},\"line_color\":{\"value\":\"green\"},\"x\":{\"units\":\"data\",\"field\":\"x\"},\"id\":\"4b176ccc-5fa2-4375-c34f-9a08a2ad51f2\",\"y\":{\"units\":\"data\",\"field\":\"y\"},\"tags\":[]}},{\"id\":\"2c5ed6db-c7a4-4c91-ccb9-01d098f2b9c1\",\"type\":\"GlyphRenderer\",\"attributes\":{\"name\":null,\"nonselection_glyph\":{\"type\":\"Line\",\"id\":\"4b176ccc-5fa2-4375-c34f-9a08a2ad51f2\"},\"doc\":null,\"server_data_source\":null,\"data_source\":{\"type\":\"ColumnDataSource\",\"id\":\"b028db9d-f21f-4c47-cc7f-31598ae7ef89\"},\"glyph\":{\"type\":\"Line\",\"id\":\"32f281dd-d787-4ac1-ca05-6634b67774cb\"},\"selection_glyph\":null,\"id\":\"2c5ed6db-c7a4-4c91-ccb9-01d098f2b9c1\",\"tags\":[]}},{\"id\":\"6fcf14a1-c7d6-4475-c45c-4f1a34b2c25c\",\"type\":\"DataRange1d\",\"attributes\":{\"sources\":[{\"columns\":[\"x\"],\"source\":{\"type\":\"ColumnDataSource\",\"id\":\"b028db9d-f21f-4c47-cc7f-31598ae7ef89\"}}],\"id\":\"6fcf14a1-c7d6-4475-c45c-4f1a34b2c25c\",\"tags\":[],\"doc\":null}},{\"id\":\"63d903d9-42a6-4eac-cec8-5b80ff5afcb3\",\"type\":\"DataRange1d\",\"attributes\":{\"sources\":[{\"columns\":[\"y\"],\"source\":{\"type\":\"ColumnDataSource\",\"id\":\"b028db9d-f21f-4c47-cc7f-31598ae7ef89\"}}],\"id\":\"63d903d9-42a6-4eac-cec8-5b80ff5afcb3\",\"tags\":[],\"doc\":null}},{\"id\":\"03bac975-9b9a-438a-c3a9-5a88240f7499\",\"type\":\"ToolEvents\",\"attributes\":{\"tags\":[],\"id\":\"03bac975-9b9a-438a-c3a9-5a88240f7499\",\"geometries\":[],\"doc\":null}},{\"id\":\"11587a44-da13-4f1a-cfb0-5c52d1d69230\",\"type\":\"BasicTickFormatter\",\"attributes\":{\"id\":\"11587a44-da13-4f1a-cfb0-5c52d1d69230\",\"tags\":[],\"doc\":null}},{\"id\":\"89325772-6ad0-46c7-c6e7-2e863ff20c14\",\"type\":\"BasicTicker\",\"attributes\":{\"num_minor_ticks\":5,\"id\":\"89325772-6ad0-46c7-c6e7-2e863ff20c14\",\"tags\":[],\"doc\":null}},{\"id\":\"270f4066-aa4b-4d0d-cd48-c51a0717887b\",\"type\":\"LinearAxis\",\"attributes\":{\"formatter\":{\"type\":\"BasicTickFormatter\",\"id\":\"11587a44-da13-4f1a-cfb0-5c52d1d69230\"},\"ticker\":{\"type\":\"BasicTicker\",\"id\":\"89325772-6ad0-46c7-c6e7-2e863ff20c14\"},\"plot\":{\"id\":\"f223fef1-7924-46de-c61f-da27bee49a77\",\"type\":\"Plot\",\"subtype\":\"Figure\"},\"axis_label\":null,\"id\":\"270f4066-aa4b-4d0d-cd48-c51a0717887b\",\"doc\":null,\"tags\":[]}},{\"id\":\"c68f8bee-12c0-4034-c085-296b6310d5ad\",\"type\":\"Grid\",\"attributes\":{\"dimension\":0,\"plot\":{\"id\":\"f223fef1-7924-46de-c61f-da27bee49a77\",\"type\":\"Plot\",\"subtype\":\"Figure\"},\"ticker\":{\"type\":\"BasicTicker\",\"id\":\"89325772-6ad0-46c7-c6e7-2e863ff20c14\"},\"id\":\"c68f8bee-12c0-4034-c085-296b6310d5ad\",\"doc\":null,\"tags\":[]}},{\"id\":\"8df64787-ed5a-44e2-c40e-0c4abd36ee08\",\"type\":\"BasicTickFormatter\",\"attributes\":{\"id\":\"8df64787-ed5a-44e2-c40e-0c4abd36ee08\",\"tags\":[],\"doc\":null}},{\"id\":\"640aa4fb-7d02-4bf9-cb7b-28e88f363ad5\",\"type\":\"BasicTicker\",\"attributes\":{\"num_minor_ticks\":5,\"id\":\"640aa4fb-7d02-4bf9-cb7b-28e88f363ad5\",\"tags\":[],\"doc\":null}},{\"id\":\"9732930b-28eb-497e-c9d1-bb635d3bceb8\",\"type\":\"LinearAxis\",\"attributes\":{\"formatter\":{\"type\":\"BasicTickFormatter\",\"id\":\"8df64787-ed5a-44e2-c40e-0c4abd36ee08\"},\"ticker\":{\"type\":\"BasicTicker\",\"id\":\"640aa4fb-7d02-4bf9-cb7b-28e88f363ad5\"},\"plot\":{\"id\":\"f223fef1-7924-46de-c61f-da27bee49a77\",\"type\":\"Plot\",\"subtype\":\"Figure\"},\"axis_label\":null,\"id\":\"9732930b-28eb-497e-c9d1-bb635d3bceb8\",\"doc\":null,\"tags\":[]}},{\"id\":\"30fd2ddb-c8f7-46ca-c670-6aa25554c6fb\",\"type\":\"Grid\",\"attributes\":{\"dimension\":1,\"plot\":{\"id\":\"f223fef1-7924-46de-c61f-da27bee49a77\",\"type\":\"Plot\",\"subtype\":\"Figure\"},\"ticker\":{\"type\":\"BasicTicker\",\"id\":\"640aa4fb-7d02-4bf9-cb7b-28e88f363ad5\"},\"id\":\"30fd2ddb-c8f7-46ca-c670-6aa25554c6fb\",\"doc\":null,\"tags\":[]}},{\"id\":\"91df9c4f-0c84-46c6-c6c9-2c390dabe814\",\"type\":\"PanTool\",\"attributes\":{\"plot\":{\"id\":\"f223fef1-7924-46de-c61f-da27bee49a77\",\"type\":\"Plot\",\"subtype\":\"Figure\"},\"dimensions\":[\"width\",\"height\"],\"id\":\"91df9c4f-0c84-46c6-c6c9-2c390dabe814\",\"doc\":null,\"tags\":[]}},{\"id\":\"ef3b4e9d-6f72-4413-c4ba-bebcf81b919f\",\"type\":\"WheelZoomTool\",\"attributes\":{\"plot\":{\"id\":\"f223fef1-7924-46de-c61f-da27bee49a77\",\"type\":\"Plot\",\"subtype\":\"Figure\"},\"dimensions\":[\"width\",\"height\"],\"id\":\"ef3b4e9d-6f72-4413-c4ba-bebcf81b919f\",\"doc\":null,\"tags\":[]}},{\"id\":\"863b08c1-f84e-4187-c124-7bccb92a0e7f\",\"type\":\"BoxZoomTool\",\"attributes\":{\"plot\":{\"id\":\"f223fef1-7924-46de-c61f-da27bee49a77\",\"type\":\"Plot\",\"subtype\":\"Figure\"},\"id\":\"863b08c1-f84e-4187-c124-7bccb92a0e7f\",\"tags\":[],\"doc\":null}},{\"id\":\"6958470b-2edc-4f96-cf44-b223f01d4761\",\"type\":\"PreviewSaveTool\",\"attributes\":{\"plot\":{\"id\":\"f223fef1-7924-46de-c61f-da27bee49a77\",\"type\":\"Plot\",\"subtype\":\"Figure\"},\"id\":\"6958470b-2edc-4f96-cf44-b223f01d4761\",\"tags\":[],\"doc\":null}},{\"id\":\"3280775b-bedd-4848-c801-ce53353dd290\",\"type\":\"ResizeTool\",\"attributes\":{\"plot\":{\"id\":\"f223fef1-7924-46de-c61f-da27bee49a77\",\"type\":\"Plot\",\"subtype\":\"Figure\"},\"id\":\"3280775b-bedd-4848-c801-ce53353dd290\",\"tags\":[],\"doc\":null}},{\"id\":\"da33c948-e4d2-494d-c99a-81eac63abaaa\",\"type\":\"ResetTool\",\"attributes\":{\"plot\":{\"id\":\"f223fef1-7924-46de-c61f-da27bee49a77\",\"type\":\"Plot\",\"subtype\":\"Figure\"},\"id\":\"da33c948-e4d2-494d-c99a-81eac63abaaa\",\"tags\":[],\"doc\":null}},{\"id\":\"c78bdc78-110b-478e-c748-780c65553726\",\"type\":\"Legend\",\"attributes\":{\"plot\":{\"id\":\"f223fef1-7924-46de-c61f-da27bee49a77\",\"type\":\"Plot\",\"subtype\":\"Figure\"},\"legends\":[[\"example\",[{\"type\":\"GlyphRenderer\",\"id\":\"2c5ed6db-c7a4-4c91-ccb9-01d098f2b9c1\"}]]],\"id\":\"c78bdc78-110b-478e-c748-780c65553726\",\"doc\":null,\"tags\":[]}},{\"id\":\"f223fef1-7924-46de-c61f-da27bee49a77\",\"type\":\"Plot\",\"attributes\":{\"x_range\":{\"type\":\"DataRange1d\",\"id\":\"6fcf14a1-c7d6-4475-c45c-4f1a34b2c25c\"},\"tool_events\":{\"type\":\"ToolEvents\",\"id\":\"03bac975-9b9a-438a-c3a9-5a88240f7499\"},\"below\":[{\"type\":\"LinearAxis\",\"id\":\"270f4066-aa4b-4d0d-cd48-c51a0717887b\"}],\"renderers\":[{\"type\":\"GlyphRenderer\",\"id\":\"2c5ed6db-c7a4-4c91-ccb9-01d098f2b9c1\"},{\"type\":\"LinearAxis\",\"id\":\"270f4066-aa4b-4d0d-cd48-c51a0717887b\"},{\"type\":\"Grid\",\"id\":\"c68f8bee-12c0-4034-c085-296b6310d5ad\"},{\"type\":\"LinearAxis\",\"id\":\"9732930b-28eb-497e-c9d1-bb635d3bceb8\"},{\"type\":\"Grid\",\"id\":\"30fd2ddb-c8f7-46ca-c670-6aa25554c6fb\"},{\"type\":\"Legend\",\"id\":\"c78bdc78-110b-478e-c748-780c65553726\"}],\"above\":[],\"tools\":[{\"type\":\"PanTool\",\"id\":\"91df9c4f-0c84-46c6-c6c9-2c390dabe814\"},{\"type\":\"WheelZoomTool\",\"id\":\"ef3b4e9d-6f72-4413-c4ba-bebcf81b919f\"},{\"type\":\"BoxZoomTool\",\"id\":\"863b08c1-f84e-4187-c124-7bccb92a0e7f\"},{\"type\":\"PreviewSaveTool\",\"id\":\"6958470b-2edc-4f96-cf44-b223f01d4761\"},{\"type\":\"ResizeTool\",\"id\":\"3280775b-bedd-4848-c801-ce53353dd290\"},{\"type\":\"ResetTool\",\"id\":\"da33c948-e4d2-494d-c99a-81eac63abaaa\"}],\"doc\":null,\"right\":[],\"title\":\"Line Plot Demo\",\"extra_x_ranges\":{},\"left\":[{\"type\":\"LinearAxis\",\"id\":\"9732930b-28eb-497e-c9d1-bb635d3bceb8\"}],\"y_range\":{\"type\":\"DataRange1d\",\"id\":\"63d903d9-42a6-4eac-cec8-5b80ff5afcb3\"},\"id\":\"f223fef1-7924-46de-c61f-da27bee49a77\",\"extra_y_ranges\":{},\"tags\":[]}}];\n",
       "      Bokeh.load_models(all_models);\n",
       "      var model = Bokeh.Collections(modeltype).get(modelid);\n",
       "      $(\"#f21f21c8-cbc9-427e-c234-5f5e9d7ab7b3\").html(''); // clear any previous plot in window_id\n",
       "      var view = new model.default_view({model: model, el: \"#f21f21c8-cbc9-427e-c234-5f5e9d7ab7b3\"});\n",
       "  });\n",
       "    }\n",
       "});\n",
       "</script>\n",
       "<div class=\"plotdiv\" id=\"f21f21c8-cbc9-427e-c234-5f5e9d7ab7b3\"></div>\n"
      ]
     },
     "metadata": {},
     "output_type": "display_data"
    }
   ],
   "source": [
    "plot1 = Plot():line(x, y,'green','example'):legend(true):title('Line Plot Demo'):draw()"
   ]
  },
  {
   "cell_type": "code",
   "execution_count": null,
   "metadata": {
    "collapsed": true
   },
   "outputs": [],
   "source": []
  },
  {
   "cell_type": "code",
   "execution_count": null,
   "metadata": {
    "collapsed": true
   },
   "outputs": [],
   "source": []
  },
  {
   "cell_type": "code",
   "execution_count": 5,
   "metadata": {
    "collapsed": false
   },
   "outputs": [
    {
     "data": {
      "text/html": [
       "<script type=\"text/javascript\">\n",
       "$(function() {\n",
       "    if (typeof (window._bokeh_onload_callbacks) === \"undefined\"){\n",
       "  window._bokeh_onload_callbacks = [];\n",
       "    }\n",
       "    function load_lib(url, callback){\n",
       "  window._bokeh_onload_callbacks.push(callback);\n",
       "  if (window._bokeh_is_loading){\n",
       "      console.log(\"Bokeh: BokehJS is being loaded, scheduling callback at\", new Date());\n",
       "      return null;\n",
       "  }\n",
       "  console.log(\"Bokeh: BokehJS not loaded, scheduling load and callback at\", new Date());\n",
       "  window._bokeh_is_loading = true;\n",
       "  var s = document.createElement('script');\n",
       "  s.src = url;\n",
       "  s.async = true;\n",
       "  s.onreadystatechange = s.onload = function(){\n",
       "      Bokeh.embed.inject_css(\"https://cdn.pydata.org/bokeh-0.7.0.min.css\");\n",
       "      window._bokeh_onload_callbacks.forEach(function(callback){callback()});\n",
       "  };\n",
       "  s.onerror = function(){\n",
       "      console.warn(\"failed to load library \" + url);\n",
       "  };\n",
       "  document.getElementsByTagName(\"head\")[0].appendChild(s);\n",
       "    }\n",
       "\n",
       "    bokehjs_url = \"https://cdn.pydata.org/bokeh-0.7.0.min.js\"\n",
       "\n",
       "    var elt = document.getElementById(\"236ac5c1-68b9-44be-c48f-ad6e1cbdd3cd\");\n",
       "    if(elt==null) {\n",
       "  console.log(\"Bokeh: ERROR: autoload.js configured with elementid '236ac5c1-68b9-44be-c48f-ad6e1cbdd3cd'\"\n",
       "        + \"but no matching script tag was found. \")\n",
       "  return false;\n",
       "    }\n",
       "\n",
       "    if(typeof(Bokeh) !== \"undefined\") {\n",
       "  console.log(\"Bokeh: BokehJS loaded, going straight to plotting\");\n",
       "  var modelid = \"9a4a0b2e-ad32-4045-c035-adaf483fd39f\";\n",
       "  var modeltype = \"Plot\";\n",
       "  var all_models = [{\"id\":\"83532b9e-99ca-4951-c94d-8c23bae9a6da\",\"type\":\"ColumnDataSource\",\"attributes\":{\"data\":{\"y1\":[3,2,0,0,1,0,1,2,1,5,4,1,8,3,4,9,12,25,22,33,18,28,33,38,35,52,51,66,66,81,77,93,106,121,129,142,160,185,162,191,188,193,202,218,233,258,260,269,261,275,297,243,301,314,264,286,279,236,257,268,246,244,219,220,181,191,159,143,148,114,123,120,99,87,90,65,79,66,51,43,28,33,28,31,15,21,11,12,10,8,4,11,10,2,4,1,5,1,3,2],\"x0\":[-3.6931076049805,-3.6220233440399,-3.5509388446808,-3.4798545837402,-3.4087703227997,-3.3376858234406,-3.2666015625,-3.1955173015594,-3.1244328022003,-3.0533485412598,-2.9822642803192,-2.9111800193787,-2.8400955200195,-2.7690110206604,-2.6979267597198,-2.6268424987793,-2.5557579994202,-2.4846737384796,-2.4135894775391,-2.3425052165985,-2.271420955658,-2.2003364562988,-2.1292521953583,-2.0581679344177,-1.9870834350586,-1.9159990549088,-1.8449146747589,-1.7738304138184,-1.7027460336685,-1.6316616535187,-1.5605773925781,-1.4894931316376,-1.4184086322784,-1.3473243713379,-1.2762398719788,-1.2051556110382,-1.1340713500977,-1.0629870891571,-0.99190282821655,-0.92081832885742,-0.84973406791687,-0.77864956855774,-0.70756530761719,-0.63648080825806,-0.56539678573608,-0.49431228637695,-0.4232280254364,-0.35214352607727,-0.28105926513672,-0.20997500419617,-0.13889050483704,-0.067806243896484,0.0032782554626465,0.074362277984619,0.14544677734375,0.2165310382843,0.28761553764343,0.35869979858398,0.42978429794312,0.50086879730225,0.57195281982422,0.64303684234619,0.71412134170532,0.78520584106445,0.85629034042358,0.92737436294556,0.99845886230469,1.0695433616638,1.1406278610229,1.2117118835449,1.2827963829041,1.353880405426,1.4249649047852,1.4960489273071,1.5671334266663,1.6382179260254,1.7093019485474,1.7803864479065,1.8514709472656,1.9225554466248,1.9936394691467,2.0647239685059,2.135808467865,2.2068929672241,2.2779769897461,2.3490614891052,2.4201459884644,2.4912304878235,2.5623140335083,2.6333985328674,2.7044830322266,2.7755670547485,2.8466515541077,2.9177360534668,2.9888205528259,3.0599045753479,3.130989074707,3.2020735740662,3.2731575965881,3.3442420959473],\"x1\":[-3.6227340698242,-3.5516498088837,-3.4805653095245,-3.409481048584,-3.3383967876434,-3.2673122882843,-3.1962280273438,-3.1251437664032,-3.0540592670441,-2.9829750061035,-2.911890745163,-2.8408064842224,-2.7697219848633,-2.6986374855042,-2.6275532245636,-2.556468963623,-2.4853844642639,-2.4143002033234,-2.3432159423828,-2.2721316814423,-2.2010474205017,-2.1299629211426,-2.058878660202,-1.9877943992615,-1.9167098999023,-1.8456255197525,-1.7745411396027,-1.7034568786621,-1.6323724985123,-1.5612881183624,-1.4902038574219,-1.4191195964813,-1.3480350971222,-1.2769508361816,-1.2058663368225,-1.134782075882,-1.0636978149414,-0.9926136136055,-0.92152935266495,-0.85044485330582,-0.77936059236526,-0.70827609300613,-0.63719183206558,-0.56610733270645,-0.49502328038216,-0.42393878102303,-0.35285452008247,-0.28177002072334,-0.21068575978279,-0.13960149884224,-0.068517006933689,0.0025672540068626,0.073651753365993,0.14473578333855,0.21582028269768,0.28690454363823,0.35798904299736,0.42907330393791,0.50015777349472,0.57124227285385,0.64232629537582,0.7134103178978,0.78449481725693,0.85557931661606,0.92666381597519,0.99774783849716,1.0688323974609,1.1399168968201,1.2110013961792,1.2820854187012,1.3531699180603,1.4242539405823,1.4953384399414,1.5664224624634,1.6375069618225,1.7085914611816,1.7796754837036,1.8507599830627,1.9218444824219,1.992928981781,2.064013004303,2.1350975036621,2.2061820030212,2.2772665023804,2.3483505249023,2.4194350242615,2.4905195236206,2.5616040229797,2.6326875686646,2.7037720680237,2.7748565673828,2.8459405899048,2.9170250892639,2.988109588623,3.0591940879822,3.1302781105042,3.2013626098633,3.2724471092224,3.3435311317444,3.4146156311035],\"y0\":[0,0,0,0,0,0,0,0,0,0,0,0,0,0,0,0,0,0,0,0,0,0,0,0,0,0,0,0,0,0,0,0,0,0,0,0,0,0,0,0,0,0,0,0,0,0,0,0,0,0,0,0,0,0,0,0,0,0,0,0,0,0,0,0,0,0,0,0,0,0,0,0,0,0,0,0,0,0,0,0,0,0,0,0,0,0,0,0,0,0,0,0,0,0,0,0,0,0,0,0]},\"column_names\":[\"y1\",\"x0\",\"x1\",\"y0\"],\"cont_ranges\":{},\"discrete_ranges\":{},\"selected\":[],\"id\":\"83532b9e-99ca-4951-c94d-8c23bae9a6da\",\"doc\":null,\"tags\":[]}},{\"id\":\"a1489864-91f0-41f8-c195-65d4e017de0c\",\"type\":\"Quad\",\"attributes\":{\"fill_alpha\":{\"units\":\"data\",\"value\":0.7},\"bottom\":{\"units\":\"data\",\"field\":\"y0\"},\"doc\":null,\"right\":{\"units\":\"data\",\"field\":\"x1\"},\"fill_color\":{\"value\":\"red\"},\"top\":{\"units\":\"data\",\"field\":\"y1\"},\"line_color\":{\"value\":\"red\"},\"line_alpha\":{\"units\":\"data\",\"value\":1},\"id\":\"a1489864-91f0-41f8-c195-65d4e017de0c\",\"left\":{\"units\":\"data\",\"field\":\"x0\"},\"tags\":[]}},{\"id\":\"ea7453d7-5c05-4e89-cec3-72ac5fd3116d\",\"type\":\"Quad\",\"attributes\":{\"fill_alpha\":{\"units\":\"data\",\"value\":0.7},\"bottom\":{\"units\":\"data\",\"field\":\"y0\"},\"doc\":null,\"right\":{\"units\":\"data\",\"field\":\"x1\"},\"fill_color\":{\"value\":\"red\"},\"top\":{\"units\":\"data\",\"field\":\"y1\"},\"line_color\":{\"value\":\"red\"},\"line_alpha\":{\"units\":\"data\",\"value\":1},\"id\":\"ea7453d7-5c05-4e89-cec3-72ac5fd3116d\",\"left\":{\"units\":\"data\",\"field\":\"x0\"},\"tags\":[]}},{\"id\":\"cffa73c3-59c8-4fb5-cfc0-3335f4b36ab6\",\"type\":\"GlyphRenderer\",\"attributes\":{\"name\":null,\"nonselection_glyph\":{\"type\":\"Quad\",\"id\":\"ea7453d7-5c05-4e89-cec3-72ac5fd3116d\"},\"doc\":null,\"server_data_source\":null,\"data_source\":{\"type\":\"ColumnDataSource\",\"id\":\"83532b9e-99ca-4951-c94d-8c23bae9a6da\"},\"glyph\":{\"type\":\"Quad\",\"id\":\"a1489864-91f0-41f8-c195-65d4e017de0c\"},\"selection_glyph\":null,\"id\":\"cffa73c3-59c8-4fb5-cfc0-3335f4b36ab6\",\"tags\":[]}},{\"id\":\"c1b2b926-4da9-4f4d-cfe3-87d729f1b58e\",\"type\":\"DataRange1d\",\"attributes\":{\"sources\":[{\"columns\":[\"x0\",\"x1\"],\"source\":{\"type\":\"ColumnDataSource\",\"id\":\"83532b9e-99ca-4951-c94d-8c23bae9a6da\"}}],\"id\":\"c1b2b926-4da9-4f4d-cfe3-87d729f1b58e\",\"tags\":[],\"doc\":null}},{\"id\":\"16d83f8d-39f0-4a97-ca67-231560a0e5a5\",\"type\":\"DataRange1d\",\"attributes\":{\"sources\":[{\"columns\":[\"y1\",\"y0\"],\"source\":{\"type\":\"ColumnDataSource\",\"id\":\"83532b9e-99ca-4951-c94d-8c23bae9a6da\"}}],\"id\":\"16d83f8d-39f0-4a97-ca67-231560a0e5a5\",\"tags\":[],\"doc\":null}},{\"id\":\"e7321643-1bd0-447e-c4e0-586a9bb74bf3\",\"type\":\"ToolEvents\",\"attributes\":{\"tags\":[],\"id\":\"e7321643-1bd0-447e-c4e0-586a9bb74bf3\",\"geometries\":[],\"doc\":null}},{\"id\":\"f9e10c8b-10fe-4f75-cf7f-5c44aae5acbd\",\"type\":\"BasicTickFormatter\",\"attributes\":{\"id\":\"f9e10c8b-10fe-4f75-cf7f-5c44aae5acbd\",\"tags\":[],\"doc\":null}},{\"id\":\"6f714043-d69c-4664-c67d-dea4c07143a1\",\"type\":\"BasicTicker\",\"attributes\":{\"num_minor_ticks\":5,\"id\":\"6f714043-d69c-4664-c67d-dea4c07143a1\",\"tags\":[],\"doc\":null}},{\"id\":\"c9e0396b-3ade-408a-c024-effbb726f345\",\"type\":\"LinearAxis\",\"attributes\":{\"formatter\":{\"type\":\"BasicTickFormatter\",\"id\":\"f9e10c8b-10fe-4f75-cf7f-5c44aae5acbd\"},\"ticker\":{\"type\":\"BasicTicker\",\"id\":\"6f714043-d69c-4664-c67d-dea4c07143a1\"},\"plot\":{\"id\":\"9a4a0b2e-ad32-4045-c035-adaf483fd39f\",\"type\":\"Plot\",\"subtype\":\"Figure\"},\"axis_label\":null,\"id\":\"c9e0396b-3ade-408a-c024-effbb726f345\",\"doc\":null,\"tags\":[]}},{\"id\":\"3318c10a-9895-43f7-c305-e32a5244474d\",\"type\":\"Grid\",\"attributes\":{\"dimension\":0,\"plot\":{\"id\":\"9a4a0b2e-ad32-4045-c035-adaf483fd39f\",\"type\":\"Plot\",\"subtype\":\"Figure\"},\"ticker\":{\"type\":\"BasicTicker\",\"id\":\"6f714043-d69c-4664-c67d-dea4c07143a1\"},\"id\":\"3318c10a-9895-43f7-c305-e32a5244474d\",\"doc\":null,\"tags\":[]}},{\"id\":\"3e3ee461-82c6-4079-c0a0-5da8a759ad38\",\"type\":\"BasicTickFormatter\",\"attributes\":{\"id\":\"3e3ee461-82c6-4079-c0a0-5da8a759ad38\",\"tags\":[],\"doc\":null}},{\"id\":\"a47ce4d8-c7f9-4813-c846-09301e8a8224\",\"type\":\"BasicTicker\",\"attributes\":{\"num_minor_ticks\":5,\"id\":\"a47ce4d8-c7f9-4813-c846-09301e8a8224\",\"tags\":[],\"doc\":null}},{\"id\":\"29529925-cc05-402b-c0a4-5404e6c5b8fc\",\"type\":\"LinearAxis\",\"attributes\":{\"formatter\":{\"type\":\"BasicTickFormatter\",\"id\":\"3e3ee461-82c6-4079-c0a0-5da8a759ad38\"},\"ticker\":{\"type\":\"BasicTicker\",\"id\":\"a47ce4d8-c7f9-4813-c846-09301e8a8224\"},\"plot\":{\"id\":\"9a4a0b2e-ad32-4045-c035-adaf483fd39f\",\"type\":\"Plot\",\"subtype\":\"Figure\"},\"axis_label\":null,\"id\":\"29529925-cc05-402b-c0a4-5404e6c5b8fc\",\"doc\":null,\"tags\":[]}},{\"id\":\"99068f15-52eb-40c6-c0bd-6fae7b9d4641\",\"type\":\"Grid\",\"attributes\":{\"dimension\":1,\"plot\":{\"id\":\"9a4a0b2e-ad32-4045-c035-adaf483fd39f\",\"type\":\"Plot\",\"subtype\":\"Figure\"},\"ticker\":{\"type\":\"BasicTicker\",\"id\":\"a47ce4d8-c7f9-4813-c846-09301e8a8224\"},\"id\":\"99068f15-52eb-40c6-c0bd-6fae7b9d4641\",\"doc\":null,\"tags\":[]}},{\"id\":\"5122d3b7-c55a-4998-c967-ccac7ab728ae\",\"type\":\"PanTool\",\"attributes\":{\"plot\":{\"id\":\"9a4a0b2e-ad32-4045-c035-adaf483fd39f\",\"type\":\"Plot\",\"subtype\":\"Figure\"},\"dimensions\":[\"width\",\"height\"],\"id\":\"5122d3b7-c55a-4998-c967-ccac7ab728ae\",\"doc\":null,\"tags\":[]}},{\"id\":\"3ce5acbc-7f69-44b4-c4a2-dd3f94b5a565\",\"type\":\"WheelZoomTool\",\"attributes\":{\"plot\":{\"id\":\"9a4a0b2e-ad32-4045-c035-adaf483fd39f\",\"type\":\"Plot\",\"subtype\":\"Figure\"},\"dimensions\":[\"width\",\"height\"],\"id\":\"3ce5acbc-7f69-44b4-c4a2-dd3f94b5a565\",\"doc\":null,\"tags\":[]}},{\"id\":\"fb43fa6c-e1eb-428d-c280-7a4a434fd9af\",\"type\":\"BoxZoomTool\",\"attributes\":{\"plot\":{\"id\":\"9a4a0b2e-ad32-4045-c035-adaf483fd39f\",\"type\":\"Plot\",\"subtype\":\"Figure\"},\"id\":\"fb43fa6c-e1eb-428d-c280-7a4a434fd9af\",\"tags\":[],\"doc\":null}},{\"id\":\"2a0d165c-8bb0-48bb-c8fa-9d11614a91b3\",\"type\":\"PreviewSaveTool\",\"attributes\":{\"plot\":{\"id\":\"9a4a0b2e-ad32-4045-c035-adaf483fd39f\",\"type\":\"Plot\",\"subtype\":\"Figure\"},\"id\":\"2a0d165c-8bb0-48bb-c8fa-9d11614a91b3\",\"tags\":[],\"doc\":null}},{\"id\":\"235fef3c-123e-4e86-ced7-65c6fb93a158\",\"type\":\"ResizeTool\",\"attributes\":{\"plot\":{\"id\":\"9a4a0b2e-ad32-4045-c035-adaf483fd39f\",\"type\":\"Plot\",\"subtype\":\"Figure\"},\"id\":\"235fef3c-123e-4e86-ced7-65c6fb93a158\",\"tags\":[],\"doc\":null}},{\"id\":\"ddf2581e-0d8c-4037-c025-27a433289c6d\",\"type\":\"ResetTool\",\"attributes\":{\"plot\":{\"id\":\"9a4a0b2e-ad32-4045-c035-adaf483fd39f\",\"type\":\"Plot\",\"subtype\":\"Figure\"},\"id\":\"ddf2581e-0d8c-4037-c025-27a433289c6d\",\"tags\":[],\"doc\":null}},{\"id\":\"9a4a0b2e-ad32-4045-c035-adaf483fd39f\",\"type\":\"Plot\",\"attributes\":{\"x_range\":{\"type\":\"DataRange1d\",\"id\":\"c1b2b926-4da9-4f4d-cfe3-87d729f1b58e\"},\"tool_events\":{\"type\":\"ToolEvents\",\"id\":\"e7321643-1bd0-447e-c4e0-586a9bb74bf3\"},\"below\":[{\"type\":\"LinearAxis\",\"id\":\"c9e0396b-3ade-408a-c024-effbb726f345\"}],\"renderers\":[{\"type\":\"GlyphRenderer\",\"id\":\"cffa73c3-59c8-4fb5-cfc0-3335f4b36ab6\"},{\"type\":\"LinearAxis\",\"id\":\"c9e0396b-3ade-408a-c024-effbb726f345\"},{\"type\":\"Grid\",\"id\":\"3318c10a-9895-43f7-c305-e32a5244474d\"},{\"type\":\"LinearAxis\",\"id\":\"29529925-cc05-402b-c0a4-5404e6c5b8fc\"},{\"type\":\"Grid\",\"id\":\"99068f15-52eb-40c6-c0bd-6fae7b9d4641\"}],\"above\":[],\"tools\":[{\"type\":\"PanTool\",\"id\":\"5122d3b7-c55a-4998-c967-ccac7ab728ae\"},{\"type\":\"WheelZoomTool\",\"id\":\"3ce5acbc-7f69-44b4-c4a2-dd3f94b5a565\"},{\"type\":\"BoxZoomTool\",\"id\":\"fb43fa6c-e1eb-428d-c280-7a4a434fd9af\"},{\"type\":\"PreviewSaveTool\",\"id\":\"2a0d165c-8bb0-48bb-c8fa-9d11614a91b3\"},{\"type\":\"ResizeTool\",\"id\":\"235fef3c-123e-4e86-ced7-65c6fb93a158\"},{\"type\":\"ResetTool\",\"id\":\"ddf2581e-0d8c-4037-c025-27a433289c6d\"}],\"doc\":null,\"right\":[],\"title\":\"Untitled Plot\",\"extra_x_ranges\":{},\"left\":[{\"type\":\"LinearAxis\",\"id\":\"29529925-cc05-402b-c0a4-5404e6c5b8fc\"}],\"y_range\":{\"type\":\"DataRange1d\",\"id\":\"16d83f8d-39f0-4a97-ca67-231560a0e5a5\"},\"id\":\"9a4a0b2e-ad32-4045-c035-adaf483fd39f\",\"extra_y_ranges\":{},\"tags\":[]}}];\n",
       "  Bokeh.load_models(all_models);\n",
       "  var model = Bokeh.Collections(modeltype).get(modelid);\n",
       "  $(\"#236ac5c1-68b9-44be-c48f-ad6e1cbdd3cd\").html(''); // clear any previous plot in window_id\n",
       "  var view = new model.default_view({model: model, el: \"#236ac5c1-68b9-44be-c48f-ad6e1cbdd3cd\"});\n",
       "    } else {\n",
       "  load_lib(bokehjs_url, function() {\n",
       "      console.log(\"Bokeh: BokehJS plotting callback run at\", new Date())\n",
       "      var modelid = \"9a4a0b2e-ad32-4045-c035-adaf483fd39f\";\n",
       "      var modeltype = \"Plot\";\n",
       "      var all_models = [{\"id\":\"83532b9e-99ca-4951-c94d-8c23bae9a6da\",\"type\":\"ColumnDataSource\",\"attributes\":{\"data\":{\"y1\":[3,2,0,0,1,0,1,2,1,5,4,1,8,3,4,9,12,25,22,33,18,28,33,38,35,52,51,66,66,81,77,93,106,121,129,142,160,185,162,191,188,193,202,218,233,258,260,269,261,275,297,243,301,314,264,286,279,236,257,268,246,244,219,220,181,191,159,143,148,114,123,120,99,87,90,65,79,66,51,43,28,33,28,31,15,21,11,12,10,8,4,11,10,2,4,1,5,1,3,2],\"x0\":[-3.6931076049805,-3.6220233440399,-3.5509388446808,-3.4798545837402,-3.4087703227997,-3.3376858234406,-3.2666015625,-3.1955173015594,-3.1244328022003,-3.0533485412598,-2.9822642803192,-2.9111800193787,-2.8400955200195,-2.7690110206604,-2.6979267597198,-2.6268424987793,-2.5557579994202,-2.4846737384796,-2.4135894775391,-2.3425052165985,-2.271420955658,-2.2003364562988,-2.1292521953583,-2.0581679344177,-1.9870834350586,-1.9159990549088,-1.8449146747589,-1.7738304138184,-1.7027460336685,-1.6316616535187,-1.5605773925781,-1.4894931316376,-1.4184086322784,-1.3473243713379,-1.2762398719788,-1.2051556110382,-1.1340713500977,-1.0629870891571,-0.99190282821655,-0.92081832885742,-0.84973406791687,-0.77864956855774,-0.70756530761719,-0.63648080825806,-0.56539678573608,-0.49431228637695,-0.4232280254364,-0.35214352607727,-0.28105926513672,-0.20997500419617,-0.13889050483704,-0.067806243896484,0.0032782554626465,0.074362277984619,0.14544677734375,0.2165310382843,0.28761553764343,0.35869979858398,0.42978429794312,0.50086879730225,0.57195281982422,0.64303684234619,0.71412134170532,0.78520584106445,0.85629034042358,0.92737436294556,0.99845886230469,1.0695433616638,1.1406278610229,1.2117118835449,1.2827963829041,1.353880405426,1.4249649047852,1.4960489273071,1.5671334266663,1.6382179260254,1.7093019485474,1.7803864479065,1.8514709472656,1.9225554466248,1.9936394691467,2.0647239685059,2.135808467865,2.2068929672241,2.2779769897461,2.3490614891052,2.4201459884644,2.4912304878235,2.5623140335083,2.6333985328674,2.7044830322266,2.7755670547485,2.8466515541077,2.9177360534668,2.9888205528259,3.0599045753479,3.130989074707,3.2020735740662,3.2731575965881,3.3442420959473],\"x1\":[-3.6227340698242,-3.5516498088837,-3.4805653095245,-3.409481048584,-3.3383967876434,-3.2673122882843,-3.1962280273438,-3.1251437664032,-3.0540592670441,-2.9829750061035,-2.911890745163,-2.8408064842224,-2.7697219848633,-2.6986374855042,-2.6275532245636,-2.556468963623,-2.4853844642639,-2.4143002033234,-2.3432159423828,-2.2721316814423,-2.2010474205017,-2.1299629211426,-2.058878660202,-1.9877943992615,-1.9167098999023,-1.8456255197525,-1.7745411396027,-1.7034568786621,-1.6323724985123,-1.5612881183624,-1.4902038574219,-1.4191195964813,-1.3480350971222,-1.2769508361816,-1.2058663368225,-1.134782075882,-1.0636978149414,-0.9926136136055,-0.92152935266495,-0.85044485330582,-0.77936059236526,-0.70827609300613,-0.63719183206558,-0.56610733270645,-0.49502328038216,-0.42393878102303,-0.35285452008247,-0.28177002072334,-0.21068575978279,-0.13960149884224,-0.068517006933689,0.0025672540068626,0.073651753365993,0.14473578333855,0.21582028269768,0.28690454363823,0.35798904299736,0.42907330393791,0.50015777349472,0.57124227285385,0.64232629537582,0.7134103178978,0.78449481725693,0.85557931661606,0.92666381597519,0.99774783849716,1.0688323974609,1.1399168968201,1.2110013961792,1.2820854187012,1.3531699180603,1.4242539405823,1.4953384399414,1.5664224624634,1.6375069618225,1.7085914611816,1.7796754837036,1.8507599830627,1.9218444824219,1.992928981781,2.064013004303,2.1350975036621,2.2061820030212,2.2772665023804,2.3483505249023,2.4194350242615,2.4905195236206,2.5616040229797,2.6326875686646,2.7037720680237,2.7748565673828,2.8459405899048,2.9170250892639,2.988109588623,3.0591940879822,3.1302781105042,3.2013626098633,3.2724471092224,3.3435311317444,3.4146156311035],\"y0\":[0,0,0,0,0,0,0,0,0,0,0,0,0,0,0,0,0,0,0,0,0,0,0,0,0,0,0,0,0,0,0,0,0,0,0,0,0,0,0,0,0,0,0,0,0,0,0,0,0,0,0,0,0,0,0,0,0,0,0,0,0,0,0,0,0,0,0,0,0,0,0,0,0,0,0,0,0,0,0,0,0,0,0,0,0,0,0,0,0,0,0,0,0,0,0,0,0,0,0,0]},\"column_names\":[\"y1\",\"x0\",\"x1\",\"y0\"],\"cont_ranges\":{},\"discrete_ranges\":{},\"selected\":[],\"id\":\"83532b9e-99ca-4951-c94d-8c23bae9a6da\",\"doc\":null,\"tags\":[]}},{\"id\":\"a1489864-91f0-41f8-c195-65d4e017de0c\",\"type\":\"Quad\",\"attributes\":{\"fill_alpha\":{\"units\":\"data\",\"value\":0.7},\"bottom\":{\"units\":\"data\",\"field\":\"y0\"},\"doc\":null,\"right\":{\"units\":\"data\",\"field\":\"x1\"},\"fill_color\":{\"value\":\"red\"},\"top\":{\"units\":\"data\",\"field\":\"y1\"},\"line_color\":{\"value\":\"red\"},\"line_alpha\":{\"units\":\"data\",\"value\":1},\"id\":\"a1489864-91f0-41f8-c195-65d4e017de0c\",\"left\":{\"units\":\"data\",\"field\":\"x0\"},\"tags\":[]}},{\"id\":\"ea7453d7-5c05-4e89-cec3-72ac5fd3116d\",\"type\":\"Quad\",\"attributes\":{\"fill_alpha\":{\"units\":\"data\",\"value\":0.7},\"bottom\":{\"units\":\"data\",\"field\":\"y0\"},\"doc\":null,\"right\":{\"units\":\"data\",\"field\":\"x1\"},\"fill_color\":{\"value\":\"red\"},\"top\":{\"units\":\"data\",\"field\":\"y1\"},\"line_color\":{\"value\":\"red\"},\"line_alpha\":{\"units\":\"data\",\"value\":1},\"id\":\"ea7453d7-5c05-4e89-cec3-72ac5fd3116d\",\"left\":{\"units\":\"data\",\"field\":\"x0\"},\"tags\":[]}},{\"id\":\"cffa73c3-59c8-4fb5-cfc0-3335f4b36ab6\",\"type\":\"GlyphRenderer\",\"attributes\":{\"name\":null,\"nonselection_glyph\":{\"type\":\"Quad\",\"id\":\"ea7453d7-5c05-4e89-cec3-72ac5fd3116d\"},\"doc\":null,\"server_data_source\":null,\"data_source\":{\"type\":\"ColumnDataSource\",\"id\":\"83532b9e-99ca-4951-c94d-8c23bae9a6da\"},\"glyph\":{\"type\":\"Quad\",\"id\":\"a1489864-91f0-41f8-c195-65d4e017de0c\"},\"selection_glyph\":null,\"id\":\"cffa73c3-59c8-4fb5-cfc0-3335f4b36ab6\",\"tags\":[]}},{\"id\":\"c1b2b926-4da9-4f4d-cfe3-87d729f1b58e\",\"type\":\"DataRange1d\",\"attributes\":{\"sources\":[{\"columns\":[\"x0\",\"x1\"],\"source\":{\"type\":\"ColumnDataSource\",\"id\":\"83532b9e-99ca-4951-c94d-8c23bae9a6da\"}}],\"id\":\"c1b2b926-4da9-4f4d-cfe3-87d729f1b58e\",\"tags\":[],\"doc\":null}},{\"id\":\"16d83f8d-39f0-4a97-ca67-231560a0e5a5\",\"type\":\"DataRange1d\",\"attributes\":{\"sources\":[{\"columns\":[\"y1\",\"y0\"],\"source\":{\"type\":\"ColumnDataSource\",\"id\":\"83532b9e-99ca-4951-c94d-8c23bae9a6da\"}}],\"id\":\"16d83f8d-39f0-4a97-ca67-231560a0e5a5\",\"tags\":[],\"doc\":null}},{\"id\":\"e7321643-1bd0-447e-c4e0-586a9bb74bf3\",\"type\":\"ToolEvents\",\"attributes\":{\"tags\":[],\"id\":\"e7321643-1bd0-447e-c4e0-586a9bb74bf3\",\"geometries\":[],\"doc\":null}},{\"id\":\"f9e10c8b-10fe-4f75-cf7f-5c44aae5acbd\",\"type\":\"BasicTickFormatter\",\"attributes\":{\"id\":\"f9e10c8b-10fe-4f75-cf7f-5c44aae5acbd\",\"tags\":[],\"doc\":null}},{\"id\":\"6f714043-d69c-4664-c67d-dea4c07143a1\",\"type\":\"BasicTicker\",\"attributes\":{\"num_minor_ticks\":5,\"id\":\"6f714043-d69c-4664-c67d-dea4c07143a1\",\"tags\":[],\"doc\":null}},{\"id\":\"c9e0396b-3ade-408a-c024-effbb726f345\",\"type\":\"LinearAxis\",\"attributes\":{\"formatter\":{\"type\":\"BasicTickFormatter\",\"id\":\"f9e10c8b-10fe-4f75-cf7f-5c44aae5acbd\"},\"ticker\":{\"type\":\"BasicTicker\",\"id\":\"6f714043-d69c-4664-c67d-dea4c07143a1\"},\"plot\":{\"id\":\"9a4a0b2e-ad32-4045-c035-adaf483fd39f\",\"type\":\"Plot\",\"subtype\":\"Figure\"},\"axis_label\":null,\"id\":\"c9e0396b-3ade-408a-c024-effbb726f345\",\"doc\":null,\"tags\":[]}},{\"id\":\"3318c10a-9895-43f7-c305-e32a5244474d\",\"type\":\"Grid\",\"attributes\":{\"dimension\":0,\"plot\":{\"id\":\"9a4a0b2e-ad32-4045-c035-adaf483fd39f\",\"type\":\"Plot\",\"subtype\":\"Figure\"},\"ticker\":{\"type\":\"BasicTicker\",\"id\":\"6f714043-d69c-4664-c67d-dea4c07143a1\"},\"id\":\"3318c10a-9895-43f7-c305-e32a5244474d\",\"doc\":null,\"tags\":[]}},{\"id\":\"3e3ee461-82c6-4079-c0a0-5da8a759ad38\",\"type\":\"BasicTickFormatter\",\"attributes\":{\"id\":\"3e3ee461-82c6-4079-c0a0-5da8a759ad38\",\"tags\":[],\"doc\":null}},{\"id\":\"a47ce4d8-c7f9-4813-c846-09301e8a8224\",\"type\":\"BasicTicker\",\"attributes\":{\"num_minor_ticks\":5,\"id\":\"a47ce4d8-c7f9-4813-c846-09301e8a8224\",\"tags\":[],\"doc\":null}},{\"id\":\"29529925-cc05-402b-c0a4-5404e6c5b8fc\",\"type\":\"LinearAxis\",\"attributes\":{\"formatter\":{\"type\":\"BasicTickFormatter\",\"id\":\"3e3ee461-82c6-4079-c0a0-5da8a759ad38\"},\"ticker\":{\"type\":\"BasicTicker\",\"id\":\"a47ce4d8-c7f9-4813-c846-09301e8a8224\"},\"plot\":{\"id\":\"9a4a0b2e-ad32-4045-c035-adaf483fd39f\",\"type\":\"Plot\",\"subtype\":\"Figure\"},\"axis_label\":null,\"id\":\"29529925-cc05-402b-c0a4-5404e6c5b8fc\",\"doc\":null,\"tags\":[]}},{\"id\":\"99068f15-52eb-40c6-c0bd-6fae7b9d4641\",\"type\":\"Grid\",\"attributes\":{\"dimension\":1,\"plot\":{\"id\":\"9a4a0b2e-ad32-4045-c035-adaf483fd39f\",\"type\":\"Plot\",\"subtype\":\"Figure\"},\"ticker\":{\"type\":\"BasicTicker\",\"id\":\"a47ce4d8-c7f9-4813-c846-09301e8a8224\"},\"id\":\"99068f15-52eb-40c6-c0bd-6fae7b9d4641\",\"doc\":null,\"tags\":[]}},{\"id\":\"5122d3b7-c55a-4998-c967-ccac7ab728ae\",\"type\":\"PanTool\",\"attributes\":{\"plot\":{\"id\":\"9a4a0b2e-ad32-4045-c035-adaf483fd39f\",\"type\":\"Plot\",\"subtype\":\"Figure\"},\"dimensions\":[\"width\",\"height\"],\"id\":\"5122d3b7-c55a-4998-c967-ccac7ab728ae\",\"doc\":null,\"tags\":[]}},{\"id\":\"3ce5acbc-7f69-44b4-c4a2-dd3f94b5a565\",\"type\":\"WheelZoomTool\",\"attributes\":{\"plot\":{\"id\":\"9a4a0b2e-ad32-4045-c035-adaf483fd39f\",\"type\":\"Plot\",\"subtype\":\"Figure\"},\"dimensions\":[\"width\",\"height\"],\"id\":\"3ce5acbc-7f69-44b4-c4a2-dd3f94b5a565\",\"doc\":null,\"tags\":[]}},{\"id\":\"fb43fa6c-e1eb-428d-c280-7a4a434fd9af\",\"type\":\"BoxZoomTool\",\"attributes\":{\"plot\":{\"id\":\"9a4a0b2e-ad32-4045-c035-adaf483fd39f\",\"type\":\"Plot\",\"subtype\":\"Figure\"},\"id\":\"fb43fa6c-e1eb-428d-c280-7a4a434fd9af\",\"tags\":[],\"doc\":null}},{\"id\":\"2a0d165c-8bb0-48bb-c8fa-9d11614a91b3\",\"type\":\"PreviewSaveTool\",\"attributes\":{\"plot\":{\"id\":\"9a4a0b2e-ad32-4045-c035-adaf483fd39f\",\"type\":\"Plot\",\"subtype\":\"Figure\"},\"id\":\"2a0d165c-8bb0-48bb-c8fa-9d11614a91b3\",\"tags\":[],\"doc\":null}},{\"id\":\"235fef3c-123e-4e86-ced7-65c6fb93a158\",\"type\":\"ResizeTool\",\"attributes\":{\"plot\":{\"id\":\"9a4a0b2e-ad32-4045-c035-adaf483fd39f\",\"type\":\"Plot\",\"subtype\":\"Figure\"},\"id\":\"235fef3c-123e-4e86-ced7-65c6fb93a158\",\"tags\":[],\"doc\":null}},{\"id\":\"ddf2581e-0d8c-4037-c025-27a433289c6d\",\"type\":\"ResetTool\",\"attributes\":{\"plot\":{\"id\":\"9a4a0b2e-ad32-4045-c035-adaf483fd39f\",\"type\":\"Plot\",\"subtype\":\"Figure\"},\"id\":\"ddf2581e-0d8c-4037-c025-27a433289c6d\",\"tags\":[],\"doc\":null}},{\"id\":\"9a4a0b2e-ad32-4045-c035-adaf483fd39f\",\"type\":\"Plot\",\"attributes\":{\"x_range\":{\"type\":\"DataRange1d\",\"id\":\"c1b2b926-4da9-4f4d-cfe3-87d729f1b58e\"},\"tool_events\":{\"type\":\"ToolEvents\",\"id\":\"e7321643-1bd0-447e-c4e0-586a9bb74bf3\"},\"below\":[{\"type\":\"LinearAxis\",\"id\":\"c9e0396b-3ade-408a-c024-effbb726f345\"}],\"renderers\":[{\"type\":\"GlyphRenderer\",\"id\":\"cffa73c3-59c8-4fb5-cfc0-3335f4b36ab6\"},{\"type\":\"LinearAxis\",\"id\":\"c9e0396b-3ade-408a-c024-effbb726f345\"},{\"type\":\"Grid\",\"id\":\"3318c10a-9895-43f7-c305-e32a5244474d\"},{\"type\":\"LinearAxis\",\"id\":\"29529925-cc05-402b-c0a4-5404e6c5b8fc\"},{\"type\":\"Grid\",\"id\":\"99068f15-52eb-40c6-c0bd-6fae7b9d4641\"}],\"above\":[],\"tools\":[{\"type\":\"PanTool\",\"id\":\"5122d3b7-c55a-4998-c967-ccac7ab728ae\"},{\"type\":\"WheelZoomTool\",\"id\":\"3ce5acbc-7f69-44b4-c4a2-dd3f94b5a565\"},{\"type\":\"BoxZoomTool\",\"id\":\"fb43fa6c-e1eb-428d-c280-7a4a434fd9af\"},{\"type\":\"PreviewSaveTool\",\"id\":\"2a0d165c-8bb0-48bb-c8fa-9d11614a91b3\"},{\"type\":\"ResizeTool\",\"id\":\"235fef3c-123e-4e86-ced7-65c6fb93a158\"},{\"type\":\"ResetTool\",\"id\":\"ddf2581e-0d8c-4037-c025-27a433289c6d\"}],\"doc\":null,\"right\":[],\"title\":\"Untitled Plot\",\"extra_x_ranges\":{},\"left\":[{\"type\":\"LinearAxis\",\"id\":\"29529925-cc05-402b-c0a4-5404e6c5b8fc\"}],\"y_range\":{\"type\":\"DataRange1d\",\"id\":\"16d83f8d-39f0-4a97-ca67-231560a0e5a5\"},\"id\":\"9a4a0b2e-ad32-4045-c035-adaf483fd39f\",\"extra_y_ranges\":{},\"tags\":[]}}];\n",
       "      Bokeh.load_models(all_models);\n",
       "      var model = Bokeh.Collections(modeltype).get(modelid);\n",
       "      $(\"#236ac5c1-68b9-44be-c48f-ad6e1cbdd3cd\").html(''); // clear any previous plot in window_id\n",
       "      var view = new model.default_view({model: model, el: \"#236ac5c1-68b9-44be-c48f-ad6e1cbdd3cd\"});\n",
       "  });\n",
       "    }\n",
       "});\n",
       "</script>\n",
       "<div class=\"plotdiv\" id=\"236ac5c1-68b9-44be-c48f-ad6e1cbdd3cd\"></div>\n"
      ]
     },
     "metadata": {},
     "output_type": "display_data"
    }
   ],
   "source": [
    "plot2 = Plot():histogram(torch.randn(10000)):draw()"
   ]
  },
  {
   "cell_type": "code",
   "execution_count": null,
   "metadata": {
    "collapsed": true
   },
   "outputs": [],
   "source": []
  },
  {
   "cell_type": "code",
   "execution_count": null,
   "metadata": {
    "collapsed": true
   },
   "outputs": [],
   "source": []
  },
  {
   "cell_type": "code",
   "execution_count": null,
   "metadata": {
    "collapsed": true
   },
   "outputs": [],
   "source": []
  },
  {
   "cell_type": "code",
   "execution_count": null,
   "metadata": {
    "collapsed": true
   },
   "outputs": [],
   "source": []
  }
 ],
 "metadata": {
  "kernelspec": {
   "display_name": "iTorch",
   "language": "lua",
   "name": "itorch"
  },
  "language_info": {
   "name": "lua",
   "version": "5.1"
  }
 },
 "nbformat": 4,
 "nbformat_minor": 1
}
